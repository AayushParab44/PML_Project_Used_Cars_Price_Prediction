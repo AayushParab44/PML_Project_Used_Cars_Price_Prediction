{
 "cells": [
  {
   "cell_type": "code",
   "execution_count": 1,
   "id": "5f7afd0c-6987-4e83-9dd0-49b00815c08b",
   "metadata": {},
   "outputs": [],
   "source": [
    "import pandas as pd\n",
    "import numpy as np\n",
    "import matplotlib\n",
    "from matplotlib import pyplot as plt\n",
    "import pylab\n",
    "from pylab import legend, plot, show, title, xlabel, ylabel\n",
    "import seaborn as sns\n",
    "from numpy import random\n",
    "import statsmodels.api as sm\n",
    "from statsmodels.formula.api import ols\n",
    "import statsmodels.stats.multicomp\n",
    "import os\n",
    "import scipy \n",
    "from scipy import stats\n",
    "from scipy.stats import binom\n",
    "from scipy.stats import poisson, norm, t\n",
    "from scipy.stats import chisquare\n",
    "from scipy.stats import chi2_contingency\n",
    "from sklearn.model_selection import train_test_split\n",
    "from sklearn.metrics import confusion_matrix\n",
    "from sklearn.metrics import classification_report\n",
    "from statsmodels.stats.outliers_influence import variance_inflation_factor\n",
    "\n",
    "# from statsmodels import discrete\n",
    "# from statsmodels.discrete import discrete_model\n",
    "# from statsmodels.discrete.discrete_model import MNLogit #multi nominal\n",
    "# from statsmodels.miscmodels.ordinal_model import OrderedModel #multi nominal\n",
    "\n",
    "# import statsmodels.formula.api as smf\n",
    "# from statsmodels.discrete.discrete_model import Poisson as psn\n",
    "\n",
    "# from statsmodels.discrete.discrete_model import NegativeBinomial as ngb\n",
    "# from sklearn.preprocessing import MinMaxScaler\n",
    "# from sklearn.preprocessing import StandardScaler\n",
    "# from sklearn.feature_selection import mutual_info_classif\n",
    "# from sklearn.feature_selection import mutual_info_classif\n",
    "# from sklearn.feature_selection import SelectKBest\n",
    "# from sklearn.ensemble import ExtraTreesClassifier\n",
    "\n",
    "# from sklearn.feature_selection import SequentialFeatureSelector\n",
    "# from sklearn.linear_model import LinearRegression\n",
    "\n",
    "# from sklearn.linear_model import Ridge\n",
    "# from sklearn.model_selection import GridSearchCV\n",
    "\n",
    "# from sklearn.linear_model import Lasso\n",
    "# from sklearn.model_selection import GridSearchCV\n",
    "\n",
    "# from sklearn.tree import DecisionTreeClassifier,plot_tree\n",
    "# from sklearn.preprocessing import StandardScaler\n",
    "# from sklearn.decomposition import PCA\n",
    "# from sklearn.discriminant_analysis import LinearDiscriminantAnalysis\n",
    "\n",
    "# from sklearn.neighbors import KNeighborsClassifier\n",
    "# from sklearn.naive_bayes import GaussianNB\n",
    "# from sklearn import svm\n",
    "\n",
    "# from sklearn.cluster import KMeans\n",
    "# import scipy.cluster.hierarchy as sch\n",
    "# from statsmodels.tsa.seasonal import seasonal_decompose\n",
    "# from sklearn.metrics import mean_squared_error\n",
    "# import warnings \n",
    "# warnings.filterwarnings('ignore')\n",
    "\n",
    "# from statsmodels.tsa.api import SimpleExpSmoothing\n",
    "# from statsmodels.tsa.api import Holt\n",
    "\n",
    "# from statsmodels.tsa.stattools import adfuller\n",
    "# from statsmodels.graphics.tsaplots import plot_acf,plot_pacf\n",
    "# from statsmodels.tsa.arima.model import ARIMA\n",
    "# from statsmodels.tsa.stattools import adfuller"
   ]
  },
  {
   "cell_type": "code",
   "execution_count": 2,
   "id": "587c9271-86ec-4013-84ed-07c4f0ac4bdb",
   "metadata": {},
   "outputs": [],
   "source": [
    "# cars=pd.read_csv('used_cars_data.csv')  #enter path of dataset here"
   ]
  },
  {
   "cell_type": "code",
   "execution_count": null,
   "id": "3f8d3ca8-3694-4226-9767-b1c823067cf4",
   "metadata": {},
   "outputs": [],
   "source": []
  },
  {
   "cell_type": "code",
   "execution_count": 3,
   "id": "23bee9b3-b797-4b08-8e51-3b52f8e95bc0",
   "metadata": {},
   "outputs": [],
   "source": [
    "# !pip install kagglehub"
   ]
  },
  {
   "cell_type": "code",
   "execution_count": 4,
   "id": "4f2a4d5b-1e04-40fe-97a4-adb69f69dc20",
   "metadata": {},
   "outputs": [],
   "source": [
    "#run only once to download the dataset-\n",
    "# import kagglehub\n",
    "\n",
    "# # Download latest version\n",
    "# path = kagglehub.dataset_download(\"ananaymital/us-used-cars-dataset\")\n",
    "\n",
    "# print(\"Path to dataset files:\", path)"
   ]
  },
  {
   "cell_type": "code",
   "execution_count": 6,
   "id": "02f73ae4-b445-460d-9045-c2e368ca82c7",
   "metadata": {},
   "outputs": [
    {
     "name": "stderr",
     "output_type": "stream",
     "text": [
      "C:\\Users\\AAYUSH\\AppData\\Local\\Temp\\ipykernel_13244\\3143018783.py:2: DtypeWarning: Columns (11) have mixed types. Specify dtype option on import or set low_memory=False.\n",
      "  cars=pd.read_csv(path)\n"
     ]
    }
   ],
   "source": [
    "path=r'C:\\Users\\AAYUSH\\Desktop\\pml_dataset\\used_cars_data.csv'\n",
    "cars=pd.read_csv(path)"
   ]
  },
  {
   "cell_type": "code",
   "execution_count": null,
   "id": "2f441544-ba23-4c90-b176-cd6b1509e96e",
   "metadata": {},
   "outputs": [],
   "source": []
  },
  {
   "cell_type": "code",
   "execution_count": 7,
   "id": "1d03e35e-59c2-4ffc-b96a-c16f7ef62819",
   "metadata": {},
   "outputs": [
    {
     "data": {
      "text/html": [
       "<div>\n",
       "<style scoped>\n",
       "    .dataframe tbody tr th:only-of-type {\n",
       "        vertical-align: middle;\n",
       "    }\n",
       "\n",
       "    .dataframe tbody tr th {\n",
       "        vertical-align: top;\n",
       "    }\n",
       "\n",
       "    .dataframe thead th {\n",
       "        text-align: right;\n",
       "    }\n",
       "</style>\n",
       "<table border=\"1\" class=\"dataframe\">\n",
       "  <thead>\n",
       "    <tr style=\"text-align: right;\">\n",
       "      <th></th>\n",
       "      <th>vin</th>\n",
       "      <th>back_legroom</th>\n",
       "      <th>bed</th>\n",
       "      <th>bed_height</th>\n",
       "      <th>bed_length</th>\n",
       "      <th>body_type</th>\n",
       "      <th>cabin</th>\n",
       "      <th>city</th>\n",
       "      <th>city_fuel_economy</th>\n",
       "      <th>combine_fuel_economy</th>\n",
       "      <th>...</th>\n",
       "      <th>transmission</th>\n",
       "      <th>transmission_display</th>\n",
       "      <th>trimId</th>\n",
       "      <th>trim_name</th>\n",
       "      <th>vehicle_damage_category</th>\n",
       "      <th>wheel_system</th>\n",
       "      <th>wheel_system_display</th>\n",
       "      <th>wheelbase</th>\n",
       "      <th>width</th>\n",
       "      <th>year</th>\n",
       "    </tr>\n",
       "  </thead>\n",
       "  <tbody>\n",
       "    <tr>\n",
       "      <th>0</th>\n",
       "      <td>ZACNJABB5KPJ92081</td>\n",
       "      <td>35.1 in</td>\n",
       "      <td>NaN</td>\n",
       "      <td>NaN</td>\n",
       "      <td>NaN</td>\n",
       "      <td>SUV / Crossover</td>\n",
       "      <td>NaN</td>\n",
       "      <td>Bayamon</td>\n",
       "      <td>NaN</td>\n",
       "      <td>NaN</td>\n",
       "      <td>...</td>\n",
       "      <td>A</td>\n",
       "      <td>9-Speed Automatic Overdrive</td>\n",
       "      <td>t83804</td>\n",
       "      <td>Latitude FWD</td>\n",
       "      <td>NaN</td>\n",
       "      <td>FWD</td>\n",
       "      <td>Front-Wheel Drive</td>\n",
       "      <td>101.2 in</td>\n",
       "      <td>79.6 in</td>\n",
       "      <td>2019</td>\n",
       "    </tr>\n",
       "    <tr>\n",
       "      <th>1</th>\n",
       "      <td>SALCJ2FX1LH858117</td>\n",
       "      <td>38.1 in</td>\n",
       "      <td>NaN</td>\n",
       "      <td>NaN</td>\n",
       "      <td>NaN</td>\n",
       "      <td>SUV / Crossover</td>\n",
       "      <td>NaN</td>\n",
       "      <td>San Juan</td>\n",
       "      <td>NaN</td>\n",
       "      <td>NaN</td>\n",
       "      <td>...</td>\n",
       "      <td>A</td>\n",
       "      <td>9-Speed Automatic Overdrive</td>\n",
       "      <td>t86759</td>\n",
       "      <td>S AWD</td>\n",
       "      <td>NaN</td>\n",
       "      <td>AWD</td>\n",
       "      <td>All-Wheel Drive</td>\n",
       "      <td>107.9 in</td>\n",
       "      <td>85.6 in</td>\n",
       "      <td>2020</td>\n",
       "    </tr>\n",
       "    <tr>\n",
       "      <th>2</th>\n",
       "      <td>JF1VA2M67G9829723</td>\n",
       "      <td>35.4 in</td>\n",
       "      <td>NaN</td>\n",
       "      <td>NaN</td>\n",
       "      <td>NaN</td>\n",
       "      <td>Sedan</td>\n",
       "      <td>NaN</td>\n",
       "      <td>Guaynabo</td>\n",
       "      <td>17.0</td>\n",
       "      <td>NaN</td>\n",
       "      <td>...</td>\n",
       "      <td>M</td>\n",
       "      <td>6-Speed Manual</td>\n",
       "      <td>t58994</td>\n",
       "      <td>Base</td>\n",
       "      <td>NaN</td>\n",
       "      <td>AWD</td>\n",
       "      <td>All-Wheel Drive</td>\n",
       "      <td>104.3 in</td>\n",
       "      <td>78.9 in</td>\n",
       "      <td>2016</td>\n",
       "    </tr>\n",
       "    <tr>\n",
       "      <th>3</th>\n",
       "      <td>SALRR2RV0L2433391</td>\n",
       "      <td>37.6 in</td>\n",
       "      <td>NaN</td>\n",
       "      <td>NaN</td>\n",
       "      <td>NaN</td>\n",
       "      <td>SUV / Crossover</td>\n",
       "      <td>NaN</td>\n",
       "      <td>San Juan</td>\n",
       "      <td>NaN</td>\n",
       "      <td>NaN</td>\n",
       "      <td>...</td>\n",
       "      <td>A</td>\n",
       "      <td>8-Speed Automatic Overdrive</td>\n",
       "      <td>t86074</td>\n",
       "      <td>V6 HSE AWD</td>\n",
       "      <td>NaN</td>\n",
       "      <td>AWD</td>\n",
       "      <td>All-Wheel Drive</td>\n",
       "      <td>115 in</td>\n",
       "      <td>87.4 in</td>\n",
       "      <td>2020</td>\n",
       "    </tr>\n",
       "    <tr>\n",
       "      <th>4</th>\n",
       "      <td>SALCJ2FXXLH862327</td>\n",
       "      <td>38.1 in</td>\n",
       "      <td>NaN</td>\n",
       "      <td>NaN</td>\n",
       "      <td>NaN</td>\n",
       "      <td>SUV / Crossover</td>\n",
       "      <td>NaN</td>\n",
       "      <td>San Juan</td>\n",
       "      <td>NaN</td>\n",
       "      <td>NaN</td>\n",
       "      <td>...</td>\n",
       "      <td>A</td>\n",
       "      <td>9-Speed Automatic Overdrive</td>\n",
       "      <td>t86759</td>\n",
       "      <td>S AWD</td>\n",
       "      <td>NaN</td>\n",
       "      <td>AWD</td>\n",
       "      <td>All-Wheel Drive</td>\n",
       "      <td>107.9 in</td>\n",
       "      <td>85.6 in</td>\n",
       "      <td>2020</td>\n",
       "    </tr>\n",
       "  </tbody>\n",
       "</table>\n",
       "<p>5 rows × 66 columns</p>\n",
       "</div>"
      ],
      "text/plain": [
       "                 vin back_legroom  bed bed_height bed_length        body_type  \\\n",
       "0  ZACNJABB5KPJ92081      35.1 in  NaN        NaN        NaN  SUV / Crossover   \n",
       "1  SALCJ2FX1LH858117      38.1 in  NaN        NaN        NaN  SUV / Crossover   \n",
       "2  JF1VA2M67G9829723      35.4 in  NaN        NaN        NaN            Sedan   \n",
       "3  SALRR2RV0L2433391      37.6 in  NaN        NaN        NaN  SUV / Crossover   \n",
       "4  SALCJ2FXXLH862327      38.1 in  NaN        NaN        NaN  SUV / Crossover   \n",
       "\n",
       "  cabin      city  city_fuel_economy  combine_fuel_economy  ...  transmission  \\\n",
       "0   NaN   Bayamon                NaN                   NaN  ...             A   \n",
       "1   NaN  San Juan                NaN                   NaN  ...             A   \n",
       "2   NaN  Guaynabo               17.0                   NaN  ...             M   \n",
       "3   NaN  San Juan                NaN                   NaN  ...             A   \n",
       "4   NaN  San Juan                NaN                   NaN  ...             A   \n",
       "\n",
       "          transmission_display  trimId     trim_name  vehicle_damage_category  \\\n",
       "0  9-Speed Automatic Overdrive  t83804  Latitude FWD                      NaN   \n",
       "1  9-Speed Automatic Overdrive  t86759         S AWD                      NaN   \n",
       "2               6-Speed Manual  t58994          Base                      NaN   \n",
       "3  8-Speed Automatic Overdrive  t86074    V6 HSE AWD                      NaN   \n",
       "4  9-Speed Automatic Overdrive  t86759         S AWD                      NaN   \n",
       "\n",
       "  wheel_system wheel_system_display wheelbase    width  year  \n",
       "0          FWD    Front-Wheel Drive  101.2 in  79.6 in  2019  \n",
       "1          AWD      All-Wheel Drive  107.9 in  85.6 in  2020  \n",
       "2          AWD      All-Wheel Drive  104.3 in  78.9 in  2016  \n",
       "3          AWD      All-Wheel Drive    115 in  87.4 in  2020  \n",
       "4          AWD      All-Wheel Drive  107.9 in  85.6 in  2020  \n",
       "\n",
       "[5 rows x 66 columns]"
      ]
     },
     "execution_count": 7,
     "metadata": {},
     "output_type": "execute_result"
    }
   ],
   "source": [
    "cars.head()"
   ]
  },
  {
   "cell_type": "code",
   "execution_count": 8,
   "id": "e4481740-909b-4c53-be49-1f63d9bc13e5",
   "metadata": {},
   "outputs": [
    {
     "data": {
      "text/plain": [
       "vin                     3000040\n",
       "back_legroom            2840771\n",
       "bed                       19568\n",
       "bed_height               429098\n",
       "bed_length               429098\n",
       "                         ...   \n",
       "wheel_system            2853308\n",
       "wheel_system_display    2853308\n",
       "wheelbase               2840771\n",
       "width                   2840771\n",
       "year                    3000040\n",
       "Length: 66, dtype: int64"
      ]
     },
     "execution_count": 8,
     "metadata": {},
     "output_type": "execute_result"
    }
   ],
   "source": [
    "cars.count()"
   ]
  },
  {
   "cell_type": "code",
   "execution_count": 9,
   "id": "3ee46d6d-d60c-4028-b3fd-5564a2e3e49e",
   "metadata": {},
   "outputs": [
    {
     "name": "stdout",
     "output_type": "stream",
     "text": [
      "<class 'pandas.core.frame.DataFrame'>\n",
      "RangeIndex: 3000040 entries, 0 to 3000039\n",
      "Data columns (total 66 columns):\n",
      " #   Column                   Dtype  \n",
      "---  ------                   -----  \n",
      " 0   vin                      object \n",
      " 1   back_legroom             object \n",
      " 2   bed                      object \n",
      " 3   bed_height               object \n",
      " 4   bed_length               object \n",
      " 5   body_type                object \n",
      " 6   cabin                    object \n",
      " 7   city                     object \n",
      " 8   city_fuel_economy        float64\n",
      " 9   combine_fuel_economy     float64\n",
      " 10  daysonmarket             int64  \n",
      " 11  dealer_zip               object \n",
      " 12  description              object \n",
      " 13  engine_cylinders         object \n",
      " 14  engine_displacement      float64\n",
      " 15  engine_type              object \n",
      " 16  exterior_color           object \n",
      " 17  fleet                    object \n",
      " 18  frame_damaged            object \n",
      " 19  franchise_dealer         bool   \n",
      " 20  franchise_make           object \n",
      " 21  front_legroom            object \n",
      " 22  fuel_tank_volume         object \n",
      " 23  fuel_type                object \n",
      " 24  has_accidents            object \n",
      " 25  height                   object \n",
      " 26  highway_fuel_economy     float64\n",
      " 27  horsepower               float64\n",
      " 28  interior_color           object \n",
      " 29  isCab                    object \n",
      " 30  is_certified             float64\n",
      " 31  is_cpo                   object \n",
      " 32  is_new                   bool   \n",
      " 33  is_oemcpo                object \n",
      " 34  latitude                 float64\n",
      " 35  length                   object \n",
      " 36  listed_date              object \n",
      " 37  listing_color            object \n",
      " 38  listing_id               int64  \n",
      " 39  longitude                float64\n",
      " 40  main_picture_url         object \n",
      " 41  major_options            object \n",
      " 42  make_name                object \n",
      " 43  maximum_seating          object \n",
      " 44  mileage                  float64\n",
      " 45  model_name               object \n",
      " 46  owner_count              float64\n",
      " 47  power                    object \n",
      " 48  price                    float64\n",
      " 49  salvage                  object \n",
      " 50  savings_amount           int64  \n",
      " 51  seller_rating            float64\n",
      " 52  sp_id                    float64\n",
      " 53  sp_name                  object \n",
      " 54  theft_title              object \n",
      " 55  torque                   object \n",
      " 56  transmission             object \n",
      " 57  transmission_display     object \n",
      " 58  trimId                   object \n",
      " 59  trim_name                object \n",
      " 60  vehicle_damage_category  float64\n",
      " 61  wheel_system             object \n",
      " 62  wheel_system_display     object \n",
      " 63  wheelbase                object \n",
      " 64  width                    object \n",
      " 65  year                     int64  \n",
      "dtypes: bool(2), float64(14), int64(4), object(46)\n",
      "memory usage: 1.4+ GB\n"
     ]
    }
   ],
   "source": [
    "cars.info()"
   ]
  },
  {
   "cell_type": "code",
   "execution_count": 10,
   "id": "2eecfef1-ad1d-4ed0-91de-ad0f6d2a09d1",
   "metadata": {},
   "outputs": [
    {
     "data": {
      "text/plain": [
       "<Axes: >"
      ]
     },
     "execution_count": 10,
     "metadata": {},
     "output_type": "execute_result"
    },
    {
     "data": {
      "image/png": "[encoded data removed]",
      "text/plain": [
       "<Figure size 640x480 with 2 Axes>"
      ]
     },
     "metadata": {},
     "output_type": "display_data"
    }
   ],
   "source": [
    "# sns.heatmap(cars.isna())"
   ]
  },
  {
   "cell_type": "code",
   "execution_count": 11,
   "id": "6db436ff-a4b6-4fdb-83b9-9e92e9cab29d",
   "metadata": {},
   "outputs": [],
   "source": [
    "df_null_perc=((cars.isna().sum()/cars.shape[0])*100).sort_values(ascending=False)"
   ]
  },
  {
   "cell_type": "code",
   "execution_count": null,
   "id": "b1548215-89e0-443f-8871-405b038a01f9",
   "metadata": {},
   "outputs": [],
   "source": []
  },
  {
   "cell_type": "code",
   "execution_count": 12,
   "id": "21a00845-fa50-4346-a230-d6ef0d44fcd0",
   "metadata": {},
   "outputs": [
    {
     "name": "stdout",
     "output_type": "stream",
     "text": [
      "is_certified               100.000000\n",
      "combine_fuel_economy       100.000000\n",
      "vehicle_damage_category    100.000000\n",
      "bed                         99.347742\n",
      "cabin                       97.882262\n",
      "is_oemcpo                   95.487993\n",
      "is_cpo                      93.903481\n",
      "bed_length                  85.696924\n",
      "bed_height                  85.696924\n",
      "owner_count                 50.566426\n",
      "salvage                     47.552533\n",
      "theft_title                 47.552533\n",
      "frame_damaged               47.552533\n",
      "fleet                       47.552533\n",
      "has_accidents               47.552533\n",
      "isCab                       47.552533\n",
      "franchise_make              19.087579\n",
      "torque                      17.259537\n",
      "city_fuel_economy           16.375948\n",
      "highway_fuel_economy        16.375948\n",
      "power                       16.047319\n",
      "interior_color              12.799363\n",
      "main_picture_url            12.302936\n",
      "major_options                6.668178\n",
      "engine_displacement          5.746123\n",
      "horsepower                   5.746123\n",
      "width                        5.308896\n",
      "back_legroom                 5.308896\n",
      "front_legroom                5.308896\n",
      "height                       5.308896\n",
      "fuel_tank_volume             5.308896\n",
      "length                       5.308896\n",
      "maximum_seating              5.308896\n",
      "wheelbase                    5.308896\n",
      "wheel_system_display         4.891001\n",
      "wheel_system                 4.891001\n",
      "mileage                      4.812836\n",
      "trim_name                    3.876415\n",
      "trimId                       3.860849\n",
      "engine_cylinders             3.352655\n",
      "engine_type                  3.352655\n",
      "fuel_type                    2.757430\n",
      "description                  2.596665\n",
      "transmission                 2.139471\n",
      "transmission_display         2.139471\n",
      "exterior_color               1.665144\n",
      "seller_rating                1.362382\n",
      "body_type                    0.451427\n",
      "sp_id                        0.003200\n",
      "vin                          0.000000\n",
      "is_new                       0.000000\n",
      "franchise_dealer             0.000000\n",
      "daysonmarket                 0.000000\n",
      "dealer_zip                   0.000000\n",
      "city                         0.000000\n",
      "listed_date                  0.000000\n",
      "longitude                    0.000000\n",
      "listing_id                   0.000000\n",
      "price                        0.000000\n",
      "model_name                   0.000000\n",
      "make_name                    0.000000\n",
      "latitude                     0.000000\n",
      "listing_color                0.000000\n",
      "sp_name                      0.000000\n",
      "savings_amount               0.000000\n",
      "year                         0.000000\n",
      "dtype: float64\n"
     ]
    }
   ],
   "source": [
    "pd.set_option('display.max_rows', None)\n",
    "print(df_null_perc)\n",
    "pd.reset_option('display.max_rows', None)"
   ]
  },
  {
   "cell_type": "code",
   "execution_count": 13,
   "id": "43655363-af01-4333-9da5-9954ed0055ba",
   "metadata": {},
   "outputs": [
    {
     "data": {
      "text/plain": [
       "(3000040, 66)"
      ]
     },
     "execution_count": 13,
     "metadata": {},
     "output_type": "execute_result"
    }
   ],
   "source": [
    "cars.shape"
   ]
  },
  {
   "cell_type": "code",
   "execution_count": 14,
   "id": "7f4ddbc5-6ead-4a3f-a1a1-6a9b2b2e4284",
   "metadata": {},
   "outputs": [
    {
     "data": {
      "text/plain": [
       "np.int64(3000040)"
      ]
     },
     "execution_count": 14,
     "metadata": {},
     "output_type": "execute_result"
    }
   ],
   "source": [
    "cars.is_certified.isna().sum()"
   ]
  },
  {
   "cell_type": "code",
   "execution_count": 15,
   "id": "f87d251d-85a1-4561-9726-c9ab8f470b9c",
   "metadata": {},
   "outputs": [],
   "source": [
    "#removing all rows where percentage of null values is greater than 80%\n"
   ]
  },
  {
   "cell_type": "code",
   "execution_count": 17,
   "id": "cac811d5-a6c0-4af7-9d49-f504c4c67618",
   "metadata": {},
   "outputs": [],
   "source": [
    "# engine_displacement          "
   ]
  },
  {
   "cell_type": "code",
   "execution_count": null,
   "id": "b1b14536-9e9b-4775-b7c0-c40cae5fc38c",
   "metadata": {},
   "outputs": [],
   "source": [
    "# engine_displacement -       5.746123\n",
    "# horsepower                   5.746123\n",
    "# combine_fuel_economy       100.000000\n",
    "# body_type                    0.451427\n",
    "# is_new                       0.000000\n",
    "# is_certified               100.00000\n",
    "# daysonmarket                 0.000000\n",
    "# has_accidents               47.552533\n",
    "# city                         0.000000\n",
    "# dealer_zip                   0.000000\n",
    "\n",
    "\n",
    "# is_cpo                      93.903481\n",
    "\n"
   ]
  },
  {
   "cell_type": "code",
   "execution_count": null,
   "id": "15f383a3-9fbd-4601-85c5-a0d5c3b104f9",
   "metadata": {},
   "outputs": [],
   "source": [
    "# is_certified               100.000000\n",
    "# combine_fuel_economy       100.000000\n",
    "# vehicle_damage_category    100.000000\n",
    "# bed                         99.347742\n",
    "# cabin                       97.882262\n",
    "# is_oemcpo                   95.487993\n",
    "# is_cpo                      93.903481\n",
    "# bed_length                  85.696924\n",
    "# bed_height                  85.696924\n",
    "# owner_count                 50.566426\n",
    "# salvage                     47.552533\n",
    "# theft_title                 47.552533\n",
    "# frame_damaged               47.552533\n",
    "# fleet                       47.552533\n",
    "# has_accidents               47.552533\n",
    "# isCab                       47.552533\n",
    "# franchise_make              19.087579\n",
    "# torque                      17.259537\n",
    "# city_fuel_economy           16.375948\n",
    "# highway_fuel_economy        16.375948\n",
    "# power                       16.047319\n",
    "# interior_color              12.799363\n",
    "# main_picture_url            12.302936\n",
    "# major_options                6.668178\n",
    "# engine_displacement          5.746123\n",
    "# horsepower                   5.746123\n",
    "# width                        5.308896\n",
    "# back_legroom                 5.308896\n",
    "# front_legroom                5.308896\n",
    "# height                       5.308896\n",
    "# fuel_tank_volume             5.308896\n",
    "# length                       5.308896\n",
    "# maximum_seating              5.308896\n",
    "# wheelbase                    5.308896\n",
    "# wheel_system_display         4.891001\n",
    "# wheel_system                 4.891001\n",
    "# mileage                      4.812836\n",
    "# trim_name                    3.876415\n",
    "# trimId                       3.860849\n",
    "# engine_cylinders             3.352655\n",
    "# engine_type                  3.352655\n",
    "# fuel_type                    2.757430\n",
    "# description                  2.596665\n",
    "# transmission                 2.139471\n",
    "# transmission_display         2.139471\n",
    "# exterior_color               1.665144\n",
    "# seller_rating                1.362382\n",
    "# body_type                    0.451427\n",
    "# sp_id                        0.003200\n",
    "# vin                          0.000000\n",
    "# is_new                       0.000000\n",
    "# franchise_dealer             0.000000\n",
    "# daysonmarket                 0.000000\n",
    "# dealer_zip                   0.000000\n",
    "# city                         0.000000\n",
    "# listed_date                  0.000000\n",
    "# longitude                    0.000000\n",
    "# listing_id                   0.000000\n",
    "# price                        0.000000\n",
    "# model_name                   0.000000\n",
    "# make_name                    0.000000\n",
    "# latitude                     0.000000\n",
    "# listing_color                0.000000\n",
    "# sp_name                      0.000000\n",
    "# savings_amount               0.000000\n",
    "# year                         0.000000"
   ]
  },
  {
   "cell_type": "code",
   "execution_count": null,
   "id": "1e6130ed-c0dc-440d-8cd3-b9ac8066205b",
   "metadata": {},
   "outputs": [],
   "source": []
  },
  {
   "cell_type": "code",
   "execution_count": 18,
   "id": "a470be15-82a3-42b0-b2cc-5a60f0e79640",
   "metadata": {},
   "outputs": [],
   "source": [
    "# is_certified               100.000000\n",
    "# combine_fuel_economy       100.000000\n",
    "# vehicle_damage_category    100.000000\n",
    "# bed                         99.347742\n",
    "# cabin                       97.882262\n",
    "# is_oemcpo                   95.487993\n",
    "# is_cpo                      93.903481\n",
    "# bed_length                  85.696924\n",
    "# bed_height"
   ]
  },
  {
   "cell_type": "code",
   "execution_count": 22,
   "id": "df2f5e62-aa28-4c66-a311-51eb8a58b3d4",
   "metadata": {},
   "outputs": [
    {
     "data": {
      "text/plain": [
       "Index(['is_certified', 'combine_fuel_economy', 'vehicle_damage_category',\n",
       "       'bed', 'cabin', 'is_oemcpo', 'is_cpo', 'bed_length', 'bed_height'],\n",
       "      dtype='object')"
      ]
     },
     "execution_count": 22,
     "metadata": {},
     "output_type": "execute_result"
    }
   ],
   "source": [
    "df_nulls=df_null_perc[df_null_perc>80].index   #stores the columns with more than 80% null values\n",
    "df_nulls"
   ]
  },
  {
   "cell_type": "code",
   "execution_count": 20,
   "id": "527907e1-4978-4a3c-bf8e-bfc683ec4da7",
   "metadata": {},
   "outputs": [],
   "source": [
    "cleaned_cars=cars.drop(df_nulls,axis=1)"
   ]
  },
  {
   "cell_type": "code",
   "execution_count": 21,
   "id": "4d34b925-f592-4b0c-abdf-e1b0d88f84df",
   "metadata": {},
   "outputs": [
    {
     "data": {
      "text/plain": [
       "owner_count             50.566426\n",
       "has_accidents           47.552533\n",
       "isCab                   47.552533\n",
       "frame_damaged           47.552533\n",
       "fleet                   47.552533\n",
       "salvage                 47.552533\n",
       "theft_title             47.552533\n",
       "franchise_make          19.087579\n",
       "torque                  17.259537\n",
       "highway_fuel_economy    16.375948\n",
       "city_fuel_economy       16.375948\n",
       "power                   16.047319\n",
       "interior_color          12.799363\n",
       "main_picture_url        12.302936\n",
       "major_options            6.668178\n",
       "horsepower               5.746123\n",
       "engine_displacement      5.746123\n",
       "maximum_seating          5.308896\n",
       "fuel_tank_volume         5.308896\n",
       "height                   5.308896\n",
       "front_legroom            5.308896\n",
       "back_legroom             5.308896\n",
       "wheelbase                5.308896\n",
       "length                   5.308896\n",
       "width                    5.308896\n",
       "wheel_system_display     4.891001\n",
       "wheel_system             4.891001\n",
       "mileage                  4.812836\n",
       "trim_name                3.876415\n",
       "trimId                   3.860849\n",
       "engine_type              3.352655\n",
       "engine_cylinders         3.352655\n",
       "fuel_type                2.757430\n",
       "description              2.596665\n",
       "transmission_display     2.139471\n",
       "transmission             2.139471\n",
       "exterior_color           1.665144\n",
       "seller_rating            1.362382\n",
       "body_type                0.451427\n",
       "sp_id                    0.003200\n",
       "vin                      0.000000\n",
       "franchise_dealer         0.000000\n",
       "city                     0.000000\n",
       "dealer_zip               0.000000\n",
       "daysonmarket             0.000000\n",
       "price                    0.000000\n",
       "listing_color            0.000000\n",
       "listing_id               0.000000\n",
       "longitude                0.000000\n",
       "latitude                 0.000000\n",
       "model_name               0.000000\n",
       "make_name                0.000000\n",
       "is_new                   0.000000\n",
       "listed_date              0.000000\n",
       "savings_amount           0.000000\n",
       "sp_name                  0.000000\n",
       "year                     0.000000\n",
       "dtype: float64"
      ]
     },
     "execution_count": 21,
     "metadata": {},
     "output_type": "execute_result"
    }
   ],
   "source": [
    "((cleaned_cars.isna().sum()/cleaned_cars.shape[0])*100).sort_values(ascending=False) #thus high null value columns are dropped"
   ]
  },
  {
   "cell_type": "code",
   "execution_count": null,
   "id": "0065645a-85e2-47d8-a942-33f6267265d1",
   "metadata": {},
   "outputs": [],
   "source": []
  },
  {
   "cell_type": "code",
   "execution_count": 23,
   "id": "b42e897d-425b-40b8-9420-004b20d4b8dc",
   "metadata": {},
   "outputs": [],
   "source": [
    "df_nulls_45_and_51=df_null_perc[(df_null_perc<51) & (df_null_perc>45)]#.index "
   ]
  },
  {
   "cell_type": "code",
   "execution_count": 24,
   "id": "eeac512e-7604-4cab-b795-e99e7ea77cdb",
   "metadata": {},
   "outputs": [
    {
     "data": {
      "text/plain": [
       "owner_count      50.566426\n",
       "salvage          47.552533\n",
       "theft_title      47.552533\n",
       "frame_damaged    47.552533\n",
       "fleet            47.552533\n",
       "has_accidents    47.552533\n",
       "isCab            47.552533\n",
       "dtype: float64"
      ]
     },
     "execution_count": 24,
     "metadata": {},
     "output_type": "execute_result"
    }
   ],
   "source": [
    "df_nulls_45_and_51"
   ]
  },
  {
   "cell_type": "code",
   "execution_count": 25,
   "id": "0e2f5f07-1fcd-4977-9d5f-5790dff19778",
   "metadata": {},
   "outputs": [
    {
     "data": {
      "text/html": [
       "<div>\n",
       "<style scoped>\n",
       "    .dataframe tbody tr th:only-of-type {\n",
       "        vertical-align: middle;\n",
       "    }\n",
       "\n",
       "    .dataframe tbody tr th {\n",
       "        vertical-align: top;\n",
       "    }\n",
       "\n",
       "    .dataframe thead th {\n",
       "        text-align: right;\n",
       "    }\n",
       "</style>\n",
       "<table border=\"1\" class=\"dataframe\">\n",
       "  <thead>\n",
       "    <tr style=\"text-align: right;\">\n",
       "      <th></th>\n",
       "      <th>owner_count</th>\n",
       "      <th>salvage</th>\n",
       "      <th>theft_title</th>\n",
       "      <th>frame_damaged</th>\n",
       "      <th>fleet</th>\n",
       "      <th>has_accidents</th>\n",
       "      <th>isCab</th>\n",
       "    </tr>\n",
       "  </thead>\n",
       "  <tbody>\n",
       "    <tr>\n",
       "      <th>0</th>\n",
       "      <td>NaN</td>\n",
       "      <td>NaN</td>\n",
       "      <td>NaN</td>\n",
       "      <td>NaN</td>\n",
       "      <td>NaN</td>\n",
       "      <td>NaN</td>\n",
       "      <td>NaN</td>\n",
       "    </tr>\n",
       "    <tr>\n",
       "      <th>1</th>\n",
       "      <td>NaN</td>\n",
       "      <td>NaN</td>\n",
       "      <td>NaN</td>\n",
       "      <td>NaN</td>\n",
       "      <td>NaN</td>\n",
       "      <td>NaN</td>\n",
       "      <td>NaN</td>\n",
       "    </tr>\n",
       "    <tr>\n",
       "      <th>2</th>\n",
       "      <td>3.0</td>\n",
       "      <td>False</td>\n",
       "      <td>False</td>\n",
       "      <td>False</td>\n",
       "      <td>False</td>\n",
       "      <td>False</td>\n",
       "      <td>False</td>\n",
       "    </tr>\n",
       "    <tr>\n",
       "      <th>3</th>\n",
       "      <td>NaN</td>\n",
       "      <td>NaN</td>\n",
       "      <td>NaN</td>\n",
       "      <td>NaN</td>\n",
       "      <td>NaN</td>\n",
       "      <td>NaN</td>\n",
       "      <td>NaN</td>\n",
       "    </tr>\n",
       "    <tr>\n",
       "      <th>4</th>\n",
       "      <td>NaN</td>\n",
       "      <td>NaN</td>\n",
       "      <td>NaN</td>\n",
       "      <td>NaN</td>\n",
       "      <td>NaN</td>\n",
       "      <td>NaN</td>\n",
       "      <td>NaN</td>\n",
       "    </tr>\n",
       "    <tr>\n",
       "      <th>...</th>\n",
       "      <td>...</td>\n",
       "      <td>...</td>\n",
       "      <td>...</td>\n",
       "      <td>...</td>\n",
       "      <td>...</td>\n",
       "      <td>...</td>\n",
       "      <td>...</td>\n",
       "    </tr>\n",
       "    <tr>\n",
       "      <th>3000035</th>\n",
       "      <td>1.0</td>\n",
       "      <td>False</td>\n",
       "      <td>False</td>\n",
       "      <td>False</td>\n",
       "      <td>True</td>\n",
       "      <td>False</td>\n",
       "      <td>True</td>\n",
       "    </tr>\n",
       "    <tr>\n",
       "      <th>3000036</th>\n",
       "      <td>NaN</td>\n",
       "      <td>NaN</td>\n",
       "      <td>NaN</td>\n",
       "      <td>NaN</td>\n",
       "      <td>NaN</td>\n",
       "      <td>NaN</td>\n",
       "      <td>NaN</td>\n",
       "    </tr>\n",
       "    <tr>\n",
       "      <th>3000037</th>\n",
       "      <td>2.0</td>\n",
       "      <td>False</td>\n",
       "      <td>False</td>\n",
       "      <td>False</td>\n",
       "      <td>False</td>\n",
       "      <td>True</td>\n",
       "      <td>False</td>\n",
       "    </tr>\n",
       "    <tr>\n",
       "      <th>3000038</th>\n",
       "      <td>1.0</td>\n",
       "      <td>False</td>\n",
       "      <td>False</td>\n",
       "      <td>False</td>\n",
       "      <td>False</td>\n",
       "      <td>False</td>\n",
       "      <td>False</td>\n",
       "    </tr>\n",
       "    <tr>\n",
       "      <th>3000039</th>\n",
       "      <td>1.0</td>\n",
       "      <td>False</td>\n",
       "      <td>False</td>\n",
       "      <td>False</td>\n",
       "      <td>False</td>\n",
       "      <td>False</td>\n",
       "      <td>False</td>\n",
       "    </tr>\n",
       "  </tbody>\n",
       "</table>\n",
       "<p>3000040 rows × 7 columns</p>\n",
       "</div>"
      ],
      "text/plain": [
       "         owner_count salvage theft_title frame_damaged  fleet has_accidents  \\\n",
       "0                NaN     NaN         NaN           NaN    NaN           NaN   \n",
       "1                NaN     NaN         NaN           NaN    NaN           NaN   \n",
       "2                3.0   False       False         False  False         False   \n",
       "3                NaN     NaN         NaN           NaN    NaN           NaN   \n",
       "4                NaN     NaN         NaN           NaN    NaN           NaN   \n",
       "...              ...     ...         ...           ...    ...           ...   \n",
       "3000035          1.0   False       False         False   True         False   \n",
       "3000036          NaN     NaN         NaN           NaN    NaN           NaN   \n",
       "3000037          2.0   False       False         False  False          True   \n",
       "3000038          1.0   False       False         False  False         False   \n",
       "3000039          1.0   False       False         False  False         False   \n",
       "\n",
       "         isCab  \n",
       "0          NaN  \n",
       "1          NaN  \n",
       "2        False  \n",
       "3          NaN  \n",
       "4          NaN  \n",
       "...        ...  \n",
       "3000035   True  \n",
       "3000036    NaN  \n",
       "3000037  False  \n",
       "3000038  False  \n",
       "3000039  False  \n",
       "\n",
       "[3000040 rows x 7 columns]"
      ]
     },
     "execution_count": 25,
     "metadata": {},
     "output_type": "execute_result"
    }
   ],
   "source": [
    "cleaned_cars[df_nulls_45_and_51.index]#.value_counts()"
   ]
  },
  {
   "cell_type": "code",
   "execution_count": 26,
   "id": "913f50d0-8397-442a-a618-f47dfbad1a61",
   "metadata": {},
   "outputs": [
    {
     "name": "stdout",
     "output_type": "stream",
     "text": [
      "owner_count\n",
      "1.0     972936\n",
      "2.0     330624\n",
      "3.0     116775\n",
      "4.0      39764\n",
      "5.0      14207\n",
      "6.0       5286\n",
      "7.0       1977\n",
      "8.0        836\n",
      "9.0        366\n",
      "10.0       128\n",
      "11.0        73\n",
      "12.0        21\n",
      "13.0        16\n",
      "14.0         7\n",
      "15.0         6\n",
      "16.0         3\n",
      "19.0         1\n",
      "18.0         1\n",
      "Name: count, dtype: int64\n",
      "\n",
      "salvage\n",
      "False    1562918\n",
      "True       10527\n",
      "Name: count, dtype: int64\n",
      "\n",
      "theft_title\n",
      "False    1568179\n",
      "True        5266\n",
      "Name: count, dtype: int64\n",
      "\n",
      "frame_damaged\n",
      "False    1558494\n",
      "True       14951\n",
      "Name: count, dtype: int64\n",
      "\n",
      "fleet\n",
      "False    1238507\n",
      "True      334938\n",
      "Name: count, dtype: int64\n",
      "\n",
      "has_accidents\n",
      "False    1330491\n",
      "True      242954\n",
      "Name: count, dtype: int64\n",
      "\n",
      "isCab\n",
      "False    1286504\n",
      "True      286941\n",
      "Name: count, dtype: int64\n",
      "\n"
     ]
    }
   ],
   "source": [
    "#for finding unique values in columns having  between 45 to 51 % of null values\n",
    "for i in df_nulls_45_and_51.index:\n",
    "    print(cleaned_cars[i].value_counts())\n",
    "    print()"
   ]
  },
  {
   "cell_type": "markdown",
   "id": "1ed3da1f-6d77-4107-bf79-c3f485a27791",
   "metadata": {},
   "source": [
    "for fleet dataset-\n",
    " \n",
    "False    12,38,507 ~12 lakhs  4\n",
    "\n",
    "True      3,34,938 ~3 lakhs   1"
   ]
  },
  {
   "cell_type": "code",
   "execution_count": null,
   "id": "cd100319-763d-45a0-9095-adac2749112a",
   "metadata": {},
   "outputs": [],
   "source": []
  },
  {
   "cell_type": "code",
   "execution_count": 27,
   "id": "95d4e605-7901-4528-9ed3-2b833b01f039",
   "metadata": {},
   "outputs": [],
   "source": [
    "#random example fort shuffling\n",
    "x=np.array([1,1,1,1,1,2,2,2,2,2,2,2])\n",
    "np.random.shuffle(x)"
   ]
  },
  {
   "cell_type": "code",
   "execution_count": 28,
   "id": "f21f8fcf-fa68-4cce-a813-a1bd47aaadd2",
   "metadata": {},
   "outputs": [
    {
     "data": {
      "text/plain": [
       "array([1, 2, 1, 1, 2, 2, 2, 1, 2, 2, 2, 1])"
      ]
     },
     "execution_count": 28,
     "metadata": {},
     "output_type": "execute_result"
    }
   ],
   "source": [
    "x"
   ]
  },
  {
   "cell_type": "markdown",
   "id": "07b7f44f-c898-4f3f-84c4-60c925c2c417",
   "metadata": {},
   "source": [
    "**For fleet-**"
   ]
  },
  {
   "cell_type": "code",
   "execution_count": null,
   "id": "1fcae4a9-b2b7-4624-9421-0d6416944a33",
   "metadata": {},
   "outputs": [],
   "source": [
    "cleaned_cars['fleet']\n"
   ]
  },
  {
   "cell_type": "code",
   "execution_count": null,
   "id": "572fb0e9-18b8-4cd7-906d-990cc27c6674",
   "metadata": {},
   "outputs": [],
   "source": [
    "nl_has_acc=np.where(cleaned_cars['has_accidents'].isnull())[0]\n",
    "nl_has_acc"
   ]
  },
  {
   "cell_type": "code",
   "execution_count": null,
   "id": "df9e2d0f-bb7c-42b7-bbd0-4ebff7f1db2b",
   "metadata": {},
   "outputs": [],
   "source": [
    "cleaned_cars['has_accidents'].value_counts()\n"
   ]
  },
  {
   "cell_type": "code",
   "execution_count": null,
   "id": "edd7fa47-7624-4d51-b1d7-917a51db5e1c",
   "metadata": {},
   "outputs": [],
   "source": [
    "cleaned_cars['has_accidents'].value_counts()/1573445\n"
   ]
  },
  {
   "cell_type": "code",
   "execution_count": null,
   "id": "ddefa957-e7ca-4ac9-acc7-197f68c350c7",
   "metadata": {},
   "outputs": [],
   "source": [
    "# 80:20 = 4:1  = False:True in is_accidents\n"
   ]
  },
  {
   "cell_type": "code",
   "execution_count": null,
   "id": "b9244221-b57c-4fae-8501-9ba3bb9a654b",
   "metadata": {},
   "outputs": [],
   "source": [
    "cleaned_cars['has_accidents'].isna().sum()  #total null values"
   ]
  },
  {
   "cell_type": "code",
   "execution_count": null,
   "id": "99b0bc60-c13d-44c1-8dab-19b0a047c5fd",
   "metadata": {},
   "outputs": [],
   "source": [
    "cleaned_cars['has_accidents'].isna().sum()/5"
   ]
  },
  {
   "cell_type": "code",
   "execution_count": null,
   "id": "a530b332-0ae9-4272-838c-7b3e022d1734",
   "metadata": {},
   "outputs": [],
   "source": [
    "print('True',285319)\n",
    "print('False',285319*4)\n"
   ]
  },
  {
   "cell_type": "code",
   "execution_count": null,
   "id": "189dc0ee-b0d4-47c0-a67d-c37a79b7162d",
   "metadata": {},
   "outputs": [],
   "source": [
    "1141276+285319"
   ]
  },
  {
   "cell_type": "code",
   "execution_count": null,
   "id": "0ee836cc-4df0-473e-8ce1-ceaf90426e01",
   "metadata": {},
   "outputs": [],
   "source": [
    "np.array(([1,0]*5)).astype(bool)\n"
   ]
  },
  {
   "cell_type": "code",
   "execution_count": null,
   "id": "7f1375ff-10a7-45bc-94ba-f0ba8a781890",
   "metadata": {},
   "outputs": [],
   "source": [
    "arr_of_1_0_for_has_acc=np.array([1]*285319+[0]*1141276).astype(bool)\n",
    "arr_of_1_0_for_has_acc"
   ]
  },
  {
   "cell_type": "code",
   "execution_count": null,
   "id": "75c6d279-2754-4a4a-9525-b0fe7332bf34",
   "metadata": {},
   "outputs": [],
   "source": [
    "sum(arr_of_1_0_for_has_acc)"
   ]
  },
  {
   "cell_type": "code",
   "execution_count": null,
   "id": "89bc3fa3-e377-4303-b786-7a8b8a6f6d3d",
   "metadata": {},
   "outputs": [],
   "source": [
    "np.random.shuffle(arr_of_1_0_for_has_acc)"
   ]
  },
  {
   "cell_type": "code",
   "execution_count": null,
   "id": "1e69548e-4776-4a4e-86f0-9be821ae8ec5",
   "metadata": {},
   "outputs": [],
   "source": [
    "pd.reset_option('display.max_rows', None)"
   ]
  },
  {
   "cell_type": "code",
   "execution_count": null,
   "id": "1e49144a-a4b4-46f9-accd-2d0e9647a0b9",
   "metadata": {},
   "outputs": [],
   "source": [
    "arr_of_1_0_for_has_acc"
   ]
  },
  {
   "cell_type": "code",
   "execution_count": null,
   "id": "0e7e72b1-c6f4-49f3-aa1f-aea29aaf5efd",
   "metadata": {},
   "outputs": [],
   "source": [
    "nl_has_acc"
   ]
  },
  {
   "cell_type": "code",
   "execution_count": null,
   "id": "ea40089c-d6ec-45a7-9ac1-d702b7f324ae",
   "metadata": {},
   "outputs": [],
   "source": [
    "cleaned_cars.loc[nl_has_acc,'has_accidents']=arr_of_1_0_for_has_acc"
   ]
  },
  {
   "cell_type": "code",
   "execution_count": null,
   "id": "c267de07-e2a9-4da7-9614-8589fcc81f3c",
   "metadata": {},
   "outputs": [],
   "source": [
    "cleaned_cars['has_accidents'].isna().sum()"
   ]
  },
  {
   "cell_type": "code",
   "execution_count": null,
   "id": "314f94aa-33b9-4317-9ef3-5a5d2ff7530c",
   "metadata": {},
   "outputs": [],
   "source": [
    "# for i in arr_of_1_0_for_has_acc:print(i)"
   ]
  },
  {
   "cell_type": "code",
   "execution_count": null,
   "id": "4ad2485d-5957-4871-a1ca-e3840e7ce90d",
   "metadata": {},
   "outputs": [],
   "source": []
  },
  {
   "cell_type": "markdown",
   "id": "c6505ead-640d-442e-8350-4fa324ddd243",
   "metadata": {},
   "source": [
    "**for has_accidents-**"
   ]
  },
  {
   "cell_type": "code",
   "execution_count": null,
   "id": "6eacd778-4cb2-4d43-96ea-3dce151409b6",
   "metadata": {},
   "outputs": [],
   "source": [
    "cleaned_cars['has_accidents']"
   ]
  },
  {
   "cell_type": "code",
   "execution_count": null,
   "id": "87e87455-b4da-4ae5-b1a7-8461486d2699",
   "metadata": {},
   "outputs": [],
   "source": [
    "nl_has_acc=np.where(cleaned_cars['has_accidents'].isnull())[0]\n",
    "nl_has_acc"
   ]
  },
  {
   "cell_type": "code",
   "execution_count": null,
   "id": "af183600-f7e1-4243-9882-b6fd8a04c3a1",
   "metadata": {},
   "outputs": [],
   "source": [
    "cleaned_cars['has_accidents'].value_counts()"
   ]
  },
  {
   "cell_type": "code",
   "execution_count": null,
   "id": "fc4a4e98-2340-4bac-8837-d3583aa64738",
   "metadata": {},
   "outputs": [],
   "source": [
    "# nl_has_acc[False]/"
   ]
  },
  {
   "cell_type": "code",
   "execution_count": null,
   "id": "e2cafe4a-6a92-42c4-9d3a-5cf8a0694d18",
   "metadata": {},
   "outputs": [],
   "source": [
    "cleaned_cars['has_accidents'].value_counts()/1573445"
   ]
  },
  {
   "cell_type": "code",
   "execution_count": null,
   "id": "d07fb452-57be-4890-b63f-55c60a4a9fd5",
   "metadata": {},
   "outputs": [],
   "source": [
    "# 80:20 = 4:1  = False:True in is_accidents"
   ]
  },
  {
   "cell_type": "code",
   "execution_count": null,
   "id": "132da732-af26-4d9c-908a-ae2a4ad50f04",
   "metadata": {},
   "outputs": [],
   "source": [
    "cleaned_cars['has_accidents'].isna().sum()  #total null values"
   ]
  },
  {
   "cell_type": "code",
   "execution_count": null,
   "id": "ccadcf90-adaa-4465-908d-b0186bdc7ac8",
   "metadata": {},
   "outputs": [],
   "source": [
    "cleaned_cars['has_accidents'].isna().sum()/5"
   ]
  },
  {
   "cell_type": "code",
   "execution_count": null,
   "id": "36bcea12-6b5a-4689-b92d-ca3b25ff9212",
   "metadata": {},
   "outputs": [],
   "source": [
    "print('True',285319)\n",
    "print('False',285319*4)\n"
   ]
  },
  {
   "cell_type": "code",
   "execution_count": null,
   "id": "20ae98fb-dc82-4cd0-895e-3f24377a80e4",
   "metadata": {},
   "outputs": [],
   "source": [
    "1141276+285319"
   ]
  },
  {
   "cell_type": "code",
   "execution_count": null,
   "id": "32b1bd2d-c142-42d3-9084-497e27f7e065",
   "metadata": {},
   "outputs": [],
   "source": []
  },
  {
   "cell_type": "code",
   "execution_count": null,
   "id": "e289d43b-ade9-4820-a78e-5aa3fb571366",
   "metadata": {},
   "outputs": [],
   "source": [
    "np.array(([1,0]*5)).astype(bool)"
   ]
  },
  {
   "cell_type": "code",
   "execution_count": null,
   "id": "461bc64c-aabb-40ba-86cc-b1c6054a677c",
   "metadata": {},
   "outputs": [],
   "source": [
    "arr_of_1_0_for_has_acc=np.array([1]*285319+[0]*1141276).astype(bool)\n",
    "arr_of_1_0_for_has_acc"
   ]
  },
  {
   "cell_type": "code",
   "execution_count": null,
   "id": "f991b414-5137-4306-a187-83141d441f2e",
   "metadata": {},
   "outputs": [],
   "source": [
    "sum(arr_of_1_0_for_has_acc)"
   ]
  },
  {
   "cell_type": "code",
   "execution_count": null,
   "id": "d1fc4e93-0943-4bd7-a3b8-b4c5c51756c7",
   "metadata": {},
   "outputs": [],
   "source": [
    "np.random.shuffle(arr_of_1_0_for_has_acc)"
   ]
  },
  {
   "cell_type": "code",
   "execution_count": null,
   "id": "d4dbc210-94a3-40bd-a060-0eb6367e3e4b",
   "metadata": {},
   "outputs": [],
   "source": [
    "pd.reset_option('display.max_rows', None)"
   ]
  },
  {
   "cell_type": "code",
   "execution_count": null,
   "id": "162869e8-7c30-4bb8-b21c-5ed9ee061de9",
   "metadata": {},
   "outputs": [],
   "source": [
    "arr_of_1_0_for_has_acc"
   ]
  },
  {
   "cell_type": "code",
   "execution_count": null,
   "id": "c37ececb-f480-4f4c-b4a5-8ab48383f503",
   "metadata": {},
   "outputs": [],
   "source": []
  },
  {
   "cell_type": "code",
   "execution_count": null,
   "id": "4368ff49-76c1-4153-b1aa-2371748edba9",
   "metadata": {},
   "outputs": [],
   "source": []
  },
  {
   "cell_type": "code",
   "execution_count": null,
   "id": "201736da-cdf1-4537-89bc-7726f8ecc7dd",
   "metadata": {},
   "outputs": [],
   "source": [
    "nl_has_acc"
   ]
  },
  {
   "cell_type": "code",
   "execution_count": null,
   "id": "b4a31915-8422-4492-a6d5-016c0c5d8ed2",
   "metadata": {},
   "outputs": [],
   "source": [
    "cleaned_cars.loc[nl_has_acc,'has_accidents']=arr_of_1_0_for_has_acc"
   ]
  },
  {
   "cell_type": "code",
   "execution_count": null,
   "id": "1e712022-7910-484a-b96d-19bc98fd0f1d",
   "metadata": {},
   "outputs": [],
   "source": [
    "cleaned_cars['has_accidents'].isna().sum()"
   ]
  },
  {
   "cell_type": "code",
   "execution_count": null,
   "id": "9cb72e96-121e-4ccb-8706-776d1ac00bc7",
   "metadata": {},
   "outputs": [],
   "source": [
    "# for i in arr_of_1_0_for_has_acc:print(i)"
   ]
  },
  {
   "cell_type": "code",
   "execution_count": null,
   "id": "86042e9b-6a99-4252-8dd1-8e4525bc253e",
   "metadata": {},
   "outputs": [],
   "source": []
  }
 ],
 "metadata": {
  "kernelspec": {
   "display_name": "Python 3 (ipykernel)",
   "language": "python",
   "name": "python3"
  },
  "language_info": {
   "codemirror_mode": {
    "name": "ipython",
    "version": 3
   },
   "file_extension": ".py",
   "mimetype": "text/x-python",
   "name": "python",
   "nbconvert_exporter": "python",
   "pygments_lexer": "ipython3",
   "version": "3.12.5"
  }
 },
 "nbformat": 4,
 "nbformat_minor": 5
}
