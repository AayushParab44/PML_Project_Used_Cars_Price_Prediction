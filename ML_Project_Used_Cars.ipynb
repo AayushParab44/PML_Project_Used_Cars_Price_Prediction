{
 "cells": [
  {
   "cell_type": "code",
   "execution_count": 1,
   "id": "5f7afd0c-6987-4e83-9dd0-49b00815c08b",
   "metadata": {},
   "outputs": [],
   "source": [
    "import pandas as pd\n",
    "import numpy as np\n",
    "import matplotlib\n",
    "from matplotlib import pyplot as plt\n",
    "import pylab\n",
    "from pylab import legend, plot, show, title, xlabel, ylabel\n",
    "import seaborn as sns\n",
    "from numpy import random\n",
    "import statsmodels.api as sm\n",
    "from statsmodels.formula.api import ols\n",
    "import statsmodels.stats.multicomp\n",
    "import os\n",
    "import scipy \n",
    "from scipy import stats\n",
    "from scipy.stats import binom\n",
    "from scipy.stats import poisson, norm, t\n",
    "from scipy.stats import chisquare\n",
    "from scipy.stats import chi2_contingency\n",
    "from sklearn.model_selection import train_test_split\n",
    "from sklearn.metrics import confusion_matrix\n",
    "from sklearn.metrics import classification_report\n",
    "from statsmodels.stats.outliers_influence import variance_inflation_factor\n",
    "\n",
    "# from statsmodels import discrete\n",
    "# from statsmodels.discrete import discrete_model\n",
    "# from statsmodels.discrete.discrete_model import MNLogit #multi nominal\n",
    "# from statsmodels.miscmodels.ordinal_model import OrderedModel #multi nominal\n",
    "\n",
    "# import statsmodels.formula.api as smf\n",
    "# from statsmodels.discrete.discrete_model import Poisson as psn\n",
    "\n",
    "# from statsmodels.discrete.discrete_model import NegativeBinomial as ngb\n",
    "# from sklearn.preprocessing import MinMaxScaler\n",
    "# from sklearn.preprocessing import StandardScaler\n",
    "# from sklearn.feature_selection import mutual_info_classif\n",
    "# from sklearn.feature_selection import mutual_info_classif\n",
    "# from sklearn.feature_selection import SelectKBest\n",
    "# from sklearn.ensemble import ExtraTreesClassifier\n",
    "\n",
    "# from sklearn.feature_selection import SequentialFeatureSelector\n",
    "# from sklearn.linear_model import LinearRegression\n",
    "\n",
    "# from sklearn.linear_model import Ridge\n",
    "# from sklearn.model_selection import GridSearchCV\n",
    "\n",
    "# from sklearn.linear_model import Lasso\n",
    "# from sklearn.model_selection import GridSearchCV\n",
    "\n",
    "# from sklearn.tree import DecisionTreeClassifier,plot_tree\n",
    "# from sklearn.preprocessing import StandardScaler\n",
    "# from sklearn.decomposition import PCA\n",
    "# from sklearn.discriminant_analysis import LinearDiscriminantAnalysis\n",
    "\n",
    "# from sklearn.neighbors import KNeighborsClassifier\n",
    "# from sklearn.naive_bayes import GaussianNB\n",
    "# from sklearn import svm\n",
    "\n",
    "# from sklearn.cluster import KMeans\n",
    "# import scipy.cluster.hierarchy as sch\n",
    "# from statsmodels.tsa.seasonal import seasonal_decompose\n",
    "# from sklearn.metrics import mean_squared_error\n",
    "# import warnings \n",
    "# warnings.filterwarnings('ignore')\n",
    "\n",
    "# from statsmodels.tsa.api import SimpleExpSmoothing\n",
    "# from statsmodels.tsa.api import Holt\n",
    "\n",
    "# from statsmodels.tsa.stattools import adfuller\n",
    "# from statsmodels.graphics.tsaplots import plot_acf,plot_pacf\n",
    "# from statsmodels.tsa.arima.model import ARIMA\n",
    "# from statsmodels.tsa.stattools import adfuller"
   ]
  },
  {
   "cell_type": "code",
   "execution_count": 2,
   "id": "587c9271-86ec-4013-84ed-07c4f0ac4bdb",
   "metadata": {},
   "outputs": [],
   "source": [
    "# cars=pd.read_csv('used_cars_data.csv')  #enter path of dataset here"
   ]
  },
  {
   "cell_type": "code",
   "execution_count": null,
   "id": "3f8d3ca8-3694-4226-9767-b1c823067cf4",
   "metadata": {},
   "outputs": [],
   "source": []
  },
  {
   "cell_type": "code",
   "execution_count": 3,
   "id": "23bee9b3-b797-4b08-8e51-3b52f8e95bc0",
   "metadata": {},
   "outputs": [],
   "source": [
    "# !pip install kagglehub"
   ]
  },
  {
   "cell_type": "code",
   "execution_count": 4,
   "id": "4f2a4d5b-1e04-40fe-97a4-adb69f69dc20",
   "metadata": {},
   "outputs": [],
   "source": [
    "#run only once to download the dataset-\n",
    "# import kagglehub\n",
    "\n",
    "# # Download latest version\n",
    "# path = kagglehub.dataset_download(\"ananaymital/us-used-cars-dataset\")\n",
    "\n",
    "# print(\"Path to dataset files:\", path)"
   ]
  },
  {
   "cell_type": "code",
   "execution_count": 5,
   "id": "02f73ae4-b445-460d-9045-c2e368ca82c7",
   "metadata": {},
   "outputs": [
    {
     "name": "stderr",
     "output_type": "stream",
     "text": [
      "C:\\Users\\AAYUSH\\AppData\\Local\\Temp\\ipykernel_19036\\3143018783.py:2: DtypeWarning: Columns (11) have mixed types. Specify dtype option on import or set low_memory=False.\n",
      "  cars=pd.read_csv(path)\n"
     ]
    }
   ],
   "source": [
    "path=r'C:\\Users\\AAYUSH\\Desktop\\pml_dataset\\used_cars_data.csv'\n",
    "cars=pd.read_csv(path)"
   ]
  },
  {
   "cell_type": "code",
   "execution_count": null,
   "id": "2f441544-ba23-4c90-b176-cd6b1509e96e",
   "metadata": {},
   "outputs": [],
   "source": []
  },
  {
   "cell_type": "code",
   "execution_count": 6,
   "id": "1d03e35e-59c2-4ffc-b96a-c16f7ef62819",
   "metadata": {},
   "outputs": [
    {
     "data": {
      "text/html": [
       "<div>\n",
       "<style scoped>\n",
       "    .dataframe tbody tr th:only-of-type {\n",
       "        vertical-align: middle;\n",
       "    }\n",
       "\n",
       "    .dataframe tbody tr th {\n",
       "        vertical-align: top;\n",
       "    }\n",
       "\n",
       "    .dataframe thead th {\n",
       "        text-align: right;\n",
       "    }\n",
       "</style>\n",
       "<table border=\"1\" class=\"dataframe\">\n",
       "  <thead>\n",
       "    <tr style=\"text-align: right;\">\n",
       "      <th></th>\n",
       "      <th>vin</th>\n",
       "      <th>back_legroom</th>\n",
       "      <th>bed</th>\n",
       "      <th>bed_height</th>\n",
       "      <th>bed_length</th>\n",
       "      <th>body_type</th>\n",
       "      <th>cabin</th>\n",
       "      <th>city</th>\n",
       "      <th>city_fuel_economy</th>\n",
       "      <th>combine_fuel_economy</th>\n",
       "      <th>...</th>\n",
       "      <th>transmission</th>\n",
       "      <th>transmission_display</th>\n",
       "      <th>trimId</th>\n",
       "      <th>trim_name</th>\n",
       "      <th>vehicle_damage_category</th>\n",
       "      <th>wheel_system</th>\n",
       "      <th>wheel_system_display</th>\n",
       "      <th>wheelbase</th>\n",
       "      <th>width</th>\n",
       "      <th>year</th>\n",
       "    </tr>\n",
       "  </thead>\n",
       "  <tbody>\n",
       "    <tr>\n",
       "      <th>0</th>\n",
       "      <td>ZACNJABB5KPJ92081</td>\n",
       "      <td>35.1 in</td>\n",
       "      <td>NaN</td>\n",
       "      <td>NaN</td>\n",
       "      <td>NaN</td>\n",
       "      <td>SUV / Crossover</td>\n",
       "      <td>NaN</td>\n",
       "      <td>Bayamon</td>\n",
       "      <td>NaN</td>\n",
       "      <td>NaN</td>\n",
       "      <td>...</td>\n",
       "      <td>A</td>\n",
       "      <td>9-Speed Automatic Overdrive</td>\n",
       "      <td>t83804</td>\n",
       "      <td>Latitude FWD</td>\n",
       "      <td>NaN</td>\n",
       "      <td>FWD</td>\n",
       "      <td>Front-Wheel Drive</td>\n",
       "      <td>101.2 in</td>\n",
       "      <td>79.6 in</td>\n",
       "      <td>2019</td>\n",
       "    </tr>\n",
       "    <tr>\n",
       "      <th>1</th>\n",
       "      <td>SALCJ2FX1LH858117</td>\n",
       "      <td>38.1 in</td>\n",
       "      <td>NaN</td>\n",
       "      <td>NaN</td>\n",
       "      <td>NaN</td>\n",
       "      <td>SUV / Crossover</td>\n",
       "      <td>NaN</td>\n",
       "      <td>San Juan</td>\n",
       "      <td>NaN</td>\n",
       "      <td>NaN</td>\n",
       "      <td>...</td>\n",
       "      <td>A</td>\n",
       "      <td>9-Speed Automatic Overdrive</td>\n",
       "      <td>t86759</td>\n",
       "      <td>S AWD</td>\n",
       "      <td>NaN</td>\n",
       "      <td>AWD</td>\n",
       "      <td>All-Wheel Drive</td>\n",
       "      <td>107.9 in</td>\n",
       "      <td>85.6 in</td>\n",
       "      <td>2020</td>\n",
       "    </tr>\n",
       "    <tr>\n",
       "      <th>2</th>\n",
       "      <td>JF1VA2M67G9829723</td>\n",
       "      <td>35.4 in</td>\n",
       "      <td>NaN</td>\n",
       "      <td>NaN</td>\n",
       "      <td>NaN</td>\n",
       "      <td>Sedan</td>\n",
       "      <td>NaN</td>\n",
       "      <td>Guaynabo</td>\n",
       "      <td>17.0</td>\n",
       "      <td>NaN</td>\n",
       "      <td>...</td>\n",
       "      <td>M</td>\n",
       "      <td>6-Speed Manual</td>\n",
       "      <td>t58994</td>\n",
       "      <td>Base</td>\n",
       "      <td>NaN</td>\n",
       "      <td>AWD</td>\n",
       "      <td>All-Wheel Drive</td>\n",
       "      <td>104.3 in</td>\n",
       "      <td>78.9 in</td>\n",
       "      <td>2016</td>\n",
       "    </tr>\n",
       "    <tr>\n",
       "      <th>3</th>\n",
       "      <td>SALRR2RV0L2433391</td>\n",
       "      <td>37.6 in</td>\n",
       "      <td>NaN</td>\n",
       "      <td>NaN</td>\n",
       "      <td>NaN</td>\n",
       "      <td>SUV / Crossover</td>\n",
       "      <td>NaN</td>\n",
       "      <td>San Juan</td>\n",
       "      <td>NaN</td>\n",
       "      <td>NaN</td>\n",
       "      <td>...</td>\n",
       "      <td>A</td>\n",
       "      <td>8-Speed Automatic Overdrive</td>\n",
       "      <td>t86074</td>\n",
       "      <td>V6 HSE AWD</td>\n",
       "      <td>NaN</td>\n",
       "      <td>AWD</td>\n",
       "      <td>All-Wheel Drive</td>\n",
       "      <td>115 in</td>\n",
       "      <td>87.4 in</td>\n",
       "      <td>2020</td>\n",
       "    </tr>\n",
       "    <tr>\n",
       "      <th>4</th>\n",
       "      <td>SALCJ2FXXLH862327</td>\n",
       "      <td>38.1 in</td>\n",
       "      <td>NaN</td>\n",
       "      <td>NaN</td>\n",
       "      <td>NaN</td>\n",
       "      <td>SUV / Crossover</td>\n",
       "      <td>NaN</td>\n",
       "      <td>San Juan</td>\n",
       "      <td>NaN</td>\n",
       "      <td>NaN</td>\n",
       "      <td>...</td>\n",
       "      <td>A</td>\n",
       "      <td>9-Speed Automatic Overdrive</td>\n",
       "      <td>t86759</td>\n",
       "      <td>S AWD</td>\n",
       "      <td>NaN</td>\n",
       "      <td>AWD</td>\n",
       "      <td>All-Wheel Drive</td>\n",
       "      <td>107.9 in</td>\n",
       "      <td>85.6 in</td>\n",
       "      <td>2020</td>\n",
       "    </tr>\n",
       "  </tbody>\n",
       "</table>\n",
       "<p>5 rows × 66 columns</p>\n",
       "</div>"
      ],
      "text/plain": [
       "                 vin back_legroom  bed bed_height bed_length        body_type  \\\n",
       "0  ZACNJABB5KPJ92081      35.1 in  NaN        NaN        NaN  SUV / Crossover   \n",
       "1  SALCJ2FX1LH858117      38.1 in  NaN        NaN        NaN  SUV / Crossover   \n",
       "2  JF1VA2M67G9829723      35.4 in  NaN        NaN        NaN            Sedan   \n",
       "3  SALRR2RV0L2433391      37.6 in  NaN        NaN        NaN  SUV / Crossover   \n",
       "4  SALCJ2FXXLH862327      38.1 in  NaN        NaN        NaN  SUV / Crossover   \n",
       "\n",
       "  cabin      city  city_fuel_economy  combine_fuel_economy  ...  transmission  \\\n",
       "0   NaN   Bayamon                NaN                   NaN  ...             A   \n",
       "1   NaN  San Juan                NaN                   NaN  ...             A   \n",
       "2   NaN  Guaynabo               17.0                   NaN  ...             M   \n",
       "3   NaN  San Juan                NaN                   NaN  ...             A   \n",
       "4   NaN  San Juan                NaN                   NaN  ...             A   \n",
       "\n",
       "          transmission_display  trimId     trim_name  vehicle_damage_category  \\\n",
       "0  9-Speed Automatic Overdrive  t83804  Latitude FWD                      NaN   \n",
       "1  9-Speed Automatic Overdrive  t86759         S AWD                      NaN   \n",
       "2               6-Speed Manual  t58994          Base                      NaN   \n",
       "3  8-Speed Automatic Overdrive  t86074    V6 HSE AWD                      NaN   \n",
       "4  9-Speed Automatic Overdrive  t86759         S AWD                      NaN   \n",
       "\n",
       "  wheel_system wheel_system_display wheelbase    width  year  \n",
       "0          FWD    Front-Wheel Drive  101.2 in  79.6 in  2019  \n",
       "1          AWD      All-Wheel Drive  107.9 in  85.6 in  2020  \n",
       "2          AWD      All-Wheel Drive  104.3 in  78.9 in  2016  \n",
       "3          AWD      All-Wheel Drive    115 in  87.4 in  2020  \n",
       "4          AWD      All-Wheel Drive  107.9 in  85.6 in  2020  \n",
       "\n",
       "[5 rows x 66 columns]"
      ]
     },
     "execution_count": 6,
     "metadata": {},
     "output_type": "execute_result"
    }
   ],
   "source": [
    "cars.head()"
   ]
  },
  {
   "cell_type": "code",
   "execution_count": 7,
   "id": "e4481740-909b-4c53-be49-1f63d9bc13e5",
   "metadata": {},
   "outputs": [
    {
     "data": {
      "text/plain": [
       "vin                     3000040\n",
       "back_legroom            2840771\n",
       "bed                       19568\n",
       "bed_height               429098\n",
       "bed_length               429098\n",
       "                         ...   \n",
       "wheel_system            2853308\n",
       "wheel_system_display    2853308\n",
       "wheelbase               2840771\n",
       "width                   2840771\n",
       "year                    3000040\n",
       "Length: 66, dtype: int64"
      ]
     },
     "execution_count": 7,
     "metadata": {},
     "output_type": "execute_result"
    }
   ],
   "source": [
    "cars.count()"
   ]
  },
  {
   "cell_type": "code",
   "execution_count": 8,
   "id": "3ee46d6d-d60c-4028-b3fd-5564a2e3e49e",
   "metadata": {},
   "outputs": [
    {
     "name": "stdout",
     "output_type": "stream",
     "text": [
      "<class 'pandas.core.frame.DataFrame'>\n",
      "RangeIndex: 3000040 entries, 0 to 3000039\n",
      "Data columns (total 66 columns):\n",
      " #   Column                   Dtype  \n",
      "---  ------                   -----  \n",
      " 0   vin                      object \n",
      " 1   back_legroom             object \n",
      " 2   bed                      object \n",
      " 3   bed_height               object \n",
      " 4   bed_length               object \n",
      " 5   body_type                object \n",
      " 6   cabin                    object \n",
      " 7   city                     object \n",
      " 8   city_fuel_economy        float64\n",
      " 9   combine_fuel_economy     float64\n",
      " 10  daysonmarket             int64  \n",
      " 11  dealer_zip               object \n",
      " 12  description              object \n",
      " 13  engine_cylinders         object \n",
      " 14  engine_displacement      float64\n",
      " 15  engine_type              object \n",
      " 16  exterior_color           object \n",
      " 17  fleet                    object \n",
      " 18  frame_damaged            object \n",
      " 19  franchise_dealer         bool   \n",
      " 20  franchise_make           object \n",
      " 21  front_legroom            object \n",
      " 22  fuel_tank_volume         object \n",
      " 23  fuel_type                object \n",
      " 24  has_accidents            object \n",
      " 25  height                   object \n",
      " 26  highway_fuel_economy     float64\n",
      " 27  horsepower               float64\n",
      " 28  interior_color           object \n",
      " 29  isCab                    object \n",
      " 30  is_certified             float64\n",
      " 31  is_cpo                   object \n",
      " 32  is_new                   bool   \n",
      " 33  is_oemcpo                object \n",
      " 34  latitude                 float64\n",
      " 35  length                   object \n",
      " 36  listed_date              object \n",
      " 37  listing_color            object \n",
      " 38  listing_id               int64  \n",
      " 39  longitude                float64\n",
      " 40  main_picture_url         object \n",
      " 41  major_options            object \n",
      " 42  make_name                object \n",
      " 43  maximum_seating          object \n",
      " 44  mileage                  float64\n",
      " 45  model_name               object \n",
      " 46  owner_count              float64\n",
      " 47  power                    object \n",
      " 48  price                    float64\n",
      " 49  salvage                  object \n",
      " 50  savings_amount           int64  \n",
      " 51  seller_rating            float64\n",
      " 52  sp_id                    float64\n",
      " 53  sp_name                  object \n",
      " 54  theft_title              object \n",
      " 55  torque                   object \n",
      " 56  transmission             object \n",
      " 57  transmission_display     object \n",
      " 58  trimId                   object \n",
      " 59  trim_name                object \n",
      " 60  vehicle_damage_category  float64\n",
      " 61  wheel_system             object \n",
      " 62  wheel_system_display     object \n",
      " 63  wheelbase                object \n",
      " 64  width                    object \n",
      " 65  year                     int64  \n",
      "dtypes: bool(2), float64(14), int64(4), object(46)\n",
      "memory usage: 1.4+ GB\n"
     ]
    }
   ],
   "source": [
    "cars.info()"
   ]
  },
  {
   "cell_type": "code",
   "execution_count": 9,
   "id": "2eecfef1-ad1d-4ed0-91de-ad0f6d2a09d1",
   "metadata": {},
   "outputs": [],
   "source": [
    "# sns.heatmap(cars.isna())"
   ]
  },
  {
   "cell_type": "code",
   "execution_count": 10,
   "id": "6db436ff-a4b6-4fdb-83b9-9e92e9cab29d",
   "metadata": {},
   "outputs": [],
   "source": [
    "df_null_perc=((cars.isna().sum()/cars.shape[0])*100).sort_values(ascending=False)"
   ]
  },
  {
   "cell_type": "code",
   "execution_count": null,
   "id": "b1548215-89e0-443f-8871-405b038a01f9",
   "metadata": {},
   "outputs": [],
   "source": []
  },
  {
   "cell_type": "code",
   "execution_count": 11,
   "id": "21a00845-fa50-4346-a230-d6ef0d44fcd0",
   "metadata": {},
   "outputs": [
    {
     "name": "stdout",
     "output_type": "stream",
     "text": [
      "is_certified               100.000000\n",
      "combine_fuel_economy       100.000000\n",
      "vehicle_damage_category    100.000000\n",
      "bed                         99.347742\n",
      "cabin                       97.882262\n",
      "is_oemcpo                   95.487993\n",
      "is_cpo                      93.903481\n",
      "bed_length                  85.696924\n",
      "bed_height                  85.696924\n",
      "owner_count                 50.566426\n",
      "salvage                     47.552533\n",
      "theft_title                 47.552533\n",
      "frame_damaged               47.552533\n",
      "fleet                       47.552533\n",
      "has_accidents               47.552533\n",
      "isCab                       47.552533\n",
      "franchise_make              19.087579\n",
      "torque                      17.259537\n",
      "city_fuel_economy           16.375948\n",
      "highway_fuel_economy        16.375948\n",
      "power                       16.047319\n",
      "interior_color              12.799363\n",
      "main_picture_url            12.302936\n",
      "major_options                6.668178\n",
      "engine_displacement          5.746123\n",
      "horsepower                   5.746123\n",
      "width                        5.308896\n",
      "back_legroom                 5.308896\n",
      "front_legroom                5.308896\n",
      "height                       5.308896\n",
      "fuel_tank_volume             5.308896\n",
      "length                       5.308896\n",
      "maximum_seating              5.308896\n",
      "wheelbase                    5.308896\n",
      "wheel_system_display         4.891001\n",
      "wheel_system                 4.891001\n",
      "mileage                      4.812836\n",
      "trim_name                    3.876415\n",
      "trimId                       3.860849\n",
      "engine_cylinders             3.352655\n",
      "engine_type                  3.352655\n",
      "fuel_type                    2.757430\n",
      "description                  2.596665\n",
      "transmission                 2.139471\n",
      "transmission_display         2.139471\n",
      "exterior_color               1.665144\n",
      "seller_rating                1.362382\n",
      "body_type                    0.451427\n",
      "sp_id                        0.003200\n",
      "vin                          0.000000\n",
      "is_new                       0.000000\n",
      "franchise_dealer             0.000000\n",
      "daysonmarket                 0.000000\n",
      "dealer_zip                   0.000000\n",
      "city                         0.000000\n",
      "listed_date                  0.000000\n",
      "longitude                    0.000000\n",
      "listing_id                   0.000000\n",
      "price                        0.000000\n",
      "model_name                   0.000000\n",
      "make_name                    0.000000\n",
      "latitude                     0.000000\n",
      "listing_color                0.000000\n",
      "sp_name                      0.000000\n",
      "savings_amount               0.000000\n",
      "year                         0.000000\n",
      "dtype: float64\n"
     ]
    }
   ],
   "source": [
    "pd.set_option('display.max_rows', None)\n",
    "print(df_null_perc)\n",
    "pd.reset_option('display.max_rows', None)"
   ]
  },
  {
   "cell_type": "code",
   "execution_count": 12,
   "id": "43655363-af01-4333-9da5-9954ed0055ba",
   "metadata": {},
   "outputs": [
    {
     "data": {
      "text/plain": [
       "(3000040, 66)"
      ]
     },
     "execution_count": 12,
     "metadata": {},
     "output_type": "execute_result"
    }
   ],
   "source": [
    "cars.shape"
   ]
  },
  {
   "cell_type": "code",
   "execution_count": 13,
   "id": "7f4ddbc5-6ead-4a3f-a1a1-6a9b2b2e4284",
   "metadata": {},
   "outputs": [
    {
     "data": {
      "text/plain": [
       "np.int64(3000040)"
      ]
     },
     "execution_count": 13,
     "metadata": {},
     "output_type": "execute_result"
    }
   ],
   "source": [
    "cars.is_certified.isna().sum()"
   ]
  },
  {
   "cell_type": "code",
   "execution_count": 14,
   "id": "f87d251d-85a1-4561-9726-c9ab8f470b9c",
   "metadata": {},
   "outputs": [],
   "source": [
    "#removing all rows where percentage of null values is greater than 80%\n"
   ]
  },
  {
   "cell_type": "code",
   "execution_count": 15,
   "id": "cac811d5-a6c0-4af7-9d49-f504c4c67618",
   "metadata": {},
   "outputs": [],
   "source": [
    "# engine_displacement          "
   ]
  },
  {
   "cell_type": "code",
   "execution_count": 16,
   "id": "b1b14536-9e9b-4775-b7c0-c40cae5fc38c",
   "metadata": {},
   "outputs": [],
   "source": [
    "# engine_displacement -       5.746123\n",
    "# horsepower                   5.746123\n",
    "# combine_fuel_economy       100.000000\n",
    "# body_type                    0.451427\n",
    "# is_new                       0.000000\n",
    "# is_certified               100.00000\n",
    "# daysonmarket                 0.000000\n",
    "# has_accidents               47.552533\n",
    "# city                         0.000000\n",
    "# dealer_zip                   0.000000\n",
    "\n",
    "\n",
    "# is_cpo                      93.903481\n",
    "\n"
   ]
  },
  {
   "cell_type": "code",
   "execution_count": 17,
   "id": "15f383a3-9fbd-4601-85c5-a0d5c3b104f9",
   "metadata": {},
   "outputs": [],
   "source": [
    "# is_certified               100.000000\n",
    "# combine_fuel_economy       100.000000\n",
    "# vehicle_damage_category    100.000000\n",
    "# bed                         99.347742\n",
    "# cabin                       97.882262\n",
    "# is_oemcpo                   95.487993\n",
    "# is_cpo                      93.903481\n",
    "# bed_length                  85.696924\n",
    "# bed_height                  85.696924\n",
    "# owner_count                 50.566426\n",
    "# salvage                     47.552533\n",
    "# theft_title                 47.552533\n",
    "# frame_damaged               47.552533\n",
    "# fleet                       47.552533\n",
    "# has_accidents               47.552533\n",
    "# isCab                       47.552533\n",
    "# franchise_make              19.087579\n",
    "# torque                      17.259537\n",
    "# city_fuel_economy           16.375948\n",
    "# highway_fuel_economy        16.375948\n",
    "# power                       16.047319\n",
    "# interior_color              12.799363\n",
    "# main_picture_url            12.302936\n",
    "# major_options                6.668178\n",
    "# engine_displacement          5.746123\n",
    "# horsepower                   5.746123\n",
    "# width                        5.308896\n",
    "# back_legroom                 5.308896\n",
    "# front_legroom                5.308896\n",
    "# height                       5.308896\n",
    "# fuel_tank_volume             5.308896\n",
    "# length                       5.308896\n",
    "# maximum_seating              5.308896\n",
    "# wheelbase                    5.308896\n",
    "# wheel_system_display         4.891001\n",
    "# wheel_system                 4.891001\n",
    "# mileage                      4.812836\n",
    "# trim_name                    3.876415\n",
    "# trimId                       3.860849\n",
    "# engine_cylinders             3.352655\n",
    "# engine_type                  3.352655\n",
    "# fuel_type                    2.757430\n",
    "# description                  2.596665\n",
    "# transmission                 2.139471\n",
    "# transmission_display         2.139471\n",
    "# exterior_color               1.665144\n",
    "# seller_rating                1.362382\n",
    "# body_type                    0.451427\n",
    "# sp_id                        0.003200\n",
    "# vin                          0.000000\n",
    "# is_new                       0.000000\n",
    "# franchise_dealer             0.000000\n",
    "# daysonmarket                 0.000000\n",
    "# dealer_zip                   0.000000\n",
    "# city                         0.000000\n",
    "# listed_date                  0.000000\n",
    "# longitude                    0.000000\n",
    "# listing_id                   0.000000\n",
    "# price                        0.000000\n",
    "# model_name                   0.000000\n",
    "# make_name                    0.000000\n",
    "# latitude                     0.000000\n",
    "# listing_color                0.000000\n",
    "# sp_name                      0.000000\n",
    "# savings_amount               0.000000\n",
    "# year                         0.000000"
   ]
  },
  {
   "cell_type": "code",
   "execution_count": null,
   "id": "1e6130ed-c0dc-440d-8cd3-b9ac8066205b",
   "metadata": {},
   "outputs": [],
   "source": []
  },
  {
   "cell_type": "code",
   "execution_count": 18,
   "id": "a470be15-82a3-42b0-b2cc-5a60f0e79640",
   "metadata": {},
   "outputs": [],
   "source": [
    "# is_certified               100.000000\n",
    "# combine_fuel_economy       100.000000\n",
    "# vehicle_damage_category    100.000000\n",
    "# bed                         99.347742\n",
    "# cabin                       97.882262\n",
    "# is_oemcpo                   95.487993\n",
    "# is_cpo                      93.903481\n",
    "# bed_length                  85.696924\n",
    "# bed_height"
   ]
  },
  {
   "cell_type": "code",
   "execution_count": 230,
   "id": "df2f5e62-aa28-4c66-a311-51eb8a58b3d4",
   "metadata": {},
   "outputs": [
    {
     "data": {
      "text/plain": [
       "Index(['is_certified', 'combine_fuel_economy', 'vehicle_damage_category',\n",
       "       'bed', 'cabin', 'is_oemcpo', 'is_cpo', 'bed_length', 'bed_height'],\n",
       "      dtype='object')"
      ]
     },
     "execution_count": 230,
     "metadata": {},
     "output_type": "execute_result"
    }
   ],
   "source": [
    "df_nulls=df_null_perc[df_null_perc>80].index   #stores the columns with more than 80% null values\n",
    "df_nulls"
   ]
  },
  {
   "cell_type": "code",
   "execution_count": 231,
   "id": "527907e1-4978-4a3c-bf8e-bfc683ec4da7",
   "metadata": {},
   "outputs": [],
   "source": [
    "cleaned_cars=cars.drop(df_nulls,axis=1)"
   ]
  },
  {
   "cell_type": "code",
   "execution_count": 232,
   "id": "4d34b925-f592-4b0c-abdf-e1b0d88f84df",
   "metadata": {},
   "outputs": [
    {
     "data": {
      "text/plain": [
       "owner_count             50.566426\n",
       "has_accidents           47.552533\n",
       "isCab                   47.552533\n",
       "frame_damaged           47.552533\n",
       "fleet                   47.552533\n",
       "salvage                 47.552533\n",
       "theft_title             47.552533\n",
       "franchise_make          19.087579\n",
       "torque                  17.259537\n",
       "highway_fuel_economy    16.375948\n",
       "city_fuel_economy       16.375948\n",
       "power                   16.047319\n",
       "interior_color          12.799363\n",
       "main_picture_url        12.302936\n",
       "major_options            6.668178\n",
       "horsepower               5.746123\n",
       "engine_displacement      5.746123\n",
       "maximum_seating          5.308896\n",
       "fuel_tank_volume         5.308896\n",
       "height                   5.308896\n",
       "front_legroom            5.308896\n",
       "back_legroom             5.308896\n",
       "wheelbase                5.308896\n",
       "length                   5.308896\n",
       "width                    5.308896\n",
       "wheel_system_display     4.891001\n",
       "wheel_system             4.891001\n",
       "mileage                  4.812836\n",
       "trim_name                3.876415\n",
       "trimId                   3.860849\n",
       "engine_type              3.352655\n",
       "engine_cylinders         3.352655\n",
       "fuel_type                2.757430\n",
       "description              2.596665\n",
       "transmission_display     2.139471\n",
       "transmission             2.139471\n",
       "exterior_color           1.665144\n",
       "seller_rating            1.362382\n",
       "body_type                0.451427\n",
       "sp_id                    0.003200\n",
       "vin                      0.000000\n",
       "franchise_dealer         0.000000\n",
       "city                     0.000000\n",
       "dealer_zip               0.000000\n",
       "daysonmarket             0.000000\n",
       "price                    0.000000\n",
       "listing_color            0.000000\n",
       "listing_id               0.000000\n",
       "longitude                0.000000\n",
       "latitude                 0.000000\n",
       "model_name               0.000000\n",
       "make_name                0.000000\n",
       "is_new                   0.000000\n",
       "listed_date              0.000000\n",
       "savings_amount           0.000000\n",
       "sp_name                  0.000000\n",
       "year                     0.000000\n",
       "dtype: float64"
      ]
     },
     "execution_count": 232,
     "metadata": {},
     "output_type": "execute_result"
    }
   ],
   "source": [
    "((cleaned_cars.isna().sum()/cleaned_cars.shape[0])*100).sort_values(ascending=False) #thus high null value columns are dropped"
   ]
  },
  {
   "cell_type": "code",
   "execution_count": null,
   "id": "0065645a-85e2-47d8-a942-33f6267265d1",
   "metadata": {},
   "outputs": [],
   "source": []
  },
  {
   "cell_type": "code",
   "execution_count": 233,
   "id": "b42e897d-425b-40b8-9420-004b20d4b8dc",
   "metadata": {},
   "outputs": [],
   "source": [
    "df_nulls_45_and_51=df_null_perc[(df_null_perc<51) & (df_null_perc>45)]#.index "
   ]
  },
  {
   "cell_type": "code",
   "execution_count": 234,
   "id": "eeac512e-7604-4cab-b795-e99e7ea77cdb",
   "metadata": {},
   "outputs": [
    {
     "data": {
      "text/plain": [
       "owner_count      50.566426\n",
       "salvage          47.552533\n",
       "theft_title      47.552533\n",
       "frame_damaged    47.552533\n",
       "fleet            47.552533\n",
       "has_accidents    47.552533\n",
       "isCab            47.552533\n",
       "dtype: float64"
      ]
     },
     "execution_count": 234,
     "metadata": {},
     "output_type": "execute_result"
    }
   ],
   "source": [
    "df_nulls_45_and_51"
   ]
  },
  {
   "cell_type": "code",
   "execution_count": 235,
   "id": "0e2f5f07-1fcd-4977-9d5f-5790dff19778",
   "metadata": {},
   "outputs": [
    {
     "data": {
      "text/html": [
       "<div>\n",
       "<style scoped>\n",
       "    .dataframe tbody tr th:only-of-type {\n",
       "        vertical-align: middle;\n",
       "    }\n",
       "\n",
       "    .dataframe tbody tr th {\n",
       "        vertical-align: top;\n",
       "    }\n",
       "\n",
       "    .dataframe thead th {\n",
       "        text-align: right;\n",
       "    }\n",
       "</style>\n",
       "<table border=\"1\" class=\"dataframe\">\n",
       "  <thead>\n",
       "    <tr style=\"text-align: right;\">\n",
       "      <th></th>\n",
       "      <th>owner_count</th>\n",
       "      <th>salvage</th>\n",
       "      <th>theft_title</th>\n",
       "      <th>frame_damaged</th>\n",
       "      <th>fleet</th>\n",
       "      <th>has_accidents</th>\n",
       "      <th>isCab</th>\n",
       "    </tr>\n",
       "  </thead>\n",
       "  <tbody>\n",
       "    <tr>\n",
       "      <th>0</th>\n",
       "      <td>NaN</td>\n",
       "      <td>NaN</td>\n",
       "      <td>NaN</td>\n",
       "      <td>NaN</td>\n",
       "      <td>NaN</td>\n",
       "      <td>NaN</td>\n",
       "      <td>NaN</td>\n",
       "    </tr>\n",
       "    <tr>\n",
       "      <th>1</th>\n",
       "      <td>NaN</td>\n",
       "      <td>NaN</td>\n",
       "      <td>NaN</td>\n",
       "      <td>NaN</td>\n",
       "      <td>NaN</td>\n",
       "      <td>NaN</td>\n",
       "      <td>NaN</td>\n",
       "    </tr>\n",
       "    <tr>\n",
       "      <th>2</th>\n",
       "      <td>3.0</td>\n",
       "      <td>False</td>\n",
       "      <td>False</td>\n",
       "      <td>False</td>\n",
       "      <td>False</td>\n",
       "      <td>False</td>\n",
       "      <td>False</td>\n",
       "    </tr>\n",
       "    <tr>\n",
       "      <th>3</th>\n",
       "      <td>NaN</td>\n",
       "      <td>NaN</td>\n",
       "      <td>NaN</td>\n",
       "      <td>NaN</td>\n",
       "      <td>NaN</td>\n",
       "      <td>NaN</td>\n",
       "      <td>NaN</td>\n",
       "    </tr>\n",
       "    <tr>\n",
       "      <th>4</th>\n",
       "      <td>NaN</td>\n",
       "      <td>NaN</td>\n",
       "      <td>NaN</td>\n",
       "      <td>NaN</td>\n",
       "      <td>NaN</td>\n",
       "      <td>NaN</td>\n",
       "      <td>NaN</td>\n",
       "    </tr>\n",
       "    <tr>\n",
       "      <th>...</th>\n",
       "      <td>...</td>\n",
       "      <td>...</td>\n",
       "      <td>...</td>\n",
       "      <td>...</td>\n",
       "      <td>...</td>\n",
       "      <td>...</td>\n",
       "      <td>...</td>\n",
       "    </tr>\n",
       "    <tr>\n",
       "      <th>3000035</th>\n",
       "      <td>1.0</td>\n",
       "      <td>False</td>\n",
       "      <td>False</td>\n",
       "      <td>False</td>\n",
       "      <td>True</td>\n",
       "      <td>False</td>\n",
       "      <td>True</td>\n",
       "    </tr>\n",
       "    <tr>\n",
       "      <th>3000036</th>\n",
       "      <td>NaN</td>\n",
       "      <td>NaN</td>\n",
       "      <td>NaN</td>\n",
       "      <td>NaN</td>\n",
       "      <td>NaN</td>\n",
       "      <td>NaN</td>\n",
       "      <td>NaN</td>\n",
       "    </tr>\n",
       "    <tr>\n",
       "      <th>3000037</th>\n",
       "      <td>2.0</td>\n",
       "      <td>False</td>\n",
       "      <td>False</td>\n",
       "      <td>False</td>\n",
       "      <td>False</td>\n",
       "      <td>True</td>\n",
       "      <td>False</td>\n",
       "    </tr>\n",
       "    <tr>\n",
       "      <th>3000038</th>\n",
       "      <td>1.0</td>\n",
       "      <td>False</td>\n",
       "      <td>False</td>\n",
       "      <td>False</td>\n",
       "      <td>False</td>\n",
       "      <td>False</td>\n",
       "      <td>False</td>\n",
       "    </tr>\n",
       "    <tr>\n",
       "      <th>3000039</th>\n",
       "      <td>1.0</td>\n",
       "      <td>False</td>\n",
       "      <td>False</td>\n",
       "      <td>False</td>\n",
       "      <td>False</td>\n",
       "      <td>False</td>\n",
       "      <td>False</td>\n",
       "    </tr>\n",
       "  </tbody>\n",
       "</table>\n",
       "<p>3000040 rows × 7 columns</p>\n",
       "</div>"
      ],
      "text/plain": [
       "         owner_count salvage theft_title frame_damaged  fleet has_accidents  \\\n",
       "0                NaN     NaN         NaN           NaN    NaN           NaN   \n",
       "1                NaN     NaN         NaN           NaN    NaN           NaN   \n",
       "2                3.0   False       False         False  False         False   \n",
       "3                NaN     NaN         NaN           NaN    NaN           NaN   \n",
       "4                NaN     NaN         NaN           NaN    NaN           NaN   \n",
       "...              ...     ...         ...           ...    ...           ...   \n",
       "3000035          1.0   False       False         False   True         False   \n",
       "3000036          NaN     NaN         NaN           NaN    NaN           NaN   \n",
       "3000037          2.0   False       False         False  False          True   \n",
       "3000038          1.0   False       False         False  False         False   \n",
       "3000039          1.0   False       False         False  False         False   \n",
       "\n",
       "         isCab  \n",
       "0          NaN  \n",
       "1          NaN  \n",
       "2        False  \n",
       "3          NaN  \n",
       "4          NaN  \n",
       "...        ...  \n",
       "3000035   True  \n",
       "3000036    NaN  \n",
       "3000037  False  \n",
       "3000038  False  \n",
       "3000039  False  \n",
       "\n",
       "[3000040 rows x 7 columns]"
      ]
     },
     "execution_count": 235,
     "metadata": {},
     "output_type": "execute_result"
    }
   ],
   "source": [
    "cleaned_cars[df_nulls_45_and_51.index]#.value_counts()"
   ]
  },
  {
   "cell_type": "code",
   "execution_count": 236,
   "id": "913f50d0-8397-442a-a618-f47dfbad1a61",
   "metadata": {},
   "outputs": [
    {
     "name": "stdout",
     "output_type": "stream",
     "text": [
      "owner_count\n",
      "1.0     972936\n",
      "2.0     330624\n",
      "3.0     116775\n",
      "4.0      39764\n",
      "5.0      14207\n",
      "6.0       5286\n",
      "7.0       1977\n",
      "8.0        836\n",
      "9.0        366\n",
      "10.0       128\n",
      "11.0        73\n",
      "12.0        21\n",
      "13.0        16\n",
      "14.0         7\n",
      "15.0         6\n",
      "16.0         3\n",
      "19.0         1\n",
      "18.0         1\n",
      "Name: count, dtype: int64\n",
      "\n",
      "salvage\n",
      "False    1562918\n",
      "True       10527\n",
      "Name: count, dtype: int64\n",
      "\n",
      "theft_title\n",
      "False    1568179\n",
      "True        5266\n",
      "Name: count, dtype: int64\n",
      "\n",
      "frame_damaged\n",
      "False    1558494\n",
      "True       14951\n",
      "Name: count, dtype: int64\n",
      "\n",
      "fleet\n",
      "False    1238507\n",
      "True      334938\n",
      "Name: count, dtype: int64\n",
      "\n",
      "has_accidents\n",
      "False    1330491\n",
      "True      242954\n",
      "Name: count, dtype: int64\n",
      "\n",
      "isCab\n",
      "False    1286504\n",
      "True      286941\n",
      "Name: count, dtype: int64\n",
      "\n"
     ]
    }
   ],
   "source": [
    "#for finding unique values in columns having  between 45 to 51 % of null values\n",
    "for i in df_nulls_45_and_51.index:\n",
    "    print(cleaned_cars[i].value_counts())\n",
    "    print()"
   ]
  },
  {
   "cell_type": "markdown",
   "id": "1ed3da1f-6d77-4107-bf79-c3f485a27791",
   "metadata": {},
   "source": [
    "for fleet dataset-\n",
    " \n",
    "False    12,38,507 ~12 lakhs  4\n",
    "\n",
    "True      3,34,938 ~3 lakhs   1"
   ]
  },
  {
   "cell_type": "code",
   "execution_count": null,
   "id": "cd100319-763d-45a0-9095-adac2749112a",
   "metadata": {},
   "outputs": [],
   "source": []
  },
  {
   "cell_type": "code",
   "execution_count": 237,
   "id": "95d4e605-7901-4528-9ed3-2b833b01f039",
   "metadata": {},
   "outputs": [],
   "source": [
    "#random example fort shuffling\n",
    "x=np.array([1,1,1,1,1,2,2,2,2,2,2,2])\n",
    "np.random.shuffle(x)"
   ]
  },
  {
   "cell_type": "code",
   "execution_count": 238,
   "id": "f21f8fcf-fa68-4cce-a813-a1bd47aaadd2",
   "metadata": {},
   "outputs": [
    {
     "data": {
      "text/plain": [
       "array([1, 2, 2, 2, 2, 1, 2, 1, 2, 2, 1, 1])"
      ]
     },
     "execution_count": 238,
     "metadata": {},
     "output_type": "execute_result"
    }
   ],
   "source": [
    "x"
   ]
  },
  {
   "cell_type": "markdown",
   "id": "07b7f44f-c898-4f3f-84c4-60c925c2c417",
   "metadata": {},
   "source": [
    "**For fleet-**"
   ]
  },
  {
   "cell_type": "code",
   "execution_count": 239,
   "id": "1fcae4a9-b2b7-4624-9421-0d6416944a33",
   "metadata": {},
   "outputs": [
    {
     "data": {
      "text/plain": [
       "0            NaN\n",
       "1            NaN\n",
       "2          False\n",
       "3            NaN\n",
       "4            NaN\n",
       "           ...  \n",
       "3000035     True\n",
       "3000036      NaN\n",
       "3000037    False\n",
       "3000038    False\n",
       "3000039    False\n",
       "Name: fleet, Length: 3000040, dtype: object"
      ]
     },
     "execution_count": 239,
     "metadata": {},
     "output_type": "execute_result"
    }
   ],
   "source": [
    "cleaned_cars['fleet']"
   ]
  },
  {
   "cell_type": "code",
   "execution_count": 240,
   "id": "572fb0e9-18b8-4cd7-906d-990cc27c6674",
   "metadata": {},
   "outputs": [
    {
     "data": {
      "text/plain": [
       "array([      0,       1,       3, ..., 3000029, 3000032, 3000036])"
      ]
     },
     "execution_count": 240,
     "metadata": {},
     "output_type": "execute_result"
    }
   ],
   "source": [
    "nl_fleet=np.where(cleaned_cars['fleet'].isnull())[0]\n",
    "nl_fleet"
   ]
  },
  {
   "cell_type": "code",
   "execution_count": 241,
   "id": "df9e2d0f-bb7c-42b7-bbd0-4ebff7f1db2b",
   "metadata": {},
   "outputs": [
    {
     "data": {
      "text/plain": [
       "fleet\n",
       "False    1238507\n",
       "True      334938\n",
       "Name: count, dtype: int64"
      ]
     },
     "execution_count": 241,
     "metadata": {},
     "output_type": "execute_result"
    }
   ],
   "source": [
    "cleaned_cars['fleet'].value_counts()\n"
   ]
  },
  {
   "cell_type": "code",
   "execution_count": 242,
   "id": "edd7fa47-7624-4d51-b1d7-917a51db5e1c",
   "metadata": {},
   "outputs": [
    {
     "data": {
      "text/plain": [
       "fleet\n",
       "False    0.787131\n",
       "True     0.212869\n",
       "Name: count, dtype: float64"
      ]
     },
     "execution_count": 242,
     "metadata": {},
     "output_type": "execute_result"
    }
   ],
   "source": [
    "cleaned_cars['fleet'].value_counts()/1573445\n"
   ]
  },
  {
   "cell_type": "code",
   "execution_count": 243,
   "id": "ddefa957-e7ca-4ac9-acc7-197f68c350c7",
   "metadata": {},
   "outputs": [],
   "source": [
    "# 80:20 = 4:1  = False:True in is_accidents\n"
   ]
  },
  {
   "cell_type": "code",
   "execution_count": 244,
   "id": "b9244221-b57c-4fae-8501-9ba3bb9a654b",
   "metadata": {},
   "outputs": [
    {
     "data": {
      "text/plain": [
       "np.int64(1426595)"
      ]
     },
     "execution_count": 244,
     "metadata": {},
     "output_type": "execute_result"
    }
   ],
   "source": [
    "cleaned_cars['fleet'].isna().sum()  #total null values"
   ]
  },
  {
   "cell_type": "code",
   "execution_count": 245,
   "id": "99b0bc60-c13d-44c1-8dab-19b0a047c5fd",
   "metadata": {},
   "outputs": [
    {
     "data": {
      "text/plain": [
       "np.float64(285319.0)"
      ]
     },
     "execution_count": 245,
     "metadata": {},
     "output_type": "execute_result"
    }
   ],
   "source": [
    "cleaned_cars['fleet'].isna().sum()/5"
   ]
  },
  {
   "cell_type": "code",
   "execution_count": 246,
   "id": "a530b332-0ae9-4272-838c-7b3e022d1734",
   "metadata": {},
   "outputs": [
    {
     "name": "stdout",
     "output_type": "stream",
     "text": [
      "True 285319\n",
      "False 1141276\n"
     ]
    }
   ],
   "source": [
    "print('True',285319)\n",
    "print('False',285319*4)\n"
   ]
  },
  {
   "cell_type": "code",
   "execution_count": 247,
   "id": "189dc0ee-b0d4-47c0-a67d-c37a79b7162d",
   "metadata": {},
   "outputs": [
    {
     "data": {
      "text/plain": [
       "1426595"
      ]
     },
     "execution_count": 247,
     "metadata": {},
     "output_type": "execute_result"
    }
   ],
   "source": [
    "1141276+285319"
   ]
  },
  {
   "cell_type": "code",
   "execution_count": 248,
   "id": "0ee836cc-4df0-473e-8ce1-ceaf90426e01",
   "metadata": {},
   "outputs": [
    {
     "data": {
      "text/plain": [
       "array([ True, False,  True, False,  True, False,  True, False,  True,\n",
       "       False])"
      ]
     },
     "execution_count": 248,
     "metadata": {},
     "output_type": "execute_result"
    }
   ],
   "source": [
    "np.array(([1,0]*5)).astype(bool)\n"
   ]
  },
  {
   "cell_type": "code",
   "execution_count": 249,
   "id": "7f1375ff-10a7-45bc-94ba-f0ba8a781890",
   "metadata": {},
   "outputs": [
    {
     "data": {
      "text/plain": [
       "array([ True,  True,  True, ..., False, False, False])"
      ]
     },
     "execution_count": 249,
     "metadata": {},
     "output_type": "execute_result"
    }
   ],
   "source": [
    "arr_of_1_0_for_fleet=np.array([1]*285319+[0]*1141276).astype(bool)\n",
    "arr_of_1_0_for_fleet"
   ]
  },
  {
   "cell_type": "code",
   "execution_count": 250,
   "id": "75c6d279-2754-4a4a-9525-b0fe7332bf34",
   "metadata": {},
   "outputs": [
    {
     "data": {
      "text/plain": [
       "np.int64(285319)"
      ]
     },
     "execution_count": 250,
     "metadata": {},
     "output_type": "execute_result"
    }
   ],
   "source": [
    "sum(arr_of_1_0_for_fleet)"
   ]
  },
  {
   "cell_type": "code",
   "execution_count": 251,
   "id": "89bc3fa3-e377-4303-b786-7a8b8a6f6d3d",
   "metadata": {},
   "outputs": [],
   "source": [
    "np.random.shuffle(arr_of_1_0_for_fleet)"
   ]
  },
  {
   "cell_type": "code",
   "execution_count": 252,
   "id": "1e69548e-4776-4a4e-86f0-9be821ae8ec5",
   "metadata": {},
   "outputs": [],
   "source": [
    "# pd.reset_option('display.max_rows', None)"
   ]
  },
  {
   "cell_type": "code",
   "execution_count": 253,
   "id": "1e49144a-a4b4-46f9-accd-2d0e9647a0b9",
   "metadata": {},
   "outputs": [
    {
     "data": {
      "text/plain": [
       "array([False, False, False, ...,  True, False, False])"
      ]
     },
     "execution_count": 253,
     "metadata": {},
     "output_type": "execute_result"
    }
   ],
   "source": [
    "arr_of_1_0_for_fleet"
   ]
  },
  {
   "cell_type": "code",
   "execution_count": 254,
   "id": "0e7e72b1-c6f4-49f3-aa1f-aea29aaf5efd",
   "metadata": {},
   "outputs": [
    {
     "data": {
      "text/plain": [
       "array([      0,       1,       3, ..., 3000029, 3000032, 3000036])"
      ]
     },
     "execution_count": 254,
     "metadata": {},
     "output_type": "execute_result"
    }
   ],
   "source": [
    "nl_fleet"
   ]
  },
  {
   "cell_type": "code",
   "execution_count": 255,
   "id": "ea40089c-d6ec-45a7-9ac1-d702b7f324ae",
   "metadata": {},
   "outputs": [],
   "source": [
    "cleaned_cars.loc[nl_fleet,'fleet']=arr_of_1_0_for_fleet"
   ]
  },
  {
   "cell_type": "code",
   "execution_count": 256,
   "id": "c267de07-e2a9-4da7-9614-8589fcc81f3c",
   "metadata": {},
   "outputs": [
    {
     "data": {
      "text/plain": [
       "np.int64(0)"
      ]
     },
     "execution_count": 256,
     "metadata": {},
     "output_type": "execute_result"
    }
   ],
   "source": [
    "cleaned_cars['fleet'].isna().sum()"
   ]
  },
  {
   "cell_type": "code",
   "execution_count": 257,
   "id": "314f94aa-33b9-4317-9ef3-5a5d2ff7530c",
   "metadata": {},
   "outputs": [],
   "source": [
    "# for i in arr_of_1_0_for_has_acc:print(i)"
   ]
  },
  {
   "cell_type": "code",
   "execution_count": null,
   "id": "4ad2485d-5957-4871-a1ca-e3840e7ce90d",
   "metadata": {},
   "outputs": [],
   "source": []
  },
  {
   "cell_type": "markdown",
   "id": "c6505ead-640d-442e-8350-4fa324ddd243",
   "metadata": {},
   "source": [
    "**for has_accidents-**"
   ]
  },
  {
   "cell_type": "code",
   "execution_count": 258,
   "id": "6eacd778-4cb2-4d43-96ea-3dce151409b6",
   "metadata": {},
   "outputs": [
    {
     "data": {
      "text/plain": [
       "0            NaN\n",
       "1            NaN\n",
       "2          False\n",
       "3            NaN\n",
       "4            NaN\n",
       "           ...  \n",
       "3000035    False\n",
       "3000036      NaN\n",
       "3000037     True\n",
       "3000038    False\n",
       "3000039    False\n",
       "Name: has_accidents, Length: 3000040, dtype: object"
      ]
     },
     "execution_count": 258,
     "metadata": {},
     "output_type": "execute_result"
    }
   ],
   "source": [
    "cleaned_cars['has_accidents']"
   ]
  },
  {
   "cell_type": "code",
   "execution_count": 259,
   "id": "87e87455-b4da-4ae5-b1a7-8461486d2699",
   "metadata": {},
   "outputs": [
    {
     "data": {
      "text/plain": [
       "array([      0,       1,       3, ..., 3000029, 3000032, 3000036])"
      ]
     },
     "execution_count": 259,
     "metadata": {},
     "output_type": "execute_result"
    }
   ],
   "source": [
    "nl_has_acc=np.where(cleaned_cars['has_accidents'].isnull())[0]\n",
    "nl_has_acc"
   ]
  },
  {
   "cell_type": "code",
   "execution_count": 260,
   "id": "af183600-f7e1-4243-9882-b6fd8a04c3a1",
   "metadata": {},
   "outputs": [
    {
     "data": {
      "text/plain": [
       "has_accidents\n",
       "False    1330491\n",
       "True      242954\n",
       "Name: count, dtype: int64"
      ]
     },
     "execution_count": 260,
     "metadata": {},
     "output_type": "execute_result"
    }
   ],
   "source": [
    "cleaned_cars['has_accidents'].value_counts()"
   ]
  },
  {
   "cell_type": "code",
   "execution_count": 261,
   "id": "fc4a4e98-2340-4bac-8837-d3583aa64738",
   "metadata": {},
   "outputs": [
    {
     "data": {
      "text/plain": [
       "1573445"
      ]
     },
     "execution_count": 261,
     "metadata": {},
     "output_type": "execute_result"
    }
   ],
   "source": [
    "1330491+242954"
   ]
  },
  {
   "cell_type": "code",
   "execution_count": 262,
   "id": "e2cafe4a-6a92-42c4-9d3a-5cf8a0694d18",
   "metadata": {},
   "outputs": [
    {
     "data": {
      "text/plain": [
       "has_accidents\n",
       "False    0.845591\n",
       "True     0.154409\n",
       "Name: count, dtype: float64"
      ]
     },
     "execution_count": 262,
     "metadata": {},
     "output_type": "execute_result"
    }
   ],
   "source": [
    "cleaned_cars['has_accidents'].value_counts()/1573445"
   ]
  },
  {
   "cell_type": "code",
   "execution_count": 263,
   "id": "d07fb452-57be-4890-b63f-55c60a4a9fd5",
   "metadata": {},
   "outputs": [],
   "source": [
    "# approx 80:20 = 4:1  = False:True in has_accidents"
   ]
  },
  {
   "cell_type": "code",
   "execution_count": 264,
   "id": "132da732-af26-4d9c-908a-ae2a4ad50f04",
   "metadata": {},
   "outputs": [
    {
     "data": {
      "text/plain": [
       "np.int64(1426595)"
      ]
     },
     "execution_count": 264,
     "metadata": {},
     "output_type": "execute_result"
    }
   ],
   "source": [
    "cleaned_cars['has_accidents'].isna().sum()  #total null values"
   ]
  },
  {
   "cell_type": "code",
   "execution_count": 265,
   "id": "ccadcf90-adaa-4465-908d-b0186bdc7ac8",
   "metadata": {},
   "outputs": [
    {
     "data": {
      "text/plain": [
       "np.float64(285319.0)"
      ]
     },
     "execution_count": 265,
     "metadata": {},
     "output_type": "execute_result"
    }
   ],
   "source": [
    "cleaned_cars['has_accidents'].isna().sum()/5"
   ]
  },
  {
   "cell_type": "code",
   "execution_count": 266,
   "id": "36bcea12-6b5a-4689-b92d-ca3b25ff9212",
   "metadata": {},
   "outputs": [
    {
     "name": "stdout",
     "output_type": "stream",
     "text": [
      "True 285319\n",
      "False 1141276\n"
     ]
    }
   ],
   "source": [
    "print('True',285319)\n",
    "print('False',285319*4)\n"
   ]
  },
  {
   "cell_type": "code",
   "execution_count": 267,
   "id": "20ae98fb-dc82-4cd0-895e-3f24377a80e4",
   "metadata": {},
   "outputs": [
    {
     "data": {
      "text/plain": [
       "1426595"
      ]
     },
     "execution_count": 267,
     "metadata": {},
     "output_type": "execute_result"
    }
   ],
   "source": [
    "1141276+285319"
   ]
  },
  {
   "cell_type": "code",
   "execution_count": null,
   "id": "32b1bd2d-c142-42d3-9084-497e27f7e065",
   "metadata": {},
   "outputs": [],
   "source": []
  },
  {
   "cell_type": "code",
   "execution_count": 268,
   "id": "e289d43b-ade9-4820-a78e-5aa3fb571366",
   "metadata": {},
   "outputs": [
    {
     "data": {
      "text/plain": [
       "array([ True, False,  True, False,  True, False,  True, False,  True,\n",
       "       False])"
      ]
     },
     "execution_count": 268,
     "metadata": {},
     "output_type": "execute_result"
    }
   ],
   "source": [
    "np.array(([1,0]*5)).astype(bool)"
   ]
  },
  {
   "cell_type": "code",
   "execution_count": 269,
   "id": "461bc64c-aabb-40ba-86cc-b1c6054a677c",
   "metadata": {},
   "outputs": [
    {
     "data": {
      "text/plain": [
       "array([ True,  True,  True, ..., False, False, False])"
      ]
     },
     "execution_count": 269,
     "metadata": {},
     "output_type": "execute_result"
    }
   ],
   "source": [
    "arr_of_1_0_for_has_acc=np.array([1]*285319+[0]*1141276).astype(bool)\n",
    "arr_of_1_0_for_has_acc"
   ]
  },
  {
   "cell_type": "code",
   "execution_count": 270,
   "id": "f991b414-5137-4306-a187-83141d441f2e",
   "metadata": {},
   "outputs": [
    {
     "data": {
      "text/plain": [
       "np.int64(285319)"
      ]
     },
     "execution_count": 270,
     "metadata": {},
     "output_type": "execute_result"
    }
   ],
   "source": [
    "sum(arr_of_1_0_for_has_acc)"
   ]
  },
  {
   "cell_type": "code",
   "execution_count": 271,
   "id": "d1fc4e93-0943-4bd7-a3b8-b4c5c51756c7",
   "metadata": {},
   "outputs": [],
   "source": [
    "np.random.shuffle(arr_of_1_0_for_has_acc)"
   ]
  },
  {
   "cell_type": "code",
   "execution_count": 272,
   "id": "d4dbc210-94a3-40bd-a060-0eb6367e3e4b",
   "metadata": {},
   "outputs": [],
   "source": [
    "pd.reset_option('display.max_rows', None)"
   ]
  },
  {
   "cell_type": "code",
   "execution_count": 273,
   "id": "162869e8-7c30-4bb8-b21c-5ed9ee061de9",
   "metadata": {},
   "outputs": [
    {
     "data": {
      "text/plain": [
       "array([False, False,  True, ..., False, False, False])"
      ]
     },
     "execution_count": 273,
     "metadata": {},
     "output_type": "execute_result"
    }
   ],
   "source": [
    "arr_of_1_0_for_has_acc"
   ]
  },
  {
   "cell_type": "code",
   "execution_count": 274,
   "id": "201736da-cdf1-4537-89bc-7726f8ecc7dd",
   "metadata": {},
   "outputs": [
    {
     "data": {
      "text/plain": [
       "array([      0,       1,       3, ..., 3000029, 3000032, 3000036])"
      ]
     },
     "execution_count": 274,
     "metadata": {},
     "output_type": "execute_result"
    }
   ],
   "source": [
    "nl_has_acc"
   ]
  },
  {
   "cell_type": "code",
   "execution_count": 275,
   "id": "b4a31915-8422-4492-a6d5-016c0c5d8ed2",
   "metadata": {},
   "outputs": [],
   "source": [
    "cleaned_cars.loc[nl_has_acc,'has_accidents']=arr_of_1_0_for_has_acc"
   ]
  },
  {
   "cell_type": "code",
   "execution_count": 276,
   "id": "1e712022-7910-484a-b96d-19bc98fd0f1d",
   "metadata": {},
   "outputs": [
    {
     "data": {
      "text/plain": [
       "np.int64(0)"
      ]
     },
     "execution_count": 276,
     "metadata": {},
     "output_type": "execute_result"
    }
   ],
   "source": [
    "cleaned_cars['has_accidents'].isna().sum()"
   ]
  },
  {
   "cell_type": "code",
   "execution_count": 277,
   "id": "9cb72e96-121e-4ccb-8706-776d1ac00bc7",
   "metadata": {},
   "outputs": [],
   "source": [
    "# for i in arr_of_1_0_for_has_acc:print(i)"
   ]
  },
  {
   "cell_type": "code",
   "execution_count": null,
   "id": "7e4e2bcd-6584-4503-8dd0-de008ee8f224",
   "metadata": {},
   "outputs": [],
   "source": []
  },
  {
   "cell_type": "markdown",
   "id": "92e40663-8bf7-4220-b707-3fab2e4a875d",
   "metadata": {},
   "source": [
    "**for salvage**"
   ]
  },
  {
   "cell_type": "code",
   "execution_count": 278,
   "id": "2d4d085e-8f0d-4851-862c-b101a38f8df5",
   "metadata": {},
   "outputs": [
    {
     "data": {
      "text/plain": [
       "array([      0,       1,       3, ..., 3000029, 3000032, 3000036])"
      ]
     },
     "execution_count": 278,
     "metadata": {},
     "output_type": "execute_result"
    }
   ],
   "source": [
    "nl_salvage=np.where(cleaned_cars['salvage'].isnull())[0]\n",
    "nl_salvage"
   ]
  },
  {
   "cell_type": "code",
   "execution_count": 279,
   "id": "f315d822-dd99-482c-b39b-9aa2cc7d48f7",
   "metadata": {},
   "outputs": [
    {
     "data": {
      "text/plain": [
       "salvage\n",
       "False    1562918\n",
       "True       10527\n",
       "Name: count, dtype: int64"
      ]
     },
     "execution_count": 279,
     "metadata": {},
     "output_type": "execute_result"
    }
   ],
   "source": [
    "cleaned_cars['salvage'].value_counts()"
   ]
  },
  {
   "cell_type": "code",
   "execution_count": 280,
   "id": "cee9adfb-5270-4c27-88c0-ef33d7ef3169",
   "metadata": {},
   "outputs": [
    {
     "data": {
      "text/plain": [
       "1573445"
      ]
     },
     "execution_count": 280,
     "metadata": {},
     "output_type": "execute_result"
    }
   ],
   "source": [
    "1562918+10527"
   ]
  },
  {
   "cell_type": "code",
   "execution_count": 281,
   "id": "b3c35c5b-08ad-410d-91c3-1bae76e3b0c7",
   "metadata": {},
   "outputs": [
    {
     "data": {
      "text/plain": [
       "salvage\n",
       "False    0.99331\n",
       "True     0.00669\n",
       "Name: count, dtype: float64"
      ]
     },
     "execution_count": 281,
     "metadata": {},
     "output_type": "execute_result"
    }
   ],
   "source": [
    "cleaned_cars['salvage'].value_counts()/1573445   #can remove 'salvage' column since it has nearly 100% False values"
   ]
  },
  {
   "cell_type": "code",
   "execution_count": null,
   "id": "fcf942d5-b6e4-4b4a-9e46-84730ef17cf5",
   "metadata": {},
   "outputs": [],
   "source": []
  },
  {
   "cell_type": "code",
   "execution_count": null,
   "id": "a10847e6-85c6-4632-9698-2f149b25742a",
   "metadata": {},
   "outputs": [],
   "source": []
  },
  {
   "cell_type": "markdown",
   "id": "1719132a-201d-4d53-b7bc-e3fee21f0847",
   "metadata": {},
   "source": [
    "**for theft_title-**"
   ]
  },
  {
   "cell_type": "code",
   "execution_count": 282,
   "id": "a22cdd13-f992-4ad6-8a98-4a456f027c02",
   "metadata": {},
   "outputs": [
    {
     "data": {
      "text/plain": [
       "array([      0,       1,       3, ..., 3000029, 3000032, 3000036])"
      ]
     },
     "execution_count": 282,
     "metadata": {},
     "output_type": "execute_result"
    }
   ],
   "source": [
    "nl_theft=np.where(cleaned_cars['theft_title'].isnull())[0]\n",
    "nl_theft"
   ]
  },
  {
   "cell_type": "code",
   "execution_count": 283,
   "id": "3a46b3c8-e8d0-4315-8392-7164f76a6b6d",
   "metadata": {},
   "outputs": [
    {
     "data": {
      "text/plain": [
       "theft_title\n",
       "False    1568179\n",
       "True        5266\n",
       "Name: count, dtype: int64"
      ]
     },
     "execution_count": 283,
     "metadata": {},
     "output_type": "execute_result"
    }
   ],
   "source": [
    "cleaned_cars['theft_title'].value_counts()"
   ]
  },
  {
   "cell_type": "code",
   "execution_count": 284,
   "id": "df11e4b7-0232-4c9b-bd77-81f144c61ef3",
   "metadata": {},
   "outputs": [
    {
     "data": {
      "text/plain": [
       "1573445"
      ]
     },
     "execution_count": 284,
     "metadata": {},
     "output_type": "execute_result"
    }
   ],
   "source": [
    "1568179+5266"
   ]
  },
  {
   "cell_type": "code",
   "execution_count": 285,
   "id": "d83ead99-64d1-496e-ae3a-df03c38582f9",
   "metadata": {},
   "outputs": [
    {
     "data": {
      "text/plain": [
       "theft_title\n",
       "False    0.996653\n",
       "True     0.003347\n",
       "Name: count, dtype: float64"
      ]
     },
     "execution_count": 285,
     "metadata": {},
     "output_type": "execute_result"
    }
   ],
   "source": [
    "cleaned_cars['theft_title'].value_counts()/1573445   #can remove 'theft_title' column since it has nearly 100% False values"
   ]
  },
  {
   "cell_type": "code",
   "execution_count": null,
   "id": "b18cf425-773d-4b9c-b720-4f3cf91a6044",
   "metadata": {},
   "outputs": [],
   "source": [
    "\n"
   ]
  },
  {
   "cell_type": "markdown",
   "id": "a06cd5bc-474d-4331-a186-7cdfd995399f",
   "metadata": {},
   "source": [
    "**for frame_damaged-**\n"
   ]
  },
  {
   "cell_type": "code",
   "execution_count": 286,
   "id": "043d8766-aa49-4c6f-a34c-ff3735efd2b8",
   "metadata": {},
   "outputs": [
    {
     "data": {
      "text/plain": [
       "array([      0,       1,       3, ..., 3000029, 3000032, 3000036])"
      ]
     },
     "execution_count": 286,
     "metadata": {},
     "output_type": "execute_result"
    }
   ],
   "source": [
    "nl_frame_damaged=np.where(cleaned_cars['frame_damaged'].isnull())[0]\n",
    "nl_frame_damaged"
   ]
  },
  {
   "cell_type": "code",
   "execution_count": 287,
   "id": "6ed14f00-27f0-48e7-9aa0-097008a73498",
   "metadata": {},
   "outputs": [
    {
     "data": {
      "text/plain": [
       "frame_damaged\n",
       "False    1558494\n",
       "True       14951\n",
       "Name: count, dtype: int64"
      ]
     },
     "execution_count": 287,
     "metadata": {},
     "output_type": "execute_result"
    }
   ],
   "source": [
    "cleaned_cars['frame_damaged'].value_counts()\n"
   ]
  },
  {
   "cell_type": "code",
   "execution_count": 288,
   "id": "4b84cc32-4991-435b-acc4-2aab7f019adb",
   "metadata": {},
   "outputs": [
    {
     "data": {
      "text/plain": [
       "1573445"
      ]
     },
     "execution_count": 288,
     "metadata": {},
     "output_type": "execute_result"
    }
   ],
   "source": [
    "1558494+14951"
   ]
  },
  {
   "cell_type": "code",
   "execution_count": 289,
   "id": "7d6d1147-9225-402a-bf05-9701f5e39828",
   "metadata": {},
   "outputs": [
    {
     "data": {
      "text/plain": [
       "frame_damaged\n",
       "False    0.990498\n",
       "True     0.009502\n",
       "Name: count, dtype: float64"
      ]
     },
     "execution_count": 289,
     "metadata": {},
     "output_type": "execute_result"
    }
   ],
   "source": [
    "cleaned_cars['frame_damaged'].value_counts()/1573445   #can remove 'frame_damaged' column since it has nearly 100% False values\n"
   ]
  },
  {
   "cell_type": "code",
   "execution_count": null,
   "id": "61f37a01-ffec-4767-86ac-1a715dc4cc44",
   "metadata": {},
   "outputs": [],
   "source": []
  },
  {
   "cell_type": "code",
   "execution_count": 290,
   "id": "9e8aa010-58bb-44a0-b0f5-9dc230863e08",
   "metadata": {},
   "outputs": [
    {
     "data": {
      "text/plain": [
       "Index(['owner_count', 'salvage', 'theft_title', 'frame_damaged', 'fleet',\n",
       "       'has_accidents', 'isCab'],\n",
       "      dtype='object')"
      ]
     },
     "execution_count": 290,
     "metadata": {},
     "output_type": "execute_result"
    }
   ],
   "source": [
    "df_nulls_45_and_51.index\n"
   ]
  },
  {
   "cell_type": "code",
   "execution_count": null,
   "id": "a142041c-f82c-4263-98cb-3b7daf4c3aba",
   "metadata": {},
   "outputs": [],
   "source": []
  },
  {
   "cell_type": "code",
   "execution_count": null,
   "id": "554b08c0-0000-4810-8ec1-632089208436",
   "metadata": {},
   "outputs": [],
   "source": []
  },
  {
   "cell_type": "markdown",
   "id": "f97dc989-3606-41db-9e53-1d789ccd4134",
   "metadata": {},
   "source": [
    "**for isCab-**\n"
   ]
  },
  {
   "cell_type": "code",
   "execution_count": 291,
   "id": "2f2e017e-2e9f-4b2f-b27c-bf6a82e0057e",
   "metadata": {},
   "outputs": [
    {
     "data": {
      "text/plain": [
       "array([      0,       1,       3, ..., 3000029, 3000032, 3000036])"
      ]
     },
     "execution_count": 291,
     "metadata": {},
     "output_type": "execute_result"
    }
   ],
   "source": [
    "nl_isCab=np.where(cleaned_cars['isCab'].isnull())[0]\n",
    "nl_isCab"
   ]
  },
  {
   "cell_type": "code",
   "execution_count": 292,
   "id": "04f8e7b6-099b-4fb5-aea3-5bda93fd03c9",
   "metadata": {},
   "outputs": [
    {
     "data": {
      "text/plain": [
       "isCab\n",
       "False    1286504\n",
       "True      286941\n",
       "Name: count, dtype: int64"
      ]
     },
     "execution_count": 292,
     "metadata": {},
     "output_type": "execute_result"
    }
   ],
   "source": [
    "cleaned_cars['isCab'].value_counts()\n"
   ]
  },
  {
   "cell_type": "code",
   "execution_count": 293,
   "id": "2a8ea645-90b8-45d1-a011-7fc516c39521",
   "metadata": {},
   "outputs": [
    {
     "data": {
      "text/plain": [
       "1573445"
      ]
     },
     "execution_count": 293,
     "metadata": {},
     "output_type": "execute_result"
    }
   ],
   "source": [
    "1286504+286941"
   ]
  },
  {
   "cell_type": "code",
   "execution_count": 294,
   "id": "7c711573-5962-4284-adf0-0fa71a3816ae",
   "metadata": {},
   "outputs": [
    {
     "data": {
      "text/plain": [
       "isCab\n",
       "False    0.817635\n",
       "True     0.182365\n",
       "Name: count, dtype: float64"
      ]
     },
     "execution_count": 294,
     "metadata": {},
     "output_type": "execute_result"
    }
   ],
   "source": [
    "cleaned_cars['isCab'].value_counts()/1573445   #can remove 'frame_damaged' column since it has nearly 100% False values\n"
   ]
  },
  {
   "cell_type": "code",
   "execution_count": 295,
   "id": "c750ed69-7582-42ae-a0c6-fb8146b53b0d",
   "metadata": {},
   "outputs": [],
   "source": [
    "# approx 80:20 = 4:1  = False:True in isCab"
   ]
  },
  {
   "cell_type": "code",
   "execution_count": 296,
   "id": "8876be7a-9502-4c13-b034-c6b596c1cfa7",
   "metadata": {},
   "outputs": [
    {
     "data": {
      "text/plain": [
       "np.float64(285319.0)"
      ]
     },
     "execution_count": 296,
     "metadata": {},
     "output_type": "execute_result"
    }
   ],
   "source": [
    "cleaned_cars['isCab'].isna().sum()/5\n"
   ]
  },
  {
   "cell_type": "code",
   "execution_count": 297,
   "id": "3b28685a-29d2-4854-8b0b-f6ef5ea8e969",
   "metadata": {},
   "outputs": [
    {
     "name": "stdout",
     "output_type": "stream",
     "text": [
      "True 285319\n",
      "False 1141276\n"
     ]
    }
   ],
   "source": [
    "print('True',285319)\n",
    "print('False',285319*4)\n"
   ]
  },
  {
   "cell_type": "code",
   "execution_count": null,
   "id": "4e9fcc4a-6a0e-4b46-82ff-f53680b451ef",
   "metadata": {},
   "outputs": [],
   "source": []
  },
  {
   "cell_type": "code",
   "execution_count": 298,
   "id": "a8c26519-abc6-40ae-8d03-95efc38b613d",
   "metadata": {},
   "outputs": [
    {
     "data": {
      "text/plain": [
       "array([ True,  True,  True, ..., False, False, False])"
      ]
     },
     "execution_count": 298,
     "metadata": {},
     "output_type": "execute_result"
    }
   ],
   "source": [
    "arr_of_1_0_for_isCab=np.array([1]*285319+[0]*1141276).astype(bool)\n",
    "arr_of_1_0_for_isCab"
   ]
  },
  {
   "cell_type": "code",
   "execution_count": 299,
   "id": "ecad2030-0cb6-4593-b107-de81911a14bb",
   "metadata": {},
   "outputs": [
    {
     "data": {
      "text/plain": [
       "np.int64(285319)"
      ]
     },
     "execution_count": 299,
     "metadata": {},
     "output_type": "execute_result"
    }
   ],
   "source": [
    "sum(arr_of_1_0_for_isCab)  #total true values to be filled for null values. remaining will be false"
   ]
  },
  {
   "cell_type": "code",
   "execution_count": 300,
   "id": "32699c43-9e52-4da3-baf5-fb2aa1375e80",
   "metadata": {},
   "outputs": [],
   "source": [
    "np.random.shuffle(arr_of_1_0_for_isCab)"
   ]
  },
  {
   "cell_type": "code",
   "execution_count": null,
   "id": "6892514a-4cb1-4247-a1a8-658e2ebe211c",
   "metadata": {},
   "outputs": [],
   "source": []
  },
  {
   "cell_type": "code",
   "execution_count": 301,
   "id": "6fde651b-7016-44f3-b533-195c877405e2",
   "metadata": {},
   "outputs": [],
   "source": [
    "cleaned_cars.loc[nl_isCab,'isCab']=arr_of_1_0_for_has_acc"
   ]
  },
  {
   "cell_type": "code",
   "execution_count": null,
   "id": "8dd5194f-31d6-4db0-8546-1ba1cf20bc19",
   "metadata": {},
   "outputs": [],
   "source": []
  },
  {
   "cell_type": "code",
   "execution_count": 302,
   "id": "e972237c-57a9-4131-b4bd-e572d4ddad77",
   "metadata": {},
   "outputs": [
    {
     "data": {
      "text/html": [
       "<div>\n",
       "<style scoped>\n",
       "    .dataframe tbody tr th:only-of-type {\n",
       "        vertical-align: middle;\n",
       "    }\n",
       "\n",
       "    .dataframe tbody tr th {\n",
       "        vertical-align: top;\n",
       "    }\n",
       "\n",
       "    .dataframe thead th {\n",
       "        text-align: right;\n",
       "    }\n",
       "</style>\n",
       "<table border=\"1\" class=\"dataframe\">\n",
       "  <thead>\n",
       "    <tr style=\"text-align: right;\">\n",
       "      <th></th>\n",
       "      <th>vin</th>\n",
       "      <th>back_legroom</th>\n",
       "      <th>body_type</th>\n",
       "      <th>city</th>\n",
       "      <th>city_fuel_economy</th>\n",
       "      <th>daysonmarket</th>\n",
       "      <th>dealer_zip</th>\n",
       "      <th>description</th>\n",
       "      <th>engine_cylinders</th>\n",
       "      <th>engine_displacement</th>\n",
       "      <th>...</th>\n",
       "      <th>torque</th>\n",
       "      <th>transmission</th>\n",
       "      <th>transmission_display</th>\n",
       "      <th>trimId</th>\n",
       "      <th>trim_name</th>\n",
       "      <th>wheel_system</th>\n",
       "      <th>wheel_system_display</th>\n",
       "      <th>wheelbase</th>\n",
       "      <th>width</th>\n",
       "      <th>year</th>\n",
       "    </tr>\n",
       "  </thead>\n",
       "  <tbody>\n",
       "    <tr>\n",
       "      <th>0</th>\n",
       "      <td>ZACNJABB5KPJ92081</td>\n",
       "      <td>35.1 in</td>\n",
       "      <td>SUV / Crossover</td>\n",
       "      <td>Bayamon</td>\n",
       "      <td>NaN</td>\n",
       "      <td>522</td>\n",
       "      <td>960</td>\n",
       "      <td>[!@@Additional Info@@!]Engine: 2.4L I4 ZERO EV...</td>\n",
       "      <td>I4</td>\n",
       "      <td>1300.0</td>\n",
       "      <td>...</td>\n",
       "      <td>200 lb-ft @ 1,750 RPM</td>\n",
       "      <td>A</td>\n",
       "      <td>9-Speed Automatic Overdrive</td>\n",
       "      <td>t83804</td>\n",
       "      <td>Latitude FWD</td>\n",
       "      <td>FWD</td>\n",
       "      <td>Front-Wheel Drive</td>\n",
       "      <td>101.2 in</td>\n",
       "      <td>79.6 in</td>\n",
       "      <td>2019</td>\n",
       "    </tr>\n",
       "    <tr>\n",
       "      <th>1</th>\n",
       "      <td>SALCJ2FX1LH858117</td>\n",
       "      <td>38.1 in</td>\n",
       "      <td>SUV / Crossover</td>\n",
       "      <td>San Juan</td>\n",
       "      <td>NaN</td>\n",
       "      <td>207</td>\n",
       "      <td>922</td>\n",
       "      <td>[!@@Additional Info@@!]Keyless Entry,Ebony Mor...</td>\n",
       "      <td>I4</td>\n",
       "      <td>2000.0</td>\n",
       "      <td>...</td>\n",
       "      <td>269 lb-ft @ 1,400 RPM</td>\n",
       "      <td>A</td>\n",
       "      <td>9-Speed Automatic Overdrive</td>\n",
       "      <td>t86759</td>\n",
       "      <td>S AWD</td>\n",
       "      <td>AWD</td>\n",
       "      <td>All-Wheel Drive</td>\n",
       "      <td>107.9 in</td>\n",
       "      <td>85.6 in</td>\n",
       "      <td>2020</td>\n",
       "    </tr>\n",
       "    <tr>\n",
       "      <th>2</th>\n",
       "      <td>JF1VA2M67G9829723</td>\n",
       "      <td>35.4 in</td>\n",
       "      <td>Sedan</td>\n",
       "      <td>Guaynabo</td>\n",
       "      <td>17.0</td>\n",
       "      <td>1233</td>\n",
       "      <td>969</td>\n",
       "      <td>NaN</td>\n",
       "      <td>H4</td>\n",
       "      <td>2500.0</td>\n",
       "      <td>...</td>\n",
       "      <td>290 lb-ft @ 4,000 RPM</td>\n",
       "      <td>M</td>\n",
       "      <td>6-Speed Manual</td>\n",
       "      <td>t58994</td>\n",
       "      <td>Base</td>\n",
       "      <td>AWD</td>\n",
       "      <td>All-Wheel Drive</td>\n",
       "      <td>104.3 in</td>\n",
       "      <td>78.9 in</td>\n",
       "      <td>2016</td>\n",
       "    </tr>\n",
       "    <tr>\n",
       "      <th>3</th>\n",
       "      <td>SALRR2RV0L2433391</td>\n",
       "      <td>37.6 in</td>\n",
       "      <td>SUV / Crossover</td>\n",
       "      <td>San Juan</td>\n",
       "      <td>NaN</td>\n",
       "      <td>196</td>\n",
       "      <td>922</td>\n",
       "      <td>[!@@Additional Info@@!]Fog Lights,7 Seat Packa...</td>\n",
       "      <td>V6</td>\n",
       "      <td>3000.0</td>\n",
       "      <td>...</td>\n",
       "      <td>332 lb-ft @ 3,500 RPM</td>\n",
       "      <td>A</td>\n",
       "      <td>8-Speed Automatic Overdrive</td>\n",
       "      <td>t86074</td>\n",
       "      <td>V6 HSE AWD</td>\n",
       "      <td>AWD</td>\n",
       "      <td>All-Wheel Drive</td>\n",
       "      <td>115 in</td>\n",
       "      <td>87.4 in</td>\n",
       "      <td>2020</td>\n",
       "    </tr>\n",
       "    <tr>\n",
       "      <th>4</th>\n",
       "      <td>SALCJ2FXXLH862327</td>\n",
       "      <td>38.1 in</td>\n",
       "      <td>SUV / Crossover</td>\n",
       "      <td>San Juan</td>\n",
       "      <td>NaN</td>\n",
       "      <td>137</td>\n",
       "      <td>922</td>\n",
       "      <td>[!@@Additional Info@@!]Keyless Entry,Ebony Mor...</td>\n",
       "      <td>I4</td>\n",
       "      <td>2000.0</td>\n",
       "      <td>...</td>\n",
       "      <td>269 lb-ft @ 1,400 RPM</td>\n",
       "      <td>A</td>\n",
       "      <td>9-Speed Automatic Overdrive</td>\n",
       "      <td>t86759</td>\n",
       "      <td>S AWD</td>\n",
       "      <td>AWD</td>\n",
       "      <td>All-Wheel Drive</td>\n",
       "      <td>107.9 in</td>\n",
       "      <td>85.6 in</td>\n",
       "      <td>2020</td>\n",
       "    </tr>\n",
       "    <tr>\n",
       "      <th>...</th>\n",
       "      <td>...</td>\n",
       "      <td>...</td>\n",
       "      <td>...</td>\n",
       "      <td>...</td>\n",
       "      <td>...</td>\n",
       "      <td>...</td>\n",
       "      <td>...</td>\n",
       "      <td>...</td>\n",
       "      <td>...</td>\n",
       "      <td>...</td>\n",
       "      <td>...</td>\n",
       "      <td>...</td>\n",
       "      <td>...</td>\n",
       "      <td>...</td>\n",
       "      <td>...</td>\n",
       "      <td>...</td>\n",
       "      <td>...</td>\n",
       "      <td>...</td>\n",
       "      <td>...</td>\n",
       "      <td>...</td>\n",
       "      <td>...</td>\n",
       "    </tr>\n",
       "    <tr>\n",
       "      <th>3000035</th>\n",
       "      <td>2GNAXJEV0J6261526</td>\n",
       "      <td>39.7 in</td>\n",
       "      <td>SUV / Crossover</td>\n",
       "      <td>Fairfield</td>\n",
       "      <td>26.0</td>\n",
       "      <td>16</td>\n",
       "      <td>94533</td>\n",
       "      <td>CarMax Curbside is now available at select sto...</td>\n",
       "      <td>I4</td>\n",
       "      <td>1500.0</td>\n",
       "      <td>...</td>\n",
       "      <td>NaN</td>\n",
       "      <td>A</td>\n",
       "      <td>Automatic</td>\n",
       "      <td>t72936</td>\n",
       "      <td>1.5T LT FWD</td>\n",
       "      <td>FWD</td>\n",
       "      <td>Front-Wheel Drive</td>\n",
       "      <td>107.3 in</td>\n",
       "      <td>72.6 in</td>\n",
       "      <td>2018</td>\n",
       "    </tr>\n",
       "    <tr>\n",
       "      <th>3000036</th>\n",
       "      <td>1GNERFKW0LJ225508</td>\n",
       "      <td>38.4 in</td>\n",
       "      <td>SUV / Crossover</td>\n",
       "      <td>Vallejo</td>\n",
       "      <td>18.0</td>\n",
       "      <td>171</td>\n",
       "      <td>94591</td>\n",
       "      <td>Prices do not include government fees and taxe...</td>\n",
       "      <td>V6</td>\n",
       "      <td>3600.0</td>\n",
       "      <td>...</td>\n",
       "      <td>266 lb-ft @ 2,800 RPM</td>\n",
       "      <td>A</td>\n",
       "      <td>Automatic</td>\n",
       "      <td>t85763</td>\n",
       "      <td>LS FWD</td>\n",
       "      <td>FWD</td>\n",
       "      <td>Front-Wheel Drive</td>\n",
       "      <td>120.9 in</td>\n",
       "      <td>78.6 in</td>\n",
       "      <td>2020</td>\n",
       "    </tr>\n",
       "    <tr>\n",
       "      <th>3000037</th>\n",
       "      <td>3FA6P0HD3GR134062</td>\n",
       "      <td>38.3 in</td>\n",
       "      <td>Sedan</td>\n",
       "      <td>Napa</td>\n",
       "      <td>NaN</td>\n",
       "      <td>91</td>\n",
       "      <td>94559</td>\n",
       "      <td>Introducing the 2016 Ford Fusion! Offering an ...</td>\n",
       "      <td>NaN</td>\n",
       "      <td>2000.0</td>\n",
       "      <td>...</td>\n",
       "      <td>270 lb-ft @ 1,750 RPM</td>\n",
       "      <td>A</td>\n",
       "      <td>6-Speed Automatic Overdrive</td>\n",
       "      <td>t57569</td>\n",
       "      <td>SE</td>\n",
       "      <td>FWD</td>\n",
       "      <td>Front-Wheel Drive</td>\n",
       "      <td>112.2 in</td>\n",
       "      <td>83.5 in</td>\n",
       "      <td>2016</td>\n",
       "    </tr>\n",
       "    <tr>\n",
       "      <th>3000038</th>\n",
       "      <td>SAJAJ4BNXHA968809</td>\n",
       "      <td>35 in</td>\n",
       "      <td>Sedan</td>\n",
       "      <td>Fairfield</td>\n",
       "      <td>30.0</td>\n",
       "      <td>11</td>\n",
       "      <td>94533</td>\n",
       "      <td>CarMax Curbside is now available at select sto...</td>\n",
       "      <td>I4 Diesel</td>\n",
       "      <td>2000.0</td>\n",
       "      <td>...</td>\n",
       "      <td>318 lb-ft @ 1,750 RPM</td>\n",
       "      <td>A</td>\n",
       "      <td>Automatic</td>\n",
       "      <td>t65977</td>\n",
       "      <td>20d Premium AWD</td>\n",
       "      <td>AWD</td>\n",
       "      <td>All-Wheel Drive</td>\n",
       "      <td>111.6 in</td>\n",
       "      <td>81.7 in</td>\n",
       "      <td>2017</td>\n",
       "    </tr>\n",
       "    <tr>\n",
       "      <th>3000039</th>\n",
       "      <td>JN8AT2MT1HW400805</td>\n",
       "      <td>37.9 in</td>\n",
       "      <td>SUV / Crossover</td>\n",
       "      <td>Napa</td>\n",
       "      <td>26.0</td>\n",
       "      <td>17</td>\n",
       "      <td>94559</td>\n",
       "      <td>Here it is!! In these economic times, a super ...</td>\n",
       "      <td>I4</td>\n",
       "      <td>2500.0</td>\n",
       "      <td>...</td>\n",
       "      <td>175 lb-ft @ 4,400 RPM</td>\n",
       "      <td>A</td>\n",
       "      <td>Automatic</td>\n",
       "      <td>t76529</td>\n",
       "      <td>2017.5 SV FWD</td>\n",
       "      <td>FWD</td>\n",
       "      <td>Front-Wheel Drive</td>\n",
       "      <td>106.5 in</td>\n",
       "      <td>72.4 in</td>\n",
       "      <td>2017</td>\n",
       "    </tr>\n",
       "  </tbody>\n",
       "</table>\n",
       "<p>3000040 rows × 57 columns</p>\n",
       "</div>"
      ],
      "text/plain": [
       "                       vin back_legroom        body_type       city  \\\n",
       "0        ZACNJABB5KPJ92081      35.1 in  SUV / Crossover    Bayamon   \n",
       "1        SALCJ2FX1LH858117      38.1 in  SUV / Crossover   San Juan   \n",
       "2        JF1VA2M67G9829723      35.4 in            Sedan   Guaynabo   \n",
       "3        SALRR2RV0L2433391      37.6 in  SUV / Crossover   San Juan   \n",
       "4        SALCJ2FXXLH862327      38.1 in  SUV / Crossover   San Juan   \n",
       "...                    ...          ...              ...        ...   \n",
       "3000035  2GNAXJEV0J6261526      39.7 in  SUV / Crossover  Fairfield   \n",
       "3000036  1GNERFKW0LJ225508      38.4 in  SUV / Crossover    Vallejo   \n",
       "3000037  3FA6P0HD3GR134062      38.3 in            Sedan       Napa   \n",
       "3000038  SAJAJ4BNXHA968809        35 in            Sedan  Fairfield   \n",
       "3000039  JN8AT2MT1HW400805      37.9 in  SUV / Crossover       Napa   \n",
       "\n",
       "         city_fuel_economy  daysonmarket dealer_zip  \\\n",
       "0                      NaN           522        960   \n",
       "1                      NaN           207        922   \n",
       "2                     17.0          1233        969   \n",
       "3                      NaN           196        922   \n",
       "4                      NaN           137        922   \n",
       "...                    ...           ...        ...   \n",
       "3000035               26.0            16      94533   \n",
       "3000036               18.0           171      94591   \n",
       "3000037                NaN            91      94559   \n",
       "3000038               30.0            11      94533   \n",
       "3000039               26.0            17      94559   \n",
       "\n",
       "                                               description engine_cylinders  \\\n",
       "0        [!@@Additional Info@@!]Engine: 2.4L I4 ZERO EV...               I4   \n",
       "1        [!@@Additional Info@@!]Keyless Entry,Ebony Mor...               I4   \n",
       "2                                                      NaN               H4   \n",
       "3        [!@@Additional Info@@!]Fog Lights,7 Seat Packa...               V6   \n",
       "4        [!@@Additional Info@@!]Keyless Entry,Ebony Mor...               I4   \n",
       "...                                                    ...              ...   \n",
       "3000035  CarMax Curbside is now available at select sto...               I4   \n",
       "3000036  Prices do not include government fees and taxe...               V6   \n",
       "3000037  Introducing the 2016 Ford Fusion! Offering an ...              NaN   \n",
       "3000038  CarMax Curbside is now available at select sto...        I4 Diesel   \n",
       "3000039  Here it is!! In these economic times, a super ...               I4   \n",
       "\n",
       "         engine_displacement  ...                 torque transmission  \\\n",
       "0                     1300.0  ...  200 lb-ft @ 1,750 RPM            A   \n",
       "1                     2000.0  ...  269 lb-ft @ 1,400 RPM            A   \n",
       "2                     2500.0  ...  290 lb-ft @ 4,000 RPM            M   \n",
       "3                     3000.0  ...  332 lb-ft @ 3,500 RPM            A   \n",
       "4                     2000.0  ...  269 lb-ft @ 1,400 RPM            A   \n",
       "...                      ...  ...                    ...          ...   \n",
       "3000035               1500.0  ...                    NaN            A   \n",
       "3000036               3600.0  ...  266 lb-ft @ 2,800 RPM            A   \n",
       "3000037               2000.0  ...  270 lb-ft @ 1,750 RPM            A   \n",
       "3000038               2000.0  ...  318 lb-ft @ 1,750 RPM            A   \n",
       "3000039               2500.0  ...  175 lb-ft @ 4,400 RPM            A   \n",
       "\n",
       "                transmission_display  trimId        trim_name wheel_system  \\\n",
       "0        9-Speed Automatic Overdrive  t83804     Latitude FWD          FWD   \n",
       "1        9-Speed Automatic Overdrive  t86759            S AWD          AWD   \n",
       "2                     6-Speed Manual  t58994             Base          AWD   \n",
       "3        8-Speed Automatic Overdrive  t86074       V6 HSE AWD          AWD   \n",
       "4        9-Speed Automatic Overdrive  t86759            S AWD          AWD   \n",
       "...                              ...     ...              ...          ...   \n",
       "3000035                    Automatic  t72936      1.5T LT FWD          FWD   \n",
       "3000036                    Automatic  t85763           LS FWD          FWD   \n",
       "3000037  6-Speed Automatic Overdrive  t57569               SE          FWD   \n",
       "3000038                    Automatic  t65977  20d Premium AWD          AWD   \n",
       "3000039                    Automatic  t76529    2017.5 SV FWD          FWD   \n",
       "\n",
       "        wheel_system_display wheelbase    width  year  \n",
       "0          Front-Wheel Drive  101.2 in  79.6 in  2019  \n",
       "1            All-Wheel Drive  107.9 in  85.6 in  2020  \n",
       "2            All-Wheel Drive  104.3 in  78.9 in  2016  \n",
       "3            All-Wheel Drive    115 in  87.4 in  2020  \n",
       "4            All-Wheel Drive  107.9 in  85.6 in  2020  \n",
       "...                      ...       ...      ...   ...  \n",
       "3000035    Front-Wheel Drive  107.3 in  72.6 in  2018  \n",
       "3000036    Front-Wheel Drive  120.9 in  78.6 in  2020  \n",
       "3000037    Front-Wheel Drive  112.2 in  83.5 in  2016  \n",
       "3000038      All-Wheel Drive  111.6 in  81.7 in  2017  \n",
       "3000039    Front-Wheel Drive  106.5 in  72.4 in  2017  \n",
       "\n",
       "[3000040 rows x 57 columns]"
      ]
     },
     "execution_count": 302,
     "metadata": {},
     "output_type": "execute_result"
    }
   ],
   "source": [
    "cleaned_cars"
   ]
  },
  {
   "cell_type": "code",
   "execution_count": 303,
   "id": "50293e90-1698-47ce-a778-90cc175ab172",
   "metadata": {},
   "outputs": [
    {
     "data": {
      "text/plain": [
       "owner_count             50.566426\n",
       "salvage                 47.552533\n",
       "theft_title             47.552533\n",
       "frame_damaged           47.552533\n",
       "franchise_make          19.087579\n",
       "torque                  17.259537\n",
       "highway_fuel_economy    16.375948\n",
       "city_fuel_economy       16.375948\n",
       "power                   16.047319\n",
       "interior_color          12.799363\n",
       "main_picture_url        12.302936\n",
       "major_options            6.668178\n",
       "horsepower               5.746123\n",
       "engine_displacement      5.746123\n",
       "height                   5.308896\n",
       "length                   5.308896\n",
       "width                    5.308896\n",
       "maximum_seating          5.308896\n",
       "front_legroom            5.308896\n",
       "back_legroom             5.308896\n",
       "fuel_tank_volume         5.308896\n",
       "wheelbase                5.308896\n",
       "wheel_system             4.891001\n",
       "wheel_system_display     4.891001\n",
       "mileage                  4.812836\n",
       "trim_name                3.876415\n",
       "trimId                   3.860849\n",
       "engine_type              3.352655\n",
       "engine_cylinders         3.352655\n",
       "fuel_type                2.757430\n",
       "description              2.596665\n",
       "transmission_display     2.139471\n",
       "transmission             2.139471\n",
       "exterior_color           1.665144\n",
       "seller_rating            1.362382\n",
       "body_type                0.451427\n",
       "sp_id                    0.003200\n",
       "vin                      0.000000\n",
       "city                     0.000000\n",
       "dealer_zip               0.000000\n",
       "daysonmarket             0.000000\n",
       "isCab                    0.000000\n",
       "has_accidents            0.000000\n",
       "fleet                    0.000000\n",
       "franchise_dealer         0.000000\n",
       "price                    0.000000\n",
       "listing_color            0.000000\n",
       "listing_id               0.000000\n",
       "longitude                0.000000\n",
       "latitude                 0.000000\n",
       "model_name               0.000000\n",
       "make_name                0.000000\n",
       "is_new                   0.000000\n",
       "listed_date              0.000000\n",
       "savings_amount           0.000000\n",
       "sp_name                  0.000000\n",
       "year                     0.000000\n",
       "dtype: float64"
      ]
     },
     "execution_count": 303,
     "metadata": {},
     "output_type": "execute_result"
    }
   ],
   "source": [
    "cleaned_cars_null_perc=((cleaned_cars.isna().sum()/cleaned_cars.shape[0])*100).sort_values(ascending=False)\n",
    "cleaned_cars_null_perc"
   ]
  },
  {
   "cell_type": "code",
   "execution_count": 304,
   "id": "17d5a874-742f-4cab-9e8b-d89fd23f6d59",
   "metadata": {},
   "outputs": [],
   "source": [
    "#salvage,theft_title,frame_damaged have narly 100% false values. We can either directly drop this column or fill it entirely with false values.\n",
    "# Here in this case, we fill it with false values."
   ]
  },
  {
   "cell_type": "code",
   "execution_count": 305,
   "id": "0563c57e-42a8-45ff-b16e-ffbdfa1c5828",
   "metadata": {},
   "outputs": [
    {
     "name": "stderr",
     "output_type": "stream",
     "text": [
      "C:\\Users\\AAYUSH\\AppData\\Local\\Temp\\ipykernel_19036\\2278963897.py:4: FutureWarning: Downcasting object dtype arrays on .fillna, .ffill, .bfill is deprecated and will change in a future version. Call result.infer_objects(copy=False) instead. To opt-in to the future behavior, set `pd.set_option('future.no_silent_downcasting', True)`\n",
      "  cleaned_cars['frame_damaged']=cleaned_cars['frame_damaged'].fillna(False)\n"
     ]
    }
   ],
   "source": [
    "# cleaned_cars['salvage']=cleaned_cars['salvage'].fillna(False)\n",
    "# cleaned_cars['theft_title']=cleaned_cars['theft_title'].fillna(False)\n",
    "cleaned_cars=cleaned_cars.drop(['salvage','theft_title'],axis=1)\n",
    "cleaned_cars['frame_damaged']=cleaned_cars['frame_damaged'].fillna(False)\n"
   ]
  },
  {
   "cell_type": "code",
   "execution_count": 306,
   "id": "b87474fc-7504-475d-a85a-6728aa8e0dac",
   "metadata": {},
   "outputs": [
    {
     "data": {
      "text/plain": [
       "owner_count             50.566426\n",
       "franchise_make          19.087579\n",
       "torque                  17.259537\n",
       "highway_fuel_economy    16.375948\n",
       "city_fuel_economy       16.375948\n",
       "power                   16.047319\n",
       "interior_color          12.799363\n",
       "main_picture_url        12.302936\n",
       "major_options            6.668178\n",
       "horsepower               5.746123\n",
       "engine_displacement      5.746123\n",
       "fuel_tank_volume         5.308896\n",
       "height                   5.308896\n",
       "wheelbase                5.308896\n",
       "width                    5.308896\n",
       "length                   5.308896\n",
       "maximum_seating          5.308896\n",
       "back_legroom             5.308896\n",
       "front_legroom            5.308896\n",
       "wheel_system_display     4.891001\n",
       "wheel_system             4.891001\n",
       "mileage                  4.812836\n",
       "trim_name                3.876415\n",
       "trimId                   3.860849\n",
       "engine_type              3.352655\n",
       "engine_cylinders         3.352655\n",
       "fuel_type                2.757430\n",
       "description              2.596665\n",
       "transmission_display     2.139471\n",
       "transmission             2.139471\n",
       "exterior_color           1.665144\n",
       "seller_rating            1.362382\n",
       "body_type                0.451427\n",
       "sp_id                    0.003200\n",
       "franchise_dealer         0.000000\n",
       "vin                      0.000000\n",
       "city                     0.000000\n",
       "daysonmarket             0.000000\n",
       "dealer_zip               0.000000\n",
       "has_accidents            0.000000\n",
       "fleet                    0.000000\n",
       "frame_damaged            0.000000\n",
       "model_name               0.000000\n",
       "latitude                 0.000000\n",
       "listed_date              0.000000\n",
       "listing_color            0.000000\n",
       "listing_id               0.000000\n",
       "is_new                   0.000000\n",
       "make_name                0.000000\n",
       "longitude                0.000000\n",
       "isCab                    0.000000\n",
       "sp_name                  0.000000\n",
       "savings_amount           0.000000\n",
       "price                    0.000000\n",
       "year                     0.000000\n",
       "dtype: float64"
      ]
     },
     "execution_count": 306,
     "metadata": {},
     "output_type": "execute_result"
    }
   ],
   "source": [
    "cleaned_cars_null_perc=((cleaned_cars.isna().sum()/cleaned_cars.shape[0])*100).sort_values(ascending=False)\n",
    "cleaned_cars_null_perc"
   ]
  },
  {
   "cell_type": "code",
   "execution_count": 307,
   "id": "0fb26bcf-f3bb-46b9-bb38-f136723e9e54",
   "metadata": {},
   "outputs": [
    {
     "data": {
      "text/plain": [
       "owner_count\n",
       "1.0     972936\n",
       "2.0     330624\n",
       "3.0     116775\n",
       "4.0      39764\n",
       "5.0      14207\n",
       "6.0       5286\n",
       "7.0       1977\n",
       "8.0        836\n",
       "9.0        366\n",
       "10.0       128\n",
       "11.0        73\n",
       "12.0        21\n",
       "13.0        16\n",
       "14.0         7\n",
       "15.0         6\n",
       "16.0         3\n",
       "19.0         1\n",
       "18.0         1\n",
       "Name: count, dtype: int64"
      ]
     },
     "execution_count": 307,
     "metadata": {},
     "output_type": "execute_result"
    }
   ],
   "source": [
    "cleaned_cars['owner_count'].value_counts()"
   ]
  },
  {
   "cell_type": "code",
   "execution_count": 308,
   "id": "20c3cf95-4b06-4109-aa89-e865eb116a1d",
   "metadata": {},
   "outputs": [
    {
     "data": {
      "text/plain": [
       "(0.0, 5.0)"
      ]
     },
     "execution_count": 308,
     "metadata": {},
     "output_type": "execute_result"
    },
    {
     "data": {
      "image/png": "[encoded data removed]",
      "text/plain": [
       "<Figure size 640x480 with 1 Axes>"
      ]
     },
     "metadata": {},
     "output_type": "display_data"
    }
   ],
   "source": [
    "sns.histplot(cleaned_cars,x='owner_count',bins=50)\n",
    "plt.xlim([0,5])"
   ]
  },
  {
   "cell_type": "code",
   "execution_count": 309,
   "id": "1c4cd67c-c08f-47be-a113-df81f3cc5033",
   "metadata": {},
   "outputs": [],
   "source": [
    "# from above histogram we can conclude that the graph is a right skewed graph."
   ]
  },
  {
   "cell_type": "code",
   "execution_count": 310,
   "id": "8b0f0580-86ee-4dd0-b527-2976bcdf55e6",
   "metadata": {},
   "outputs": [],
   "source": [
    "cleaned_cars['owner_count']=cleaned_cars['owner_count'].fillna(1)  #filling null values of 'owner count' with mode which is 1."
   ]
  },
  {
   "cell_type": "code",
   "execution_count": 311,
   "id": "5c0b4e59-70bb-47d6-a712-990d0d119949",
   "metadata": {},
   "outputs": [
    {
     "data": {
      "text/plain": [
       "franchise_make          19.087579\n",
       "torque                  17.259537\n",
       "highway_fuel_economy    16.375948\n",
       "city_fuel_economy       16.375948\n",
       "power                   16.047319\n",
       "interior_color          12.799363\n",
       "main_picture_url        12.302936\n",
       "major_options            6.668178\n",
       "horsepower               5.746123\n",
       "engine_displacement      5.746123\n",
       "wheelbase                5.308896\n",
       "fuel_tank_volume         5.308896\n",
       "height                   5.308896\n",
       "back_legroom             5.308896\n",
       "width                    5.308896\n",
       "length                   5.308896\n",
       "maximum_seating          5.308896\n",
       "front_legroom            5.308896\n",
       "wheel_system_display     4.891001\n",
       "wheel_system             4.891001\n",
       "mileage                  4.812836\n",
       "trim_name                3.876415\n",
       "trimId                   3.860849\n",
       "engine_cylinders         3.352655\n",
       "engine_type              3.352655\n",
       "fuel_type                2.757430\n",
       "description              2.596665\n",
       "transmission             2.139471\n",
       "transmission_display     2.139471\n",
       "exterior_color           1.665144\n",
       "seller_rating            1.362382\n",
       "body_type                0.451427\n",
       "sp_id                    0.003200\n",
       "frame_damaged            0.000000\n",
       "franchise_dealer         0.000000\n",
       "vin                      0.000000\n",
       "city                     0.000000\n",
       "daysonmarket             0.000000\n",
       "dealer_zip               0.000000\n",
       "has_accidents            0.000000\n",
       "fleet                    0.000000\n",
       "owner_count              0.000000\n",
       "model_name               0.000000\n",
       "latitude                 0.000000\n",
       "listed_date              0.000000\n",
       "listing_color            0.000000\n",
       "listing_id               0.000000\n",
       "isCab                    0.000000\n",
       "is_new                   0.000000\n",
       "longitude                0.000000\n",
       "make_name                0.000000\n",
       "sp_name                  0.000000\n",
       "savings_amount           0.000000\n",
       "price                    0.000000\n",
       "year                     0.000000\n",
       "dtype: float64"
      ]
     },
     "execution_count": 311,
     "metadata": {},
     "output_type": "execute_result"
    }
   ],
   "source": [
    "cleaned_cars_null_perc=((cleaned_cars.isna().sum()/cleaned_cars.shape[0])*100).sort_values(ascending=False)\n",
    "cleaned_cars_null_perc"
   ]
  },
  {
   "cell_type": "code",
   "execution_count": null,
   "id": "c53f2ee9-8b88-4172-a70f-3c49b540fa5b",
   "metadata": {},
   "outputs": [],
   "source": []
  },
  {
   "cell_type": "code",
   "execution_count": null,
   "id": "7c026071-cd46-4a70-b1dd-8c03cc6a0db6",
   "metadata": {},
   "outputs": [],
   "source": []
  },
  {
   "cell_type": "code",
   "execution_count": 312,
   "id": "988911ea-e0e6-4b49-b037-73ad4ae82159",
   "metadata": {},
   "outputs": [
    {
     "name": "stdout",
     "output_type": "stream",
     "text": [
      "franchise_make\n",
      "Ford             395521\n",
      "Chevrolet        338817\n",
      "Toyota           186718\n",
      "Honda            184515\n",
      "Jeep             177100\n",
      "Nissan           152590\n",
      "Hyundai          107099\n",
      "Kia               92690\n",
      "RAM               77079\n",
      "Buick             74419\n",
      "Volkswagen        62430\n",
      "Subaru            60899\n",
      "GMC               60677\n",
      "Dodge             49212\n",
      "Mercedes-Benz     45867\n",
      "Mazda             45743\n",
      "BMW               45540\n",
      "Cadillac          35081\n",
      "Lexus             28602\n",
      "Audi              26896\n",
      "Acura             26282\n",
      "Lincoln           25535\n",
      "Mitsubishi        20079\n",
      "Chrysler          19563\n",
      "Volvo             19353\n",
      "INFINITI          18665\n",
      "Land Rover        12662\n",
      "Porsche           10897\n",
      "MINI               5448\n",
      "Jaguar             4965\n",
      "FIAT               4207\n",
      "Scion              3976\n",
      "Maserati           2598\n",
      "Alfa Romeo         1486\n",
      "Genesis            1123\n",
      "Bentley             541\n",
      "Rolls-Royce         506\n",
      "Aston Martin        482\n",
      "Ferrari             458\n",
      "Lotus               436\n",
      "McLaren             309\n",
      "Lamborghini         149\n",
      "Shelby               55\n",
      "Freightliner         54\n",
      "smart                30\n",
      "Rover                25\n",
      "SRT                  13\n",
      "Pagani               13\n",
      "Name: count, dtype: int64\n",
      "\n",
      "torque\n",
      "383 lb-ft @ 4,100 RPM    88300\n",
      "400 lb-ft @ 4,500 RPM    67507\n",
      "410 lb-ft @ 3,950 RPM    56502\n",
      "148 lb-ft @ 200 RPM      53983\n",
      "132 lb-ft @ 4,500 RPM    52438\n",
      "                         ...  \n",
      "126 lb-ft @ 5,000 RPM        1\n",
      "93 lb-ft @ 3,200 RPM         1\n",
      "400 lb-ft @ 2,200 RPM        1\n",
      "228 lb-ft @ 4,300 RPM        1\n",
      "130 lb-ft @ 3,000 RPM        1\n",
      "Name: count, Length: 2060, dtype: int64\n",
      "\n",
      "city_fuel_economy\n",
      "19.0     198958\n",
      "18.0     191823\n",
      "22.0     174756\n",
      "21.0     170910\n",
      "20.0     169255\n",
      "          ...  \n",
      "78.0          6\n",
      "98.0          5\n",
      "93.0          3\n",
      "112.0         3\n",
      "7.0           2\n",
      "Name: count, Length: 100, dtype: int64\n",
      "\n",
      "highway_fuel_economy\n",
      "25.0     163572\n",
      "27.0     163239\n",
      "28.0     160344\n",
      "30.0     157121\n",
      "22.0     148459\n",
      "          ...  \n",
      "10.0          5\n",
      "91.0          3\n",
      "83.0          2\n",
      "56.0          1\n",
      "120.0         1\n",
      "Name: count, Length: 99, dtype: int64\n",
      "\n",
      "power\n",
      "355 hp @ 5,600 RPM    88300\n",
      "395 hp @ 5,750 RPM    76054\n",
      "138 hp @ 4,900 RPM    59191\n",
      "395 hp @ 5,600 RPM    58859\n",
      "170 hp @ 6,000 RPM    50732\n",
      "                      ...  \n",
      "230 hp @ 4,250 RPM        1\n",
      "82 hp @ 4,800 RPM         1\n",
      "69 hp @ 5,200 RPM         1\n",
      "110 hp @ 4,700 RPM        1\n",
      "116 hp @ 5,000 RPM        1\n",
      "Name: count, Length: 2037, dtype: int64\n",
      "\n",
      "interior_color\n",
      "Black                           871393\n",
      "Gray                            195908\n",
      "Jet Black                       186195\n",
      "Black (Ebony)                   142839\n",
      "Black (Charcoal)                112051\n",
      "                                 ...  \n",
      "Cabernet w/F Sport Leather           1\n",
      "Extra Cost Interior                  1\n",
      "Silver (Lt Putty Clth Bolst)         1\n",
      "black/cream                          1\n",
      "Lt Gry Clth/Lth Trimmed              1\n",
      "Name: count, Length: 45725, dtype: int64\n",
      "\n",
      "main_picture_url\n",
      "https://static.cargurus.com/images/forsale/2020/03/11/13/10/2019_ford_f-150-pic-7425370749204324819-152x114.jpeg                  913\n",
      "https://static.cargurus.com/images/forsale/2018/08/22/16/29/2019_chevrolet_silverado_1500-pic-1827095471508643688-152x114.jpeg    630\n",
      "https://static.cargurus.com/images/forsale/2018/06/22/10/17/2018_mazda_cx-5-pic-2796852983994209380-152x114.jpeg                  589\n",
      "https://static.cargurus.com/images/forsale/2020/06/10/18/01/2020_ram_1500-pic-7150704426973780195-152x114.jpeg                    545\n",
      "https://static.cargurus.com/images/forsale/2020/01/14/06/10/2020_honda_civic-pic-8659105345295960931-152x114.jpeg                 507\n",
      "                                                                                                                                 ... \n",
      "https://static.cargurus.com/images/forsale/2020/09/04/07/49/2018_chevrolet_equinox-pic-8269807529749753006-152x114.jpeg             1\n",
      "https://static.cargurus.com/images/forsale/2020/05/05/02/37/2020_chevrolet_traverse-pic-7297679919278057817-152x114.jpeg            1\n",
      "https://static.cargurus.com/images/forsale/2020/07/03/23/23/2016_ford_fusion-pic-5377680626145009238-152x114.jpeg                   1\n",
      "https://static.cargurus.com/images/forsale/2020/09/05/07/48/2017_jaguar_xe-pic-5518592670705519560-152x114.jpeg                     1\n",
      "https://static.cargurus.com/images/forsale/2020/09/10/04/07/2017_nissan_rogue-pic-192881556187837989-152x114.jpeg                   1\n",
      "Name: count, Length: 2415855, dtype: int64\n",
      "\n"
     ]
    }
   ],
   "source": [
    "#for finding unique values in columns having  between 10 and 20% of null values\n",
    "df_nulls_10_and_20=df_null_perc[(df_null_perc<20) & (df_null_perc>10)]#.index \n",
    "for i in df_nulls_10_and_20.index:\n",
    "    print(cleaned_cars[i].value_counts())\n",
    "    print()"
   ]
  },
  {
   "cell_type": "code",
   "execution_count": null,
   "id": "ac4cdf69-fb5a-436f-a5c7-52e16b750e70",
   "metadata": {},
   "outputs": [],
   "source": []
  },
  {
   "cell_type": "code",
   "execution_count": 313,
   "id": "00ad7220-8b4d-40e7-b784-e22b09a04a3c",
   "metadata": {},
   "outputs": [],
   "source": [
    "x=cleaned_cars['franchise_make'].dropna()"
   ]
  },
  {
   "cell_type": "code",
   "execution_count": 314,
   "id": "c5bf5854-7ae7-4b59-8237-8dc8f46e3546",
   "metadata": {},
   "outputs": [
    {
     "data": {
      "text/plain": [
       "(2427405,)"
      ]
     },
     "execution_count": 314,
     "metadata": {},
     "output_type": "execute_result"
    }
   ],
   "source": [
    "x.shape"
   ]
  },
  {
   "cell_type": "code",
   "execution_count": 315,
   "id": "327bd5c2-56d6-4063-a634-abc2148c4ac3",
   "metadata": {},
   "outputs": [
    {
     "data": {
      "text/plain": [
       "(3000040, 66)"
      ]
     },
     "execution_count": 315,
     "metadata": {},
     "output_type": "execute_result"
    }
   ],
   "source": [
    "(3000040, 66)"
   ]
  },
  {
   "cell_type": "code",
   "execution_count": 316,
   "id": "3a9ead7d-f6af-4d02-aab4-cf2198d04eaa",
   "metadata": {},
   "outputs": [
    {
     "data": {
      "text/plain": [
       "np.int64(572635)"
      ]
     },
     "execution_count": 316,
     "metadata": {},
     "output_type": "execute_result"
    }
   ],
   "source": [
    "cleaned_cars['franchise_make'].isna().sum()"
   ]
  },
  {
   "cell_type": "code",
   "execution_count": 317,
   "id": "e9a231f4-1f40-451d-ba72-d7a9fb8eaef7",
   "metadata": {},
   "outputs": [
    {
     "data": {
      "text/plain": [
       "Index(['franchise_make', 'torque', 'city_fuel_economy', 'highway_fuel_economy',\n",
       "       'power', 'interior_color', 'main_picture_url'],\n",
       "      dtype='object')"
      ]
     },
     "execution_count": 317,
     "metadata": {},
     "output_type": "execute_result"
    }
   ],
   "source": [
    "df_nulls_10_and_20.index"
   ]
  },
  {
   "cell_type": "code",
   "execution_count": 318,
   "id": "51c6ea28-e87d-4d4e-b4cf-29fd237097be",
   "metadata": {},
   "outputs": [],
   "source": [
    "# z=cleaned_cars.dropna(['franchise_make', 'torque', 'city_fuel_economy', 'highway_fuel_economy',\n",
    "#        'power', 'interior_color'],axis=1)"
   ]
  },
  {
   "cell_type": "code",
   "execution_count": null,
   "id": "74753a96-cbd9-460e-883f-25830ebdd36f",
   "metadata": {},
   "outputs": [],
   "source": []
  },
  {
   "cell_type": "code",
   "execution_count": 319,
   "id": "a11f62ab-b67b-4279-8b17-d5357ae8269c",
   "metadata": {},
   "outputs": [],
   "source": [
    "# cleaned_cars[['franchise_make','torque','city_fuel_economy','highway_fuel_economy','power','interior_color']].dropna(inplace=True)"
   ]
  },
  {
   "cell_type": "code",
   "execution_count": 320,
   "id": "5722233d-baa3-436c-add5-360f46a6da28",
   "metadata": {},
   "outputs": [
    {
     "data": {
      "text/plain": [
       "(3000040, 55)"
      ]
     },
     "execution_count": 320,
     "metadata": {},
     "output_type": "execute_result"
    }
   ],
   "source": [
    "cleaned_cars.shape"
   ]
  },
  {
   "cell_type": "code",
   "execution_count": 321,
   "id": "10f6ae49-0718-4cdf-91ef-4b31a7a120ce",
   "metadata": {},
   "outputs": [
    {
     "name": "stdout",
     "output_type": "stream",
     "text": [
      "<class 'pandas.core.frame.DataFrame'>\n",
      "RangeIndex: 3000040 entries, 0 to 3000039\n",
      "Data columns (total 55 columns):\n",
      " #   Column                Dtype  \n",
      "---  ------                -----  \n",
      " 0   vin                   object \n",
      " 1   back_legroom          object \n",
      " 2   body_type             object \n",
      " 3   city                  object \n",
      " 4   city_fuel_economy     float64\n",
      " 5   daysonmarket          int64  \n",
      " 6   dealer_zip            object \n",
      " 7   description           object \n",
      " 8   engine_cylinders      object \n",
      " 9   engine_displacement   float64\n",
      " 10  engine_type           object \n",
      " 11  exterior_color        object \n",
      " 12  fleet                 object \n",
      " 13  frame_damaged         bool   \n",
      " 14  franchise_dealer      bool   \n",
      " 15  franchise_make        object \n",
      " 16  front_legroom         object \n",
      " 17  fuel_tank_volume      object \n",
      " 18  fuel_type             object \n",
      " 19  has_accidents         object \n",
      " 20  height                object \n",
      " 21  highway_fuel_economy  float64\n",
      " 22  horsepower            float64\n",
      " 23  interior_color        object \n",
      " 24  isCab                 object \n",
      " 25  is_new                bool   \n",
      " 26  latitude              float64\n",
      " 27  length                object \n",
      " 28  listed_date           object \n",
      " 29  listing_color         object \n",
      " 30  listing_id            int64  \n",
      " 31  longitude             float64\n",
      " 32  main_picture_url      object \n",
      " 33  major_options         object \n",
      " 34  make_name             object \n",
      " 35  maximum_seating       object \n",
      " 36  mileage               float64\n",
      " 37  model_name            object \n",
      " 38  owner_count           float64\n",
      " 39  power                 object \n",
      " 40  price                 float64\n",
      " 41  savings_amount        int64  \n",
      " 42  seller_rating         float64\n",
      " 43  sp_id                 float64\n",
      " 44  sp_name               object \n",
      " 45  torque                object \n",
      " 46  transmission          object \n",
      " 47  transmission_display  object \n",
      " 48  trimId                object \n",
      " 49  trim_name             object \n",
      " 50  wheel_system          object \n",
      " 51  wheel_system_display  object \n",
      " 52  wheelbase             object \n",
      " 53  width                 object \n",
      " 54  year                  int64  \n",
      "dtypes: bool(3), float64(11), int64(4), object(37)\n",
      "memory usage: 1.2+ GB\n"
     ]
    }
   ],
   "source": [
    "cleaned_cars.info()"
   ]
  },
  {
   "cell_type": "code",
   "execution_count": 322,
   "id": "cf4ac1c4-5d30-4d55-b36c-6cb01e0dad17",
   "metadata": {},
   "outputs": [
    {
     "data": {
      "text/plain": [
       "franchise_make          19.087579\n",
       "torque                  17.259537\n",
       "highway_fuel_economy    16.375948\n",
       "city_fuel_economy       16.375948\n",
       "power                   16.047319\n",
       "interior_color          12.799363\n",
       "main_picture_url        12.302936\n",
       "major_options            6.668178\n",
       "horsepower               5.746123\n",
       "engine_displacement      5.746123\n",
       "wheelbase                5.308896\n",
       "fuel_tank_volume         5.308896\n",
       "height                   5.308896\n",
       "back_legroom             5.308896\n",
       "width                    5.308896\n",
       "length                   5.308896\n",
       "maximum_seating          5.308896\n",
       "front_legroom            5.308896\n",
       "wheel_system_display     4.891001\n",
       "wheel_system             4.891001\n",
       "mileage                  4.812836\n",
       "trim_name                3.876415\n",
       "trimId                   3.860849\n",
       "engine_cylinders         3.352655\n",
       "engine_type              3.352655\n",
       "fuel_type                2.757430\n",
       "description              2.596665\n",
       "transmission             2.139471\n",
       "transmission_display     2.139471\n",
       "exterior_color           1.665144\n",
       "seller_rating            1.362382\n",
       "body_type                0.451427\n",
       "sp_id                    0.003200\n",
       "frame_damaged            0.000000\n",
       "franchise_dealer         0.000000\n",
       "vin                      0.000000\n",
       "city                     0.000000\n",
       "daysonmarket             0.000000\n",
       "dealer_zip               0.000000\n",
       "has_accidents            0.000000\n",
       "fleet                    0.000000\n",
       "owner_count              0.000000\n",
       "model_name               0.000000\n",
       "latitude                 0.000000\n",
       "listed_date              0.000000\n",
       "listing_color            0.000000\n",
       "listing_id               0.000000\n",
       "isCab                    0.000000\n",
       "is_new                   0.000000\n",
       "longitude                0.000000\n",
       "make_name                0.000000\n",
       "sp_name                  0.000000\n",
       "savings_amount           0.000000\n",
       "price                    0.000000\n",
       "year                     0.000000\n",
       "dtype: float64"
      ]
     },
     "execution_count": 322,
     "metadata": {},
     "output_type": "execute_result"
    }
   ],
   "source": [
    "cleaned_cars_null_perc=((cleaned_cars.isna().sum()/cleaned_cars.shape[0])*100).sort_values(ascending=False)\n",
    "cleaned_cars_null_perc"
   ]
  },
  {
   "cell_type": "code",
   "execution_count": 323,
   "id": "a731eb6d-d982-4052-b46c-40439b26c75f",
   "metadata": {},
   "outputs": [
    {
     "data": {
      "text/plain": [
       "(array([    220,     221,     223, ..., 3000033, 3000035, 3000038]),)"
      ]
     },
     "execution_count": 323,
     "metadata": {},
     "output_type": "execute_result"
    }
   ],
   "source": [
    "null_frach=np.where(cleaned_cars['franchise_make'].isna())\n",
    "null_frach"
   ]
  },
  {
   "cell_type": "code",
   "execution_count": 324,
   "id": "3efa91de-711b-4823-8105-f9bb6b8dda8e",
   "metadata": {},
   "outputs": [],
   "source": [
    "cleaned_cars = cleaned_cars.dropna(subset=df_nulls_10_and_20.index)"
   ]
  },
  {
   "cell_type": "code",
   "execution_count": 325,
   "id": "2b55d27f-b52b-4d37-b4b0-ff78afe6aec7",
   "metadata": {},
   "outputs": [],
   "source": [
    "# dropping 'main_picture_url', since links are of no use\n",
    "cleaned_cars=cleaned_cars.drop('main_picture_url',axis=1)"
   ]
  },
  {
   "cell_type": "code",
   "execution_count": null,
   "id": "16af2dc2-4965-44bf-b45a-b756938c0445",
   "metadata": {},
   "outputs": [],
   "source": []
  },
  {
   "cell_type": "code",
   "execution_count": 326,
   "id": "58aef58a-a42c-48af-bcdd-cf35c16b6cf0",
   "metadata": {},
   "outputs": [
    {
     "data": {
      "text/plain": [
       "mileage                 4.407650\n",
       "major_options           3.441731\n",
       "description             1.151630\n",
       "seller_rating           0.800972\n",
       "transmission            0.729100\n",
       "transmission_display    0.729100\n",
       "exterior_color          0.174232\n",
       "wheel_system            0.069240\n",
       "wheel_system_display    0.069240\n",
       "length                  0.016085\n",
       "fuel_tank_volume        0.016085\n",
       "maximum_seating         0.016085\n",
       "width                   0.016085\n",
       "wheelbase               0.016085\n",
       "back_legroom            0.016085\n",
       "front_legroom           0.016085\n",
       "height                  0.016085\n",
       "body_type               0.001609\n",
       "engine_cylinders        0.001097\n",
       "engine_type             0.001097\n",
       "fuel_type               0.000804\n",
       "daysonmarket            0.000000\n",
       "highway_fuel_economy    0.000000\n",
       "has_accidents           0.000000\n",
       "franchise_make          0.000000\n",
       "franchise_dealer        0.000000\n",
       "engine_displacement     0.000000\n",
       "dealer_zip              0.000000\n",
       "fleet                   0.000000\n",
       "frame_damaged           0.000000\n",
       "vin                     0.000000\n",
       "city                    0.000000\n",
       "city_fuel_economy       0.000000\n",
       "listing_color           0.000000\n",
       "is_new                  0.000000\n",
       "horsepower              0.000000\n",
       "isCab                   0.000000\n",
       "interior_color          0.000000\n",
       "owner_count             0.000000\n",
       "model_name              0.000000\n",
       "longitude               0.000000\n",
       "make_name               0.000000\n",
       "listing_id              0.000000\n",
       "latitude                0.000000\n",
       "listed_date             0.000000\n",
       "price                   0.000000\n",
       "torque                  0.000000\n",
       "sp_name                 0.000000\n",
       "sp_id                   0.000000\n",
       "savings_amount          0.000000\n",
       "power                   0.000000\n",
       "trimId                  0.000000\n",
       "trim_name               0.000000\n",
       "year                    0.000000\n",
       "dtype: float64"
      ]
     },
     "execution_count": 326,
     "metadata": {},
     "output_type": "execute_result"
    }
   ],
   "source": [
    "cleaned_cars_null_perc=((cleaned_cars.isna().sum()/cleaned_cars.shape[0])*100).sort_values(ascending=False)\n",
    "cleaned_cars_null_perc"
   ]
  },
  {
   "cell_type": "code",
   "execution_count": 327,
   "id": "74a6f462-2ef0-409d-8da0-5629d6229da3",
   "metadata": {},
   "outputs": [
    {
     "data": {
      "text/plain": [
       "mileage\n",
       "0.0         128652\n",
       "5.0          78297\n",
       "10.0         76418\n",
       "3.0          42120\n",
       "2.0          41637\n",
       "             ...  \n",
       "128216.0         1\n",
       "123184.0         1\n",
       "105128.0         1\n",
       "83906.0          1\n",
       "87219.0          1\n",
       "Name: count, Length: 127283, dtype: int64"
      ]
     },
     "execution_count": 327,
     "metadata": {},
     "output_type": "execute_result"
    }
   ],
   "source": [
    "cleaned_cars['mileage'].value_counts()"
   ]
  },
  {
   "cell_type": "markdown",
   "id": "75ac25d2-2c49-48a6-bf05-7eab9070ffe0",
   "metadata": {},
   "source": [
    "- mileage column will be filled with median values. \n",
    "\n",
    "These columns are complex and should be dropped -\n",
    "1. major_options          \n",
    "2. description   "
   ]
  },
  {
   "cell_type": "code",
   "execution_count": 328,
   "id": "d8cd3761-8139-4220-814e-cacc5cb9b2d7",
   "metadata": {},
   "outputs": [
    {
     "data": {
      "text/plain": [
       "major_options\n",
       "['Alloy Wheels', 'Bluetooth', 'Backup Camera']                                                                                                                                                                                                                                                              40403\n",
       "['Steel Wheels', 'Bluetooth', 'Backup Camera']                                                                                                                                                                                                                                                              15614\n",
       "['Bluetooth', 'Backup Camera']                                                                                                                                                                                                                                                                              14526\n",
       "['Alloy Wheels', 'Bluetooth', 'Backup Camera', 'Android Auto', 'CarPlay']                                                                                                                                                                                                                                   13531\n",
       "['Bluetooth']                                                                                                                                                                                                                                                                                               13064\n",
       "                                                                                                                                                                                                                                                                                                            ...  \n",
       "['Leather Seats', 'Alloy Wheels', 'LT Package', 'Bluetooth', 'Backup Camera', 'Trailer Package', 'Heated Seats', 'Tow Package']                                                                                                                                                                                 1\n",
       "['Sunroof/Moonroof', 'Navigation System', 'RS Package', 'Third Row Seating', 'Premium 1 Package', 'Blind Spot Monitoring', 'Parking Sensors', 'Premium Package', 'Heated Seats', 'Android Auto', 'CarPlay', 'Light Package', 'Backup Camera']                                                                   1\n",
       "['Navigation System', 'Alloy Wheels', 'LT Package', 'Bluetooth', 'Backup Camera', 'Trailer Package', 'Heated Seats', 'Tow Package']                                                                                                                                                                             1\n",
       "['Leather Seats', 'Sunroof/Moonroof', 'Navigation System', 'SE Package', 'Third Row Seating', 'Backup Camera', 'Multimedia Package', 'Parking Sensors', 'Heated Seats']                                                                                                                                         1\n",
       "['Leather Seats', 'Navigation System', 'Adaptive Cruise Control', 'Trailer Package', 'Blind Spot Monitoring', 'Heat Package', 'Heated Seats', 'Tow Package', 'Lariat Package', 'Utility Package', 'LE Package', 'Appearance Package', 'Remote Start', 'Off Road Package', '502A Luxury Equipment Group']        1\n",
       "Name: count, Length: 144900, dtype: int64"
      ]
     },
     "execution_count": 328,
     "metadata": {},
     "output_type": "execute_result"
    }
   ],
   "source": [
    "cleaned_cars['major_options'].value_counts()\n"
   ]
  },
  {
   "cell_type": "code",
   "execution_count": 329,
   "id": "37eff0a3-392f-4e9a-b13f-16277a83abc9",
   "metadata": {},
   "outputs": [
    {
     "data": {
      "text/plain": [
       "description\n",
       "[!@@Additional Info@@!]Front Wheel Drive,Power Steering,ABS,4-Wheel Disc Brakes,Brake Assist,Wheel Covers,Steel Wheels,Tires - Front Performance,Tires - Rear Performance,Temporary Spare Tire,Power Mirror(s),Rear Defrost,Intermittent Wipers,Daytime Running Lights,Automatic Headlights,AM/FM Stereo,MP3 Player,Steering Wheel Audio Controls,Bluetooth Connection,Auxiliary Audio Input,Bucket Seats,Rear Bench Seat,Adjustable Steering Wheel,Trip Computer,Power Windows,Keyless Entry,Power Door Locks,Cruise Control,Adaptive Cruise Control,Climate Control,A/C,Cloth Seats,Driver Vanity Mirror,Passenger Vanity Mirror,Floor Mats,Power Windows,Power Door Locks,Trip Computer,Security System,Engine Immobilizer,Traction Control,Stability Control,Traction Control,Front Side Air Bag,Lane Departure Warning,Lane Keeping Assist,Lane Departure Warning,Tire Pressure Monitor,Driver Air Bag,Passenger Air Bag,Front Head Air Bag,Rear Head Air Bag,Passenger Air Bag Sensor,Child Safety Locks,Back-Up Camera                                                                                                                                                                                                                                                                                                                                                                                                                                                                                                                                                                                                                                                                                                                                                                                                                                                                                                                                                                                                                                                                                                                                                                                                                                                                                                                                                                                                                                                                                                                                                                                                                                                                                                                                                                                                                                                                                                                                                                                                                                                                                                                                                                                                                                                                                                                                                                                                                                                                                                                                                                                                                                                                                                                                                                                                                                                                                                                                                                                                                                                                                                                                                                                                                                            825\n",
       "**Sale Price includes a Factory Rebate if applicable on this vehicle and is valid on a cash or financed purchase only by an individual for their personal use. The sale price does not apply to a lease. The Factory Rebates may not be available on this vehicle if you elect to take advantage of a Special Alternative APR or Special Lease program. Some Factory Rebates are California Resident specific and may vary for residents of other states. NO sales to Dealers, Brokers or Exporters. For out of state purchase, customers must be present to purchase. If shipping is required, dealership must facilitate; no exceptions. Please contact us for special Multi-Vehicle or Fleet pricing.  Prices are plus government fees and taxes, any finance charges,  documentary fee,  electronic registration fee, any emission testing charge and .75 per new tire state tire fee. *We only provide four gallons of gas at purchase. We make every effort to provide accurate information, but please verify before purchasing. Leasing & financing available on approved credit. Trade-ins accepted. Subject to prior sale. While every reasonable effort is made to ensure the accuracy of this information, we are not responsible for any errors or omissions contained on these pages. Please verify any information in question with Huntington Beach Chrysler Dodge Jeep Ram.[!@@Additional Info@@!]Engine: 3.6L V6 24V VVT,Transmission: 8-Speed Automatic                                                                                                                                                                                                                                                                                                                                                                                                                                                                                                                                                                                                                                                                                                                                                                                                                                                                                                                                                                                                                                                                                                                                                                                                                                                                                                                                                                                                                                                                                                                                                                                                                                                                                                                                                                                                                                                                                                                                                                                                                                                                                                                                                                                                                                                                                                                                                                                                                                                                                                                                                                                                                                                                                                                                                                                               556\n",
       "[!@@Additional Info@@!]Bluetooth                                                                                                                                                                                                                                                                                                                                                                                                                                                                                                                                                                                                                                                                                                                                                                                                                                                                                                                                                                                                                                                                                                                                                                                                                                                                                                                                                                                                                                                                                                                                                                                                                                                                                                                                                                                                                                                                                                                                                                                                                                                                                                                                                                                                                                                                                                                                                                                                                                                                                                                                                                                                                                                                                                                                                                                                                                                                                                                                                                                                                                                                                                                                                                                                                                                                                                                                                                                                                                                                                                                                                                                                                                                                                                                                                                                                                                                                                                                                                                                                                                                                                                                                                                                                                                         406\n",
       "[!@@Additional Info@@!]Turbocharged,Front Wheel Drive,Power Steering,ABS,4-Wheel Disc Brakes,Brake Assist,Aluminum Wheels,Tires - Front Performance,Tires - Rear Performance,Temporary Spare Tire,Power Mirror(s),Rear Defrost,Intermittent Wipers,Variable Speed Intermittent Wipers,Rear Spoiler,Daytime Running Lights,Automatic Headlights,Fog Lamps,AM/FM Stereo,MP3 Player,Bluetooth Connection,Telematics,Auxiliary Audio Input,Smart Device Integration,Requires Subscription,Steering Wheel Audio Controls,Power Driver Seat,Bucket Seats,Driver Adjustable Lumbar,Pass-Through Rear Seat,Rear Bench Seat,Adjustable Steering Wheel,Trip Computer,Power Windows,Leather Steering Wheel,Keyless Start,Keyless Entry,Power Door Locks,Cruise Control,Adaptive Cruise Control,Climate Control,Multi-Zone A/C,A/C,Cloth Seats,Driver Vanity Mirror,Passenger Vanity Mirror,Driver Illuminated Vanity Mirror,Passenger Illuminated Visor Mirror,Floor Mats,Keyless Start,Power Windows,Power Door Locks,Trip Computer,Security System,Engine Immobilizer,Traction Control,Stability Control,Traction Control,Front Side Air Bag,Lane Departure Warning,Lane Keeping Assist,Lane Departure Warning,Tire Pressure Monitor,Driver Air Bag,Passenger Air Bag,Front Head Air Bag,Rear Head Air Bag,Passenger Air Bag Sensor,Knee Air Bag,Child Safety Locks,Back-Up Camera                                                                                                                                                                                                                                                                                                                                                                                                                                                                                                                                                                                                                                                                                                                                                                                                                                                                                                                                                                                                                                                                                                                                                                                                                                                                                                                                                                                                                                                                                                                                                                                                                                                                                                                                                                                                                                                                                                                                                                                                                                                                                                                                                                                                                                                                                                                                                                                                                                                                                                                                                                                                                                                                                                                                                                                                                                                                                                396\n",
       "[!@@Additional Info@@!]Turbocharged,Front Wheel Drive,Power Steering,ABS,4-Wheel Disc Brakes,Brake Assist,Aluminum Wheels,Tires - Front Performance,Tires - Rear Performance,Temporary Spare Tire,Power Mirror(s),Rear Defrost,Intermittent Wipers,Variable Speed Intermittent Wipers,Daytime Running Lights,Automatic Headlights,AM/FM Stereo,MP3 Player,Bluetooth Connection,Auxiliary Audio Input,Steering Wheel Audio Controls,Bucket Seats,Rear Bench Seat,Adjustable Steering Wheel,Trip Computer,Power Windows,Keyless Start,Keyless Entry,Power Door Locks,Cruise Control,Adaptive Cruise Control,Climate Control,Multi-Zone A/C,A/C,Cloth Seats,Driver Vanity Mirror,Passenger Vanity Mirror,Driver Illuminated Vanity Mirror,Passenger Illuminated Visor Mirror,Floor Mats,Keyless Start,Power Windows,Power Door Locks,Trip Computer,Security System,Engine Immobilizer,Traction Control,Stability Control,Traction Control,Front Side Air Bag,Lane Departure Warning,Lane Keeping Assist,Lane Departure Warning,Tire Pressure Monitor,Driver Air Bag,Passenger Air Bag,Front Head Air Bag,Rear Head Air Bag,Passenger Air Bag Sensor,Knee Air Bag,Child Safety Locks,Back-Up Camera                                                                                                                                                                                                                                                                                                                                                                                                                                                                                                                                                                                                                                                                                                                                                                                                                                                                                                                                                                                                                                                                                                                                                                                                                                                                                                                                                                                                                                                                                                                                                                                                                                                                                                                                                                                                                                                                                                                                                                                                                                                                                                                                                                                                                                                                                                                                                                                                                                                                                                                                                                                                                                                                                                                                                                                                                                                                                                                                                                                                                                                                          379\n",
       "                                                                                                                                                                                                                                                                                                                                                                                                                                                                                                                                                                                                                                                                                                                                                                                                                                                                                                                                                                                                                                                                                                                                                                                                                                                                                                                                                                                                                                                                                                                                                                                                                                                                                                                                                                                                                                                                                                                                                                                                                                                                                                                                                                                                                                                                                                                                                                                                                                                                                                                                                                                                                                                                                                                                                                                                                                                                                                                                                                                                                                                                                                                                                                                                                                                                                                                                                                                                                                                                                                                                                                                                                                                                                                                                                                                                                                                                                                                                                                                                                                                                                                                                                                                                                                                                        ... \n",
       "Here at Atlantic Chevrolet-Cadillac, 90% of our pre-owned vehicles get brand new tires and brakes!!! We spend the money on our cars so you won't have to!!! 90% of our cars are pre-certified, so your buying a vehicle with confidence knowing everything that needed to get done was done by our certified mechanics!! Always priced right at Atlantic Chevrolet-Cadillac. This 2018 Chevrolet Traverse LT has The exterior color is Satin Steel Metallic with a Dark Atmosphere/Medium Ash Gray interior. You must present this ad to receive this special price. The advertised price does not include $695 admin fee, taxes and dmv. Can not combine with any other offers . Must take same day delivery.[!@@Additional Info@@!]1st & 2nd Row All-Weather Floor Liner (LPO),1st & 2nd Row All-Weather Floor Mats,3.49 Axle Ratio,3rd Row All-Weather Floor Liner (LPO),3rd Row All-Weather Floor Mats,3rd row seats: split-bench,4-Wheel Disc Brakes,4.2in Multi-Color Enhanced Driver Instrument Display,6 Speakers,7 PASSENGER,7-Passenger Seating (2-2-3 Seating Configuration),ABS brakes,Air Conditioning,All-Weather Cargo Mat (LPO),AM/FM radio: SiriusXM,Apple CarPlay/Android Auto,AutoCheck 1-Owner,Automatic temperature control,Brake assist,Bumpers: body-color,CARBON FIBER SPOILER,CLEAN VEHICLE HISTORYNO ACCIDENTS,Compass,Convenience & Driver Confidence Package,Delay-off headlights,Driver door bin,Driver vanity mirror,Dual front impact airbags,Dual front side impact airbags,Electronic Stability Control,Emergency communication system: OnStar Guidance,Exterior Parking Camera Rear,First & Second Row Premium Carpeted Floor Mats (LPO),Floor Liner Package (LPO),Four wheel independent suspension,Front anti-roll bar,Front Bucket Seats,Front Center Armrest w/Storage,Front dual zone A/C,Front fog lights,Front License Plate Bracket Mounting Package,Front reading lights,Fully automatic headlights,Heated door mirrors,Heated Driver & Front Passenger Seats,High-Intensity Discharge Headlights,Illuminated entry,Interior Protection Package (LPO),Lane Change Alert w/Side Blind Zone Alert,Low tire pressure warning,NEW BRAKES,NEW TIRES,Occupant sensing airbag,ONE OWNER,Outside temperature display,Overhead airbag,Panic alarm,Passenger door bin,Passenger vanity mirror,PASSES STATE INSPECTION,Power door mirrors,Power driver seat,Power steering,Power windows,Preferred Equipment Group 1LT,Premium Carpet Mat Package (LPO),Premium Cloth Seat Trim,Radio data system,Radio: Chevrolet MyLink AM/FM Stereo,Radio: Chevrolet MyLink AM/FM Stereo w/8in Screen,Rear air conditioning,Rear anti-roll bar,Rear Cross-Traffic Alert,Rear Park Assist w/Audible Warning,Rear Power Liftgate,Rear reading lights,Rear window defroster,Rear window wiper,REMAINDER OF FACTORY WARRANTY,Remote keyless entry,Remote Start,Roof rack: rails only,Security system,SERVICE RECORDS AVAILABLE,SiriusXM Satellite Radio,Speed control,Speed-sensing steering,Steering wheel mounted audio controls,Tachometer,Third Row Premium Carpeted Floor Mats (LPO),Tilt steering wheel,Traction control,Trip computer,Turn signal indicator mirrors,Universal Home Remote,Variably intermittent wipers,Voltmeter,Wheels: 18in Black Wheels                                                                                                                                                                                                                                                                                                                                                                                                                                                                                                                                                                                                                                                                                                                                                                                                                                                                                                                                                                                           1\n",
       "Here at Atlantic Chevrolet-Cadillac, 90% of our pre-owned vehicles get brand new tires and brakes!!! We spend the money on our cars so you won't have to!!! 90% of our cars are pre-certified, so your buying a vehicle with confidence knowing everything that needed to get done was done by our certified mechanics!! Always priced right at Atlantic Chevrolet-Cadillac. This 2016 Jeep Renegade Latitude has The exterior color is Mojave Sand with a Black interior. You must present this ad to receive this special price. The advertised price does not include $695 admin fee, taxes and dmv. Can not combine with any other offers . Must take same day delivery.[!@@Additional Info@@!]16in x 6.5in Aluminum Wheels,4-Wheel Disc Brakes,4.438 Axle Ratio,6 Speakers,ABS brakes,Air Conditioning,AM/FM radio: SiriusXM,Anti-whiplash front head restraints,Brake assist,CARBON FIBER SPOILER,Cloth Low-Back Bucket Seats,Compass,Delay-off headlights,Driver door bin,Driver vanity mirror,Dual front impact airbags,Dual front side impact airbags,Electronic Stability Control,Four wheel independent suspension,Front anti-roll bar,Front Bucket Seats,Front Center Armrest,Front fog lights,Front reading lights,Fully automatic headlights,Heated door mirrors,Illuminated entry,Knee airbag,Leather Seats,Leather steering wheel,Low tire pressure warning,Normal Duty Suspension,Occupant sensing airbag,Outside temperature display,Overhead airbag,Overhead console,Panic alarm,ParkView Rear Back-Up Camera,Passenger door bin,Passenger vanity mirror,Power door mirrors,Power steering,Power windows,Radio data system,Radio: Uconnect 5.0,Rear anti-roll bar,Rear window defroster,Rear window wiper,Remote keyless entry,Roof rack: rails only,Speed control,Split folding rear seat,Steering wheel mounted audio controls,Tachometer,Telescoping steering wheel,Tilt steering wheel,Traction control,Trip computer,Variably intermittent wipers,Voltmeter                                                                                                                                                                                                                                                                                                                                                                                                                                                                                                                                                                                                                                                                                                                                                                                                                                                                                                                                                                                                                                                                                                                                                                                                                                                                                                                                                                                                                                                                                                                                                                                                                                                                                                                                                                                                                                                                                                                                                                                                                                                                                                                                                                                                                                                                                        1\n",
       "FACTORY CERTIFIED WARRANTY AVAILABLE THROUGH 2026!! CERTIFIED CARFAX!!! One Owner Vehicle - Bluetooth - Alloy Wheels - Backup Camera - Navigation - Power Seats - Sunroof - Premium Leather Seats - Heated Seats - Rear Heated Seats - Rear Climate Control - Premium Sound - Third Row Seats - V6 - Power Accessories - Immaculate Condition - Save yourself Time and Money by shopping with the award winning Eastchester Chrysler Jeep Dodge Ram, a 3 time consecutive CUSTOMER FIRST AWARD FOR EXCELLENCE dealer! Buy with Confidence. View our entire inventory by visiting our virtual showroom at www.eastjeep.com \"Pay the Least in the East\" at Eastchester Chrysler Jeep Dodge-This Brand New State of the Art Dealership is only 2 blocks away from Exit 13 off I-95 or Minutes from exit 7 on the Hutchinson Parkway. Over 200 Certified cars available for Immediate Delivery. To take advantage of the special pricing for this vehicle, the purchase must be consummated based on mutually agreed upon method of payment (cash or finance) and customer must present ad at arrival and take same day delivery. $0 down available. Prices are adjusted and modified frequently -weekly, daily, and sometimes hourly. Price adjustment is a function of website traffic, inquiries, and bidding on any one vehicle. For more information and up to date accuracy of pricing and terms of sale, please visit our website, www.eastjeep.com. Excludes sales tax, registration fees, finance and reconditioning charges (dealer fees may apply). Aftermarket/Mopar warranties and coverages are available but not necessary to purchase any vehicle. A complete listing of these items are available on site and upon request. Vehicles sold cosmetically as is, not responsible for typos. Customer Inquiries only- No Dealer or Wholesale calls please.[!@@Additional Info@@!]Navigation System,Premium Group,Quick Order Package 2BE,506 Watt Amplifier,5-Year SiriusXM Travel Link Service,6 Speakers,AM/FM radio: SiriusXM,Audio memory,Beats Premium Audio System,HD Radio,Radio: Uconnect 4 w/7\" Display,Radio: Uconnect 4C Nav w/8.4\" Display,Air Conditioning,Automatic temperature control,Front dual zone A/C,Rear air conditioning,Rear window defroster,Memory seat,Power driver seat,Power steering,Power windows,Remote keyless entry,Steering wheel mounted audio controls,Four wheel independent suspension,Traction control,4-Wheel Disc Brakes,ABS brakes,Anti-whiplash front head restraints,Dual front impact airbags,Dual front side impact airbags,Emergency communication system: Roadside Assistance/9-1-1 Call,Front anti-roll bar,Knee airbag,Low tire pressure warning,Occupant sensing airbag,Overhead airbag,Rear anti-roll bar,Power Sunroof,Power Liftgate,Brake assist,Electronic Stability Control,ParkView Rear Back-Up Camera,Rear Parking Sensors,Delay-off headlights,Front fog lights,Fully automatic headlights,Panic alarm,Security system,Speed control,Auto-dimming door mirrors,Bumpers: body-color,Front License Plate Bracket (DISC),Heated door mirrors,Power door mirrors,Spoiler,Turn signal indicator mirrors,1-Year SiriusXM Guardian Trial,5-Year SiriusXM Traffic Service,Apple CarPlay,Apple CarPlay/Android Auto,Auto-dimming Rear-View mirror,Compass,Driver door bin,Driver vanity mirror,For Details Visit DriveUconnect.com,Front reading lights,Garage door transmitter,Google Android Auto,Heated steering wheel,Illuminated entry,Leather Suede Bucket Seats,Outside temperature display,Overhead console,Passenger vanity mirror,Rear reading lights,Rear seat center armrest,SiriusXM Traffic Plus,SiriusXM Travel Link,Tachometer,Telescoping steering wheel,Tilt steering wheel,Trip computer,3rd row seats: split-bench,Front Bucket Seats,Heated front seats,Heated rear seats,Power passenger seat,Split folding rear seat,Black Roof Rails,Front Center Armrest w/Storage,Integrated Roof Rail Crossbars,Passenger door bin,Alloy wheels,Wheels: 20\" x 8.0\" Premium Painted Aluminum,Rear window wiper,Speed-Sensitive Wipers,Variably intermittent wipers,3.45 Rear Axle Ratio                                                                                                            1\n",
       "FACTORY CERTIFIED WARRANTY AVAILABLE THROUGH 2026!! CERTIFIED CLEAN CARFAX!!! One Owner Vehicle - Bluetooth - Alloy Wheels - Backup Camera - Navigation - Premium Cloth Seats - Heated Seats - Power Accessories - Immaculate Condition - Save yourself Time and Money by shopping with the award winning Eastchester Chrysler Jeep Dodge Ram, a 3 time consecutive CUSTOMER FIRST AWARD FOR EXCELLENCE dealer! Buy with Confidence. View our entire inventory by visiting our virtual showroom at www.eastjeep.com \"Pay the Least in the East\" at Eastchester Chrysler Jeep Dodge-This Brand New State of the Art Dealership is only 2 blocks away from Exit 13 off I-95 or Minutes from exit 7 on the Hutchinson Parkway. Over 200 Certified cars available for Immediate Delivery. To take advantage of the special pricing for this vehicle, the purchase must be consummated based on mutually agreed upon method of payment (cash or finance) and customer must present ad at arrival and take same day delivery. $0 down available. Prices are adjusted and modified frequently -weekly, daily, and sometimes hourly. Price adjustment is a function of website traffic, inquiries, and bidding on any one vehicle. For more information and up to date accuracy of pricing and terms of sale, please visit our website, www.eastjeep.com. Excludes sales tax, registration fees, finance and reconditioning charges (dealer fees may apply). Aftermarket/Mopar warranties and coverages are available but not necessary to purchase any vehicle. A complete listing of these items are available on site and upon request. Vehicles sold cosmetically as is, not responsible for typos. Customer Inquiries only- No Dealer or Wholesale calls please.[!@@Additional Info@@!]GPS Navigation,Navigation System,Cold Weather Group,Electronic Infotainment System Group,Quick Order Package 24G,Body Color 3-Piece Hard Top,1-Yr SiriusXM Radio Service,8 Speakers,Alpine Premium Audio System,AM/FM radio: SiriusXM,Apple CarPlay (DISC),Radio data system,Radio: Uconnect 4 w/7\" Display,Radio: Uconnect 4C Nav w/8.4\" Display,SiriusXM Satellite Radio (DISC),Air Conditioning,Automatic temperature control,Front dual zone A/C,Rear Window Defroster,Power steering,Power windows,Remote keyless entry,Steering wheel mounted audio controls,Heavy Duty Suspension w/Gas Shocks,Traction control,4-Wheel Disc Brakes,ABS brakes,Dual front impact airbags,Dual front side impact airbags,Front anti-roll bar,Integrated roll-over protection,Low tire pressure warning,Occupant sensing airbag,Rear anti-roll bar,Remote Start System,Brake assist,Electronic Stability Control,ParkView Rear Back-Up Camera,Delay-off headlights,Front fog lights,Fully automatic headlights,Panic alarm,Security system,Speed control,Engine Block Heater,Front License Plate Bracket (DISC),Heated door mirrors,Non-Lock Fuel Cap w/o Discriminator,Power door mirrors,1-Year SiriusXM Guardian Trial,5-Year SiriusXM Travel Link Service,Apple CarPlay/Android Auto,Compass,Driver door bin,Driver vanity mirror,For More Info, Call 800-643-2112,Front reading lights,Garage door transmitter,Illuminated entry,Leather steering wheel,Outside temperature display,Passenger vanity mirror,Rear reading lights,Tachometer,Telescoping steering wheel,Tilt steering wheel,Trip computer,Voltmeter,Cloth Low-Back Bucket Seats,Front Bucket Seats,Split folding rear seat,21.5 Gallon Fuel Tank (DISC),Front Center Armrest w/Storage,Passenger door bin,Wheels: 18\" x 7.5\" Polished w/Gray Spokes,Variably intermittent wipers,3.45 Rear Axle Ratio                                                                                                                                                                                                                                                                                                                                                                                                                                                                                                                                                                                                                          1\n",
       "All of our new vehicles come with a complimentary year of Scheduled Maintenance. See dealer for details. If we do not have a vehicle you specifically want, let us know and if its out there, we can get it for you.  2020 Ford Expedition Max Limited 4X4 Iconic Silver Metallic EcoBoost 3.5L V6 GTDi DOHC 24V Twin Turbocharged  2nd Row Leather-Trimmed Captain's Chairs w/Armrest, 2nd Row Outboard Inflatable Rear Safety Belts, 360-Degree Camera w/Split View, Adaptive Cruise Control, Adjustable pedals, Air Conditioning, AppLink/Apple CarPlay and Android Auto, Automatic temperature control, Delay-off headlights, Electronic Limited Slip w/3.73 Axle Ratio, Emergency communication system: SYNC 3 911 Assist, Enhanced Active Park Assist System, Equipment Group 302A, Exterior Parking Camera Rear, Ford Co-Pilot360 Assist, Front dual zone A/C, Front fog lights, Front License Plate Bracket, Fully automatic headlights, Heavy-Duty Engine Radiator, Heavy-Duty Trailer Tow Package, Integrated Trailer Brake Controller, LED Headlamps & Fog Lamps, Low tire pressure warning, Navigation System, Panoramic Vista Roof, Power Liftgate, Pro Trailer Backup Assist, Radio: B&O Sound System by Bang & Olufsen, Remote keyless entry, Security system, SiriusXM Satellite Radio, Speed control, SYNC 3 Communications & Entertainment System, Traction control, Voice-Activated Touch-Screen Navigation System, Wheels: 22\" 6-Spoke Painted Machined-Face Aluminum. Price includes: $1250 - Retail Bonus Customer Cash. Exp. 09/30/2020 $2750 - Ford Credit Retail Bonus Customer Cash. Exp. 09/30/2020 $500 - Retail Customer Cash. Exp. 09/30/2020[!@@Additional Info@@!]Navigation System,Equipment Group 302A,Heavy-Duty Trailer Tow Package,12 Speakers,AM/FM radio: SiriusXM,Radio data system,Radio: B&O Sound System by Bang & Olufsen,Rear audio controls,SiriusXM Satellite Radio,SYNC 3 Communications & Entertainment System,Air Conditioning,Automatic temperature control,Front dual zone A/C,Heavy-Duty Engine Radiator,Rear air conditioning,Rear window defroster,Memory seat,Pedal memory,Power driver seat,Power steering,Power windows,Remote keyless entry,Steering wheel memory,Steering wheel mounted audio controls,Four wheel independent suspension,Speed-sensing steering,Traction control,4-Wheel Disc Brakes,ABS brakes,Dual front impact airbags,Dual front side impact airbags,Emergency communication system: SYNC 3 911 Assist,Front anti-roll bar,Low tire pressure warning,Occupant sensing airbag,Overhead airbag,Rear anti-roll bar,Panoramic Vista Roof,Power Liftgate,Brake assist,Electronic Stability Control,Exterior Parking Camera Rear,Auto High-beam Headlights,Delay-off headlights,Front fog lights,Fully automatic headlights,2nd Row Outboard Inflatable Rear Safety Belts,Panic alarm,Security system,Adaptive Cruise Control,Speed control,Auto-dimming door mirrors,Bumpers: body-color,Front License Plate Bracket,Heated door mirrors,LED Headlamps & Fog Lamps,Power door mirrors,Roof rack: rails only,Turn signal indicator mirrors,360-Degree Camera w/Split View,Adjustable pedals,AppLink/Apple CarPlay and Android Auto,Auto-dimming Rear-View mirror,Compass,Driver door bin,Driver vanity mirror,Enhanced Active Park Assist System,Ford Co-Pilot360 Assist,Front reading lights,Garage door transmitter,Heated & Cooled Leather Front Captain's Chairs,Heated steering wheel,Illuminated entry,Leather steering wheel,Outside temperature display,Overhead console,Passenger vanity mirror,Rear reading lights,Tachometer,Telescoping steering wheel,Tilt steering wheel,Trip computer,Voice-Activated Touch-Screen Navigation System,Voltmeter,2nd Row Leather-Trimmed Captain's Chairs w/Armrest,3rd row seats: split-bench,Front Bucket Seats,Front Center Armrest,Heated front seats,Heated rear seats,Power passenger seat,Reclining 3rd row seat,Split folding rear seat,Ventilated front seats,Passenger door bin,Integrated Trailer Brake Controller,Pro Trailer Backup Assist,Wheels: 22\" 6-Spoke Painted Machined-Face Aluminum,Rain sensing wipers,Rear window wiper,Speed-Sensitive Wipers,Variably intermittent wipers,Electronic Limited Slip w/3.73 Axle Ratio      1\n",
       "Name: count, Length: 1179937, dtype: int64"
      ]
     },
     "execution_count": 329,
     "metadata": {},
     "output_type": "execute_result"
    }
   ],
   "source": [
    "cleaned_cars['description'].value_counts()"
   ]
  },
  {
   "cell_type": "code",
   "execution_count": null,
   "id": "e1dd54af-c95c-42c6-a977-fba8855bb980",
   "metadata": {},
   "outputs": [],
   "source": []
  },
  {
   "cell_type": "code",
   "execution_count": 330,
   "id": "21e32fbd-091e-4d29-b246-0d9eb40bb105",
   "metadata": {},
   "outputs": [],
   "source": [
    "cleaned_cars=cleaned_cars.drop(['major_options','description'],axis=1)"
   ]
  },
  {
   "cell_type": "code",
   "execution_count": 331,
   "id": "735a4ca8-9692-433d-b5d1-cfb0dd2d169e",
   "metadata": {},
   "outputs": [],
   "source": [
    "cleaned_cars['mileage']=cleaned_cars['mileage'].fillna(np.median(cleaned_cars.dropna()['mileage']))"
   ]
  },
  {
   "cell_type": "code",
   "execution_count": 332,
   "id": "7917c2e0-5530-452c-9cf9-1ee6f7a8aefd",
   "metadata": {},
   "outputs": [
    {
     "data": {
      "text/plain": [
       "np.float64(25.0)"
      ]
     },
     "execution_count": 332,
     "metadata": {},
     "output_type": "execute_result"
    }
   ],
   "source": [
    "np.median(cleaned_cars.dropna()['mileage'])"
   ]
  },
  {
   "cell_type": "code",
   "execution_count": 333,
   "id": "5a362941-5184-4e0e-81d3-0beebd30863c",
   "metadata": {},
   "outputs": [
    {
     "data": {
      "text/plain": [
       "seller_rating           0.800972\n",
       "transmission            0.729100\n",
       "transmission_display    0.729100\n",
       "exterior_color          0.174232\n",
       "wheel_system            0.069240\n",
       "wheel_system_display    0.069240\n",
       "length                  0.016085\n",
       "wheelbase               0.016085\n",
       "front_legroom           0.016085\n",
       "back_legroom            0.016085\n",
       "height                  0.016085\n",
       "width                   0.016085\n",
       "maximum_seating         0.016085\n",
       "fuel_tank_volume        0.016085\n",
       "body_type               0.001609\n",
       "engine_type             0.001097\n",
       "engine_cylinders        0.001097\n",
       "fuel_type               0.000804\n",
       "city                    0.000000\n",
       "vin                     0.000000\n",
       "has_accidents           0.000000\n",
       "frame_damaged           0.000000\n",
       "franchise_dealer        0.000000\n",
       "franchise_make          0.000000\n",
       "dealer_zip              0.000000\n",
       "daysonmarket            0.000000\n",
       "engine_displacement     0.000000\n",
       "fleet                   0.000000\n",
       "city_fuel_economy       0.000000\n",
       "listed_date             0.000000\n",
       "interior_color          0.000000\n",
       "highway_fuel_economy    0.000000\n",
       "isCab                   0.000000\n",
       "is_new                  0.000000\n",
       "latitude                0.000000\n",
       "horsepower              0.000000\n",
       "owner_count             0.000000\n",
       "model_name              0.000000\n",
       "mileage                 0.000000\n",
       "make_name               0.000000\n",
       "listing_id              0.000000\n",
       "longitude               0.000000\n",
       "listing_color           0.000000\n",
       "price                   0.000000\n",
       "torque                  0.000000\n",
       "sp_name                 0.000000\n",
       "sp_id                   0.000000\n",
       "savings_amount          0.000000\n",
       "power                   0.000000\n",
       "trimId                  0.000000\n",
       "trim_name               0.000000\n",
       "year                    0.000000\n",
       "dtype: float64"
      ]
     },
     "execution_count": 333,
     "metadata": {},
     "output_type": "execute_result"
    }
   ],
   "source": [
    "cleaned_cars_null_perc=((cleaned_cars.isna().sum()/cleaned_cars.shape[0])*100).sort_values(ascending=False)\n",
    "cleaned_cars_null_perc"
   ]
  },
  {
   "cell_type": "code",
   "execution_count": 334,
   "id": "eb37461e-d71d-4d86-9f3a-d155c95dbe1e",
   "metadata": {},
   "outputs": [
    {
     "data": {
      "text/plain": [
       "(1367713, 52)"
      ]
     },
     "execution_count": 334,
     "metadata": {},
     "output_type": "execute_result"
    }
   ],
   "source": [
    "cleaned_cars.shape"
   ]
  },
  {
   "cell_type": "code",
   "execution_count": 335,
   "id": "3a5c5fe8-9055-4ea2-aa06-c81450ef48a2",
   "metadata": {},
   "outputs": [],
   "source": [
    "#Now since we have very less null values we will use dropna on the entire remanining dataset\n",
    "cleaned_cars=cleaned_cars.dropna()"
   ]
  },
  {
   "cell_type": "code",
   "execution_count": 336,
   "id": "77958597-fcf5-4c10-b4ea-51334ff13074",
   "metadata": {},
   "outputs": [
    {
     "data": {
      "text/plain": [
       "(1343523, 52)"
      ]
     },
     "execution_count": 336,
     "metadata": {},
     "output_type": "execute_result"
    }
   ],
   "source": [
    "cleaned_cars.shape"
   ]
  },
  {
   "cell_type": "code",
   "execution_count": 337,
   "id": "2c85fa1f-8780-41f8-96b1-146eaaed0a6b",
   "metadata": {},
   "outputs": [
    {
     "data": {
      "text/plain": [
       "vin                     0\n",
       "back_legroom            0\n",
       "body_type               0\n",
       "city                    0\n",
       "city_fuel_economy       0\n",
       "daysonmarket            0\n",
       "dealer_zip              0\n",
       "engine_cylinders        0\n",
       "engine_displacement     0\n",
       "engine_type             0\n",
       "exterior_color          0\n",
       "fleet                   0\n",
       "frame_damaged           0\n",
       "franchise_dealer        0\n",
       "franchise_make          0\n",
       "front_legroom           0\n",
       "fuel_tank_volume        0\n",
       "fuel_type               0\n",
       "has_accidents           0\n",
       "height                  0\n",
       "highway_fuel_economy    0\n",
       "horsepower              0\n",
       "interior_color          0\n",
       "isCab                   0\n",
       "is_new                  0\n",
       "latitude                0\n",
       "length                  0\n",
       "listed_date             0\n",
       "listing_color           0\n",
       "listing_id              0\n",
       "longitude               0\n",
       "make_name               0\n",
       "maximum_seating         0\n",
       "mileage                 0\n",
       "model_name              0\n",
       "owner_count             0\n",
       "power                   0\n",
       "price                   0\n",
       "savings_amount          0\n",
       "seller_rating           0\n",
       "sp_id                   0\n",
       "sp_name                 0\n",
       "torque                  0\n",
       "transmission            0\n",
       "transmission_display    0\n",
       "trimId                  0\n",
       "trim_name               0\n",
       "wheel_system            0\n",
       "wheel_system_display    0\n",
       "wheelbase               0\n",
       "width                   0\n",
       "year                    0\n",
       "dtype: int64"
      ]
     },
     "execution_count": 337,
     "metadata": {},
     "output_type": "execute_result"
    }
   ],
   "source": [
    "#checking finally for null values-\n",
    "cleaned_cars.isna().sum()"
   ]
  },
  {
   "cell_type": "code",
   "execution_count": null,
   "id": "f45b0572-53e7-4f62-9752-015347efb56f",
   "metadata": {},
   "outputs": [],
   "source": []
  },
  {
   "cell_type": "code",
   "execution_count": 338,
   "id": "dff45c6e-f323-478f-9a6f-4e9f7adf5f0c",
   "metadata": {},
   "outputs": [],
   "source": [
    "#dropping vin\n",
    "cleaned_cars=cleaned_cars.drop('vin',axis=1)"
   ]
  },
  {
   "cell_type": "code",
   "execution_count": 339,
   "id": "318647c2-ce01-4cab-9e2b-4d09ff419fc1",
   "metadata": {},
   "outputs": [
    {
     "data": {
      "text/plain": [
       "(1343523, 51)"
      ]
     },
     "execution_count": 339,
     "metadata": {},
     "output_type": "execute_result"
    }
   ],
   "source": [
    "cleaned_cars.shape"
   ]
  },
  {
   "cell_type": "code",
   "execution_count": null,
   "id": "b39d3a1f-3651-4f72-8abb-85c89da18e9f",
   "metadata": {},
   "outputs": [],
   "source": []
  },
  {
   "cell_type": "code",
   "execution_count": 340,
   "id": "df483235-174b-46c6-94b0-493f515572c5",
   "metadata": {},
   "outputs": [],
   "source": [
    "# cleaned_cars.to_csv('trimmd_used_car.csv', index=False)  # to convert our cleaned df to a csv file."
   ]
  },
  {
   "cell_type": "code",
   "execution_count": null,
   "id": "2fdd5c80-4205-4f34-93b7-946a15317883",
   "metadata": {},
   "outputs": [],
   "source": []
  },
  {
   "cell_type": "code",
   "execution_count": 341,
   "id": "326db395-c277-4f41-ba9a-1ce6fa006319",
   "metadata": {},
   "outputs": [
    {
     "data": {
      "text/html": [
       "<div>\n",
       "<style scoped>\n",
       "    .dataframe tbody tr th:only-of-type {\n",
       "        vertical-align: middle;\n",
       "    }\n",
       "\n",
       "    .dataframe tbody tr th {\n",
       "        vertical-align: top;\n",
       "    }\n",
       "\n",
       "    .dataframe thead th {\n",
       "        text-align: right;\n",
       "    }\n",
       "</style>\n",
       "<table border=\"1\" class=\"dataframe\">\n",
       "  <thead>\n",
       "    <tr style=\"text-align: right;\">\n",
       "      <th></th>\n",
       "      <th>back_legroom</th>\n",
       "      <th>body_type</th>\n",
       "      <th>city</th>\n",
       "      <th>city_fuel_economy</th>\n",
       "      <th>daysonmarket</th>\n",
       "      <th>dealer_zip</th>\n",
       "      <th>engine_cylinders</th>\n",
       "      <th>engine_displacement</th>\n",
       "      <th>engine_type</th>\n",
       "      <th>exterior_color</th>\n",
       "      <th>...</th>\n",
       "      <th>torque</th>\n",
       "      <th>transmission</th>\n",
       "      <th>transmission_display</th>\n",
       "      <th>trimId</th>\n",
       "      <th>trim_name</th>\n",
       "      <th>wheel_system</th>\n",
       "      <th>wheel_system_display</th>\n",
       "      <th>wheelbase</th>\n",
       "      <th>width</th>\n",
       "      <th>year</th>\n",
       "    </tr>\n",
       "  </thead>\n",
       "  <tbody>\n",
       "    <tr>\n",
       "      <th>38</th>\n",
       "      <td>38.1 in</td>\n",
       "      <td>Sedan</td>\n",
       "      <td>Bay Shore</td>\n",
       "      <td>27.0</td>\n",
       "      <td>55</td>\n",
       "      <td>11706</td>\n",
       "      <td>I4</td>\n",
       "      <td>1500.0</td>\n",
       "      <td>I4</td>\n",
       "      <td>Silver Ice Metallic</td>\n",
       "      <td>...</td>\n",
       "      <td>184 lb-ft @ 2,500 RPM</td>\n",
       "      <td>A</td>\n",
       "      <td>6-Speed Automatic</td>\n",
       "      <td>t74365</td>\n",
       "      <td>LT FWD</td>\n",
       "      <td>FWD</td>\n",
       "      <td>Front-Wheel Drive</td>\n",
       "      <td>111.4 in</td>\n",
       "      <td>73 in</td>\n",
       "      <td>2018</td>\n",
       "    </tr>\n",
       "    <tr>\n",
       "      <th>40</th>\n",
       "      <td>27.3 in</td>\n",
       "      <td>Coupe</td>\n",
       "      <td>Bronx</td>\n",
       "      <td>18.0</td>\n",
       "      <td>36</td>\n",
       "      <td>10466</td>\n",
       "      <td>V6</td>\n",
       "      <td>3500.0</td>\n",
       "      <td>V6</td>\n",
       "      <td>Black</td>\n",
       "      <td>...</td>\n",
       "      <td>280 lb-ft @ 4,800 RPM</td>\n",
       "      <td>A</td>\n",
       "      <td>6-Speed Automatic</td>\n",
       "      <td>t76289</td>\n",
       "      <td>AWD</td>\n",
       "      <td>AWD</td>\n",
       "      <td>All-Wheel Drive</td>\n",
       "      <td>107.5 in</td>\n",
       "      <td>81.5 in</td>\n",
       "      <td>2018</td>\n",
       "    </tr>\n",
       "    <tr>\n",
       "      <th>41</th>\n",
       "      <td>38.4 in</td>\n",
       "      <td>SUV / Crossover</td>\n",
       "      <td>Bay Shore</td>\n",
       "      <td>18.0</td>\n",
       "      <td>27</td>\n",
       "      <td>11706</td>\n",
       "      <td>V6</td>\n",
       "      <td>3600.0</td>\n",
       "      <td>V6</td>\n",
       "      <td>Silver Ice Metallic</td>\n",
       "      <td>...</td>\n",
       "      <td>266 lb-ft @ 2,800 RPM</td>\n",
       "      <td>A</td>\n",
       "      <td>9-Speed Automatic</td>\n",
       "      <td>t73662</td>\n",
       "      <td>LT Cloth FWD</td>\n",
       "      <td>FWD</td>\n",
       "      <td>Front-Wheel Drive</td>\n",
       "      <td>120.9 in</td>\n",
       "      <td>78.6 in</td>\n",
       "      <td>2018</td>\n",
       "    </tr>\n",
       "    <tr>\n",
       "      <th>45</th>\n",
       "      <td>36.8 in</td>\n",
       "      <td>SUV / Crossover</td>\n",
       "      <td>Bay Shore</td>\n",
       "      <td>15.0</td>\n",
       "      <td>27</td>\n",
       "      <td>11706</td>\n",
       "      <td>V6</td>\n",
       "      <td>3600.0</td>\n",
       "      <td>V6</td>\n",
       "      <td>Silver Ice Metallic</td>\n",
       "      <td>...</td>\n",
       "      <td>266 lb-ft @ 3,400 RPM</td>\n",
       "      <td>A</td>\n",
       "      <td>6-Speed Automatic</td>\n",
       "      <td>t67372</td>\n",
       "      <td>1LT AWD</td>\n",
       "      <td>AWD</td>\n",
       "      <td>All-Wheel Drive</td>\n",
       "      <td>118.9 in</td>\n",
       "      <td>78.5 in</td>\n",
       "      <td>2017</td>\n",
       "    </tr>\n",
       "    <tr>\n",
       "      <th>47</th>\n",
       "      <td>38.6 in</td>\n",
       "      <td>SUV / Crossover</td>\n",
       "      <td>Bay Shore</td>\n",
       "      <td>18.0</td>\n",
       "      <td>24</td>\n",
       "      <td>11706</td>\n",
       "      <td>V6</td>\n",
       "      <td>3600.0</td>\n",
       "      <td>V6</td>\n",
       "      <td>Diamond Black Crystal Pearlcoat</td>\n",
       "      <td>...</td>\n",
       "      <td>260 lb-ft @ 4,800 RPM</td>\n",
       "      <td>A</td>\n",
       "      <td>8-Speed Automatic</td>\n",
       "      <td>t75215</td>\n",
       "      <td>Altitude 4WD</td>\n",
       "      <td>4WD</td>\n",
       "      <td>Four-Wheel Drive</td>\n",
       "      <td>114.8 in</td>\n",
       "      <td>84.8 in</td>\n",
       "      <td>2018</td>\n",
       "    </tr>\n",
       "  </tbody>\n",
       "</table>\n",
       "<p>5 rows × 51 columns</p>\n",
       "</div>"
      ],
      "text/plain": [
       "   back_legroom        body_type       city  city_fuel_economy  daysonmarket  \\\n",
       "38      38.1 in            Sedan  Bay Shore               27.0            55   \n",
       "40      27.3 in            Coupe      Bronx               18.0            36   \n",
       "41      38.4 in  SUV / Crossover  Bay Shore               18.0            27   \n",
       "45      36.8 in  SUV / Crossover  Bay Shore               15.0            27   \n",
       "47      38.6 in  SUV / Crossover  Bay Shore               18.0            24   \n",
       "\n",
       "   dealer_zip engine_cylinders  engine_displacement engine_type  \\\n",
       "38      11706               I4               1500.0          I4   \n",
       "40      10466               V6               3500.0          V6   \n",
       "41      11706               V6               3600.0          V6   \n",
       "45      11706               V6               3600.0          V6   \n",
       "47      11706               V6               3600.0          V6   \n",
       "\n",
       "                     exterior_color  ...                 torque  transmission  \\\n",
       "38              Silver Ice Metallic  ...  184 lb-ft @ 2,500 RPM             A   \n",
       "40                            Black  ...  280 lb-ft @ 4,800 RPM             A   \n",
       "41              Silver Ice Metallic  ...  266 lb-ft @ 2,800 RPM             A   \n",
       "45              Silver Ice Metallic  ...  266 lb-ft @ 3,400 RPM             A   \n",
       "47  Diamond Black Crystal Pearlcoat  ...  260 lb-ft @ 4,800 RPM             A   \n",
       "\n",
       "    transmission_display  trimId     trim_name wheel_system  \\\n",
       "38     6-Speed Automatic  t74365        LT FWD          FWD   \n",
       "40     6-Speed Automatic  t76289           AWD          AWD   \n",
       "41     9-Speed Automatic  t73662  LT Cloth FWD          FWD   \n",
       "45     6-Speed Automatic  t67372       1LT AWD          AWD   \n",
       "47     8-Speed Automatic  t75215  Altitude 4WD          4WD   \n",
       "\n",
       "   wheel_system_display wheelbase    width  year  \n",
       "38    Front-Wheel Drive  111.4 in    73 in  2018  \n",
       "40      All-Wheel Drive  107.5 in  81.5 in  2018  \n",
       "41    Front-Wheel Drive  120.9 in  78.6 in  2018  \n",
       "45      All-Wheel Drive  118.9 in  78.5 in  2017  \n",
       "47     Four-Wheel Drive  114.8 in  84.8 in  2018  \n",
       "\n",
       "[5 rows x 51 columns]"
      ]
     },
     "execution_count": 341,
     "metadata": {},
     "output_type": "execute_result"
    }
   ],
   "source": [
    "cleaned_cars.head()"
   ]
  },
  {
   "cell_type": "code",
   "execution_count": 342,
   "id": "64918214-d541-498b-a606-4e29e1af9c11",
   "metadata": {},
   "outputs": [],
   "source": [
    "# cleaned_cars.wheel_system"
   ]
  },
  {
   "cell_type": "code",
   "execution_count": 343,
   "id": "041a7bf6-c810-4249-a6a0-5d8e4d468417",
   "metadata": {},
   "outputs": [
    {
     "data": {
      "text/plain": [
       "38         111.4 in\n",
       "40         107.5 in\n",
       "41         120.9 in\n",
       "45         118.9 in\n",
       "47         114.8 in\n",
       "             ...   \n",
       "3000011    112.7 in\n",
       "3000024    131.6 in\n",
       "3000025    107.1 in\n",
       "3000026    100.6 in\n",
       "3000036    120.9 in\n",
       "Name: wheelbase, Length: 1343523, dtype: object"
      ]
     },
     "execution_count": 343,
     "metadata": {},
     "output_type": "execute_result"
    }
   ],
   "source": [
    "cleaned_cars.wheelbase\t"
   ]
  },
  {
   "cell_type": "code",
   "execution_count": null,
   "id": "142a40bb-ca99-4fe3-bd48-302015679ac7",
   "metadata": {},
   "outputs": [],
   "source": []
  },
  {
   "cell_type": "code",
   "execution_count": 344,
   "id": "8bd17fa8-cd58-4c5d-94d5-b87df19a76c9",
   "metadata": {},
   "outputs": [
    {
     "data": {
      "text/plain": [
       "(1343523, 51)"
      ]
     },
     "execution_count": 344,
     "metadata": {},
     "output_type": "execute_result"
    }
   ],
   "source": [
    "cleaned_cars.shape"
   ]
  },
  {
   "cell_type": "code",
   "execution_count": null,
   "id": "7362e80c-0adc-4ee9-98ae-778d185411e2",
   "metadata": {},
   "outputs": [],
   "source": []
  },
  {
   "cell_type": "code",
   "execution_count": 345,
   "id": "2f55ed8f-4a27-4481-977f-994ab7a58504",
   "metadata": {},
   "outputs": [
    {
     "data": {
      "text/plain": [
       "1343523"
      ]
     },
     "execution_count": 345,
     "metadata": {},
     "output_type": "execute_result"
    }
   ],
   "source": [
    "# Columns similiar to 'vin' which are not needed- \n",
    "# trimid,\n",
    "#engine cylinder and engine type are the same columns\n",
    "\n",
    "sum(cleaned_cars['engine_cylinders']==cleaned_cars['engine_type'])  # which is equal to - cleaned_cars['engine_cylinders'].shape"
   ]
  },
  {
   "cell_type": "code",
   "execution_count": null,
   "id": "7f999c4b-d50c-44de-a769-af339654982c",
   "metadata": {},
   "outputs": [],
   "source": [
    "\n"
   ]
  },
  {
   "cell_type": "code",
   "execution_count": null,
   "id": "94666e74-7322-41cf-a47a-880311f59f10",
   "metadata": {},
   "outputs": [],
   "source": []
  },
  {
   "cell_type": "code",
   "execution_count": 346,
   "id": "f4bede02-1928-4fee-be44-4f1d097de63c",
   "metadata": {},
   "outputs": [],
   "source": [
    "#dropping columns which are not needed such as id columns-\n",
    "cleaned_cars=cleaned_cars.drop(['trimId','listing_id','sp_id','engine_type'],axis=1)"
   ]
  },
  {
   "cell_type": "code",
   "execution_count": 347,
   "id": "5fa84f16-b34f-4af9-95fe-8eb0ff3996a1",
   "metadata": {},
   "outputs": [
    {
     "data": {
      "text/plain": [
       "trim_name\n",
       "SE FWD                          37126\n",
       "S FWD                           26627\n",
       "SV FWD                          25376\n",
       "XLT SuperCrew 4WD               25269\n",
       "LT FWD                          22113\n",
       "                                ...  \n",
       "TDI Sport with Tech                 1\n",
       "Release Series 7.0                  1\n",
       "3.5 FWD with Navigation             1\n",
       "286hp HSE Luxury AWD                1\n",
       "4 Dr Limited 7-Passenger AWD        1\n",
       "Name: count, Length: 4829, dtype: int64"
      ]
     },
     "execution_count": 347,
     "metadata": {},
     "output_type": "execute_result"
    }
   ],
   "source": [
    "cleaned_cars['trim_name'].value_counts()"
   ]
  },
  {
   "cell_type": "code",
   "execution_count": null,
   "id": "a04a96e5-114f-4a08-b14a-df823f189265",
   "metadata": {},
   "outputs": [],
   "source": []
  },
  {
   "cell_type": "code",
   "execution_count": 348,
   "id": "62d15dfe-f4fa-498b-b409-711b971ed9a7",
   "metadata": {},
   "outputs": [],
   "source": [
    "\n",
    "# Columns where feature eng is needed-\n",
    "# max_sitting, columns which have inches in them\n",
    "#dealer_zip, backle"
   ]
  },
  {
   "cell_type": "code",
   "execution_count": 349,
   "id": "23f226a5-c804-4421-87bb-1c2d41de9aae",
   "metadata": {},
   "outputs": [
    {
     "data": {
      "text/plain": [
       "(1343523, 47)"
      ]
     },
     "execution_count": 349,
     "metadata": {},
     "output_type": "execute_result"
    }
   ],
   "source": [
    "cleaned_cars.shape"
   ]
  },
  {
   "cell_type": "code",
   "execution_count": 350,
   "id": "dd634c6e-3b1a-4d46-879a-1cd57dff5c23",
   "metadata": {},
   "outputs": [
    {
     "name": "stdout",
     "output_type": "stream",
     "text": [
      "Index(['back_legroom', 'body_type', 'city', 'dealer_zip', 'engine_cylinders',\n",
      "       'exterior_color', 'fleet', 'franchise_make', 'front_legroom',\n",
      "       'fuel_tank_volume', 'fuel_type', 'has_accidents', 'height',\n",
      "       'interior_color', 'isCab', 'length', 'listed_date', 'listing_color',\n",
      "       'make_name', 'maximum_seating', 'model_name', 'power', 'sp_name',\n",
      "       'torque', 'transmission', 'transmission_display', 'trim_name',\n",
      "       'wheel_system', 'wheel_system_display', 'wheelbase', 'width'],\n",
      "      dtype='object')\n"
     ]
    }
   ],
   "source": [
    "categorical_columns = cleaned_cars.select_dtypes(include=['object', 'category']).columns\n",
    "print(categorical_columns)"
   ]
  },
  {
   "cell_type": "code",
   "execution_count": 351,
   "id": "f7a5eabf-4c60-45b8-8914-1eb54cb5c834",
   "metadata": {},
   "outputs": [
    {
     "data": {
      "text/plain": [
       "38         2020-07-16\n",
       "40         2020-08-04\n",
       "41         2020-08-13\n",
       "45         2020-08-13\n",
       "47         2020-08-16\n",
       "              ...    \n",
       "3000011    2020-09-10\n",
       "3000024    2020-08-14\n",
       "3000025    2020-08-13\n",
       "3000026    2020-08-11\n",
       "3000036    2020-03-25\n",
       "Name: listed_date, Length: 1343523, dtype: object"
      ]
     },
     "execution_count": 351,
     "metadata": {},
     "output_type": "execute_result"
    }
   ],
   "source": [
    "cleaned_cars.listed_date"
   ]
  },
  {
   "cell_type": "code",
   "execution_count": 352,
   "id": "d9478096-2c2f-4fa2-82ea-712ade7ff561",
   "metadata": {},
   "outputs": [
    {
     "data": {
      "text/plain": [
       "make_name\n",
       "Ford             172522\n",
       "Chevrolet        165265\n",
       "Nissan           121996\n",
       "Honda            114364\n",
       "Jeep              98092\n",
       "Hyundai           65497\n",
       "Toyota            64355\n",
       "Dodge             51684\n",
       "Kia               50990\n",
       "RAM               44011\n",
       "GMC               41038\n",
       "Subaru            35858\n",
       "Mazda             31654\n",
       "Cadillac          29632\n",
       "Buick             29510\n",
       "Mercedes-Benz     29495\n",
       "Volkswagen        28879\n",
       "BMW               28329\n",
       "Chrysler          19207\n",
       "Lincoln           17822\n",
       "Lexus             15726\n",
       "Acura             15132\n",
       "INFINITI          14449\n",
       "Audi              12401\n",
       "Volvo             11941\n",
       "Land Rover         7322\n",
       "Mitsubishi         6597\n",
       "Jaguar             4587\n",
       "Porsche            4073\n",
       "MINI               3209\n",
       "Alfa Romeo         2394\n",
       "FIAT               1234\n",
       "Maserati           1086\n",
       "Genesis             841\n",
       "Bentley             319\n",
       "Scion               292\n",
       "Ferrari             268\n",
       "Pontiac             263\n",
       "Aston Martin        252\n",
       "Saturn              227\n",
       "Mercury             170\n",
       "Rolls-Royce         160\n",
       "McLaren             125\n",
       "Lamborghini          75\n",
       "Suzuki               39\n",
       "Hummer               32\n",
       "Lotus                28\n",
       "Saab                 27\n",
       "Oldsmobile           17\n",
       "smart                14\n",
       "Plymouth             12\n",
       "SRT                   7\n",
       "Isuzu                 3\n",
       "Bugatti               1\n",
       "Name: count, dtype: int64"
      ]
     },
     "execution_count": 352,
     "metadata": {},
     "output_type": "execute_result"
    }
   ],
   "source": [
    "cleaned_cars.make_name.value_counts()"
   ]
  },
  {
   "cell_type": "code",
   "execution_count": 353,
   "id": "0517c16b-a160-4109-b216-73e838689104",
   "metadata": {},
   "outputs": [
    {
     "data": {
      "text/plain": [
       "sp_name\n",
       "Honda World                                    1407\n",
       "Huntington Beach Chrysler Dodge Jeep Ram       1204\n",
       "Jeff Wyler Eastgate Auto Mall                  1142\n",
       "Rock Honda                                      968\n",
       "Varsity Ford                                    968\n",
       "                                               ... \n",
       "East Tennessee Ford Dodge Chrysler Jeep RAM       1\n",
       "Seaview Buick GMC                                 1\n",
       "Courtesy Ford Lincoln                             1\n",
       "Bellingham Ford Lincoln                           1\n",
       "Volvo Cars Seattle                                1\n",
       "Name: count, Length: 12190, dtype: int64"
      ]
     },
     "execution_count": 353,
     "metadata": {},
     "output_type": "execute_result"
    }
   ],
   "source": [
    "cleaned_cars.sp_name.value_counts()"
   ]
  },
  {
   "cell_type": "code",
   "execution_count": null,
   "id": "7bfcab6f-0653-42ca-96dc-3a5c2bdd1860",
   "metadata": {},
   "outputs": [],
   "source": []
  },
  {
   "cell_type": "code",
   "execution_count": 354,
   "id": "ab2489ba-6484-47fd-8d32-43e1b19eaf0d",
   "metadata": {},
   "outputs": [
    {
     "name": "stdout",
     "output_type": "stream",
     "text": [
      "Index(['back_legroom', 'body_type', 'city', 'dealer_zip', 'engine_cylinders',\n",
      "       'exterior_color', 'fleet', 'franchise_make', 'front_legroom',\n",
      "       'fuel_tank_volume', 'fuel_type', 'has_accidents', 'height',\n",
      "       'interior_color', 'isCab', 'length', 'listed_date', 'listing_color',\n",
      "       'make_name', 'maximum_seating', 'model_name', 'power', 'sp_name',\n",
      "       'torque', 'transmission', 'transmission_display', 'trim_name',\n",
      "       'wheel_system', 'wheel_system_display', 'wheelbase', 'width'],\n",
      "      dtype='object')\n"
     ]
    }
   ],
   "source": [
    "categorical_columns = cleaned_cars.select_dtypes(include=['object', 'category']).columns\n",
    "print(categorical_columns)"
   ]
  },
  {
   "cell_type": "code",
   "execution_count": null,
   "id": "1ad16b6f-00e2-4663-ae21-b0482213fada",
   "metadata": {},
   "outputs": [],
   "source": []
  },
  {
   "cell_type": "code",
   "execution_count": 355,
   "id": "1e77d513-3006-4429-80ad-c5891f49cbbb",
   "metadata": {},
   "outputs": [
    {
     "data": {
      "text/plain": [
       "38         38.1 in\n",
       "40         27.3 in\n",
       "41         38.4 in\n",
       "45         36.8 in\n",
       "47         38.6 in\n",
       "            ...   \n",
       "3000011    39.6 in\n",
       "3000024    41.5 in\n",
       "3000025      29 in\n",
       "3000026    35.7 in\n",
       "3000036    38.4 in\n",
       "Name: back_legroom, Length: 1343523, dtype: object"
      ]
     },
     "execution_count": 355,
     "metadata": {},
     "output_type": "execute_result"
    }
   ],
   "source": [
    "cleaned_cars.back_legroom"
   ]
  },
  {
   "cell_type": "code",
   "execution_count": null,
   "id": "30957e77-be30-43e0-8fca-da3a3b733149",
   "metadata": {},
   "outputs": [],
   "source": []
  },
  {
   "cell_type": "code",
   "execution_count": null,
   "id": "60852ea0-ebc1-405a-8e14-d3a96dd62afb",
   "metadata": {},
   "outputs": [],
   "source": []
  },
  {
   "cell_type": "code",
   "execution_count": 356,
   "id": "d1004dd2-f0f1-4295-b12b-3fffbb70855a",
   "metadata": {},
   "outputs": [
    {
     "name": "stdout",
     "output_type": "stream",
     "text": [
      "Index(['city_fuel_economy', 'daysonmarket', 'engine_displacement',\n",
      "       'highway_fuel_economy', 'horsepower', 'latitude', 'longitude',\n",
      "       'mileage', 'owner_count', 'price', 'savings_amount', 'seller_rating',\n",
      "       'year'],\n",
      "      dtype='object')\n"
     ]
    }
   ],
   "source": [
    "continuous_columns = cleaned_cars.select_dtypes(include=['float', 'int']).columns\n",
    "print(continuous_columns)"
   ]
  },
  {
   "cell_type": "code",
   "execution_count": 357,
   "id": "a498577f-81ea-499f-b5d0-bbf214602ea9",
   "metadata": {},
   "outputs": [
    {
     "data": {
      "text/plain": [
       "year\n",
       "2020    732928\n",
       "2017    167697\n",
       "2019    136095\n",
       "2018     98064\n",
       "2021     55363\n",
       "Name: count, dtype: int64"
      ]
     },
     "execution_count": 357,
     "metadata": {},
     "output_type": "execute_result"
    }
   ],
   "source": [
    "cleaned_cars.year.value_counts().head()"
   ]
  },
  {
   "cell_type": "code",
   "execution_count": null,
   "id": "bc355dee-2115-4561-b23a-b05a4cbd8d94",
   "metadata": {},
   "outputs": [],
   "source": []
  },
  {
   "cell_type": "code",
   "execution_count": null,
   "id": "1faab115-93ba-4a9b-8e38-6633aac115f7",
   "metadata": {},
   "outputs": [],
   "source": []
  },
  {
   "cell_type": "code",
   "execution_count": 358,
   "id": "1a10d99b-aad9-4426-8130-f5ad55b83ee6",
   "metadata": {},
   "outputs": [],
   "source": [
    "# Some feature engineering-\n",
    "cleaned_cars['back_legroom'] = pd.to_numeric(cleaned_cars['back_legroom'].str.replace(' in', '', regex=False), errors='coerce')\n"
   ]
  },
  {
   "cell_type": "code",
   "execution_count": 359,
   "id": "2afaad64-0531-4300-847e-919fad5dc56e",
   "metadata": {},
   "outputs": [],
   "source": [
    "cleaned_cars['front_legroom'] = pd.to_numeric(cleaned_cars['front_legroom'].str.replace(' in', '', regex=False), errors='coerce')\n"
   ]
  },
  {
   "cell_type": "code",
   "execution_count": 360,
   "id": "aaecdb83-7834-42cd-b403-595c7c91141e",
   "metadata": {},
   "outputs": [],
   "source": [
    "cleaned_cars['fuel_tank_volume'] = pd.to_numeric(cleaned_cars['fuel_tank_volume'].str.replace(' gal', '', regex=False), errors='coerce')\n"
   ]
  },
  {
   "cell_type": "code",
   "execution_count": 361,
   "id": "2fb3346e-f903-4d08-9b6f-cedddc68ac82",
   "metadata": {},
   "outputs": [],
   "source": [
    "cleaned_cars['height'] = pd.to_numeric(cleaned_cars['height'].str.replace(' in', '', regex=False), errors='coerce')"
   ]
  },
  {
   "cell_type": "code",
   "execution_count": 362,
   "id": "fa654162-e1f3-4c87-973d-315dd72e1463",
   "metadata": {},
   "outputs": [],
   "source": [
    "cleaned_cars['length'] = pd.to_numeric(cleaned_cars['length'].str.replace(' in', '', regex=False), errors='coerce')\n"
   ]
  },
  {
   "cell_type": "code",
   "execution_count": null,
   "id": "22a15a7c-49d8-4635-91ae-fe4ea6a55266",
   "metadata": {},
   "outputs": [],
   "source": []
  },
  {
   "cell_type": "code",
   "execution_count": 363,
   "id": "60fa386f-92cb-47e0-8050-31ed1d6a54c1",
   "metadata": {},
   "outputs": [
    {
     "data": {
      "text/plain": [
       "['back_legroom', 'front_legroom', 'fuel_tank_volume', 'height', 'length']"
      ]
     },
     "execution_count": 363,
     "metadata": {},
     "output_type": "execute_result"
    }
   ],
   "source": [
    "['back_legroom','front_legroom','fuel_tank_volume','height','length']  #columns where feature engineering is done to convert them to numerical columns"
   ]
  },
  {
   "cell_type": "code",
   "execution_count": null,
   "id": "c39d20b2-a5cf-4fa7-b7f1-2e8aa3a9ff93",
   "metadata": {},
   "outputs": [],
   "source": []
  },
  {
   "cell_type": "code",
   "execution_count": null,
   "id": "25392fa8-2e09-4c3c-8db8-55bed867a6a3",
   "metadata": {},
   "outputs": [],
   "source": []
  },
  {
   "cell_type": "code",
   "execution_count": null,
   "id": "9f3a8053-18a5-4fde-89c0-9648d1c7ffd2",
   "metadata": {},
   "outputs": [],
   "source": []
  },
  {
   "cell_type": "code",
   "execution_count": null,
   "id": "e11de62c-c05b-4ad1-8597-4968e04006e5",
   "metadata": {},
   "outputs": [],
   "source": []
  },
  {
   "cell_type": "code",
   "execution_count": null,
   "id": "059a4f95-235b-4f8f-a452-651166e94f61",
   "metadata": {},
   "outputs": [],
   "source": []
  },
  {
   "cell_type": "markdown",
   "id": "cff0a30a-717c-4164-8f59-c1d3eba1b109",
   "metadata": {},
   "source": [
    "# Descriptive Analysis-"
   ]
  },
  {
   "cell_type": "code",
   "execution_count": 378,
   "id": "cff8840a-5de7-4ca4-9def-218ab120bae9",
   "metadata": {},
   "outputs": [],
   "source": [
    "# 1. Univariate analysis"
   ]
  },
  {
   "cell_type": "code",
   "execution_count": 379,
   "id": "9118a8ae-84a0-4649-91dc-a27ea90a3812",
   "metadata": {},
   "outputs": [
    {
     "data": {
      "image/png": "[encoded data removed]",
      "text/plain": [
       "<Figure size 640x480 with 1 Axes>"
      ]
     },
     "metadata": {},
     "output_type": "display_data"
    }
   ],
   "source": [
    "# I) for price column - Histogram\n",
    "\n",
    "plt.hist(cleaned_cars['price'], bins=20, color='skyblue', edgecolor='black')\n",
    "plt.title('Distribution of Price')\n",
    "plt.xlabel('Price')\n",
    "plt.ylabel('Frequency')\n",
    "plt.show()"
   ]
  },
  {
   "cell_type": "code",
   "execution_count": 380,
   "id": "581d9fcc-3a54-40d0-85e9-d2d30fe800bc",
   "metadata": {},
   "outputs": [
    {
     "data": {
      "image/png": "[encoded data removed]",
      "text/plain": [
       "<Figure size 640x480 with 1 Axes>"
      ]
     },
     "metadata": {},
     "output_type": "display_data"
    }
   ],
   "source": [
    "# II) for price column - Boxplot\n",
    "\n",
    "plt.boxplot(cleaned_cars['price'])\n",
    "plt.title('Box Plot of Price')\n",
    "plt.ylabel('Price')\n",
    "plt.show()"
   ]
  },
  {
   "cell_type": "code",
   "execution_count": 381,
   "id": "afee4675-75f7-4529-b956-16396b7bdebc",
   "metadata": {},
   "outputs": [],
   "source": [
    "# 2. Bivariate analysis"
   ]
  },
  {
   "cell_type": "code",
   "execution_count": 382,
   "id": "f40f75ff-b6f5-4e1a-a464-f2249bb4b5d1",
   "metadata": {},
   "outputs": [
    {
     "data": {
      "image/png": "[encoded data removed]",
      "text/plain": [
       "<Figure size 640x480 with 1 Axes>"
      ]
     },
     "metadata": {},
     "output_type": "display_data"
    }
   ],
   "source": [
    "# I) for price vs city_fuel_economy - scatter plot\n",
    "\n",
    "plt.scatter(cleaned_cars['city_fuel_economy'], cleaned_cars['price'], alpha=0.5)\n",
    "plt.title('Price vs City Fuel Economy')\n",
    "plt.xlabel('City Fuel Economy')\n",
    "plt.ylabel('Price')\n",
    "plt.show()"
   ]
  },
  {
   "cell_type": "code",
   "execution_count": 383,
   "id": "352d8d65-5dec-413e-aeb6-471f8dddef2d",
   "metadata": {},
   "outputs": [],
   "source": [
    "# II) for body_type vs price - Bar plot"
   ]
  },
  {
   "cell_type": "code",
   "execution_count": 388,
   "id": "2bd34469-54b4-4775-8c2d-87ded27eb22e",
   "metadata": {},
   "outputs": [
    {
     "data": {
      "image/png": "[encoded data removed]",
      "text/plain": [
       "<Figure size 1500x500 with 1 Axes>"
      ]
     },
     "metadata": {},
     "output_type": "display_data"
    }
   ],
   "source": [
    "plt.figure(figsize=(15,5))\n",
    "sns.barplot(x='body_type', y='price', data=cleaned_cars)\n",
    "plt.title('Average Price by Vehicle Type')\n",
    "plt.xlabel('Vehicle Type')\n",
    "plt.ylabel('Average Price')\n",
    "plt.show()"
   ]
  },
  {
   "cell_type": "code",
   "execution_count": 385,
   "id": "d74b64f7-ba24-4636-98d2-ba568e6ed5a0",
   "metadata": {},
   "outputs": [],
   "source": [
    "# 3. Multivariate analysis"
   ]
  },
  {
   "cell_type": "code",
   "execution_count": 386,
   "id": "57e7c454-23b9-446c-b471-c09fef39b653",
   "metadata": {},
   "outputs": [
    {
     "data": {
      "image/png": "[encoded data removed]",
      "text/plain": [
       "<Figure size 1600x1200 with 1 Axes>"
      ]
     },
     "metadata": {},
     "output_type": "display_data"
    }
   ],
   "source": [
    "# I) for body_type and city_fuel_economy vs price\n",
    "\n",
    "plt.figure(figsize=(16,12))\n",
    "sns.barplot(x='body_type', y='price', hue='city_fuel_economy', data=cleaned_cars)\n",
    "plt.title('Price by Vehicle Type and City Fuel Economy')\n",
    "plt.xlabel('Vehicle Type')\n",
    "plt.ylabel('Price')\n",
    "plt.show()"
   ]
  },
  {
   "cell_type": "code",
   "execution_count": null,
   "id": "8c886dfd-497d-4c2d-9c52-007b804bb498",
   "metadata": {},
   "outputs": [],
   "source": []
  },
  {
   "cell_type": "code",
   "execution_count": null,
   "id": "6bbb4234-dda3-474e-802a-2a0d5d96b29d",
   "metadata": {},
   "outputs": [],
   "source": []
  },
  {
   "cell_type": "code",
   "execution_count": null,
   "id": "dcd9b9d1-5615-4744-8678-395f0e7141a5",
   "metadata": {},
   "outputs": [],
   "source": []
  },
  {
   "cell_type": "code",
   "execution_count": 364,
   "id": "25a5cdc4-09ac-4bf6-967f-caa45e3db2e2",
   "metadata": {},
   "outputs": [
    {
     "data": {
      "image/png": "[encoded data removed]",
      "text/plain": [
       "<Figure size 500x300 with 1 Axes>"
      ]
     },
     "metadata": {},
     "output_type": "display_data"
    }
   ],
   "source": [
    "plt.figure(figsize=(5,3))\n",
    "sns.scatterplot(x='city_fuel_economy', y='price', data=cleaned_cars, alpha=0.6)\n",
    "plt.title('Price vs City Fuel Economy')\n",
    "plt.xlabel('City Fuel Economy (mpg)')\n",
    "plt.ylabel('Price ($)')\n",
    "plt.show()"
   ]
  },
  {
   "cell_type": "code",
   "execution_count": null,
   "id": "b9948f24-c33a-4895-8a0f-ab8f664c45ae",
   "metadata": {},
   "outputs": [],
   "source": []
  },
  {
   "cell_type": "code",
   "execution_count": 365,
   "id": "6ba0d3e3-05c8-4939-a8e3-0384aaa1bbb5",
   "metadata": {},
   "outputs": [
    {
     "data": {
      "text/plain": [
       "<Axes: xlabel='year', ylabel='Count'>"
      ]
     },
     "execution_count": 365,
     "metadata": {},
     "output_type": "execute_result"
    },
    {
     "data": {
      "image/png": "[encoded data removed]",
      "text/plain": [
       "<Figure size 640x480 with 1 Axes>"
      ]
     },
     "metadata": {},
     "output_type": "display_data"
    }
   ],
   "source": [
    "sns.histplot(data=cleaned_cars,x='year',bins=20)"
   ]
  },
  {
   "cell_type": "code",
   "execution_count": 389,
   "id": "093a37c3-ed0e-4f4f-93b9-436be628be03",
   "metadata": {},
   "outputs": [],
   "source": [
    "#Above plot shows sales of cars over the years. We can see it is left skewed"
   ]
  },
  {
   "cell_type": "code",
   "execution_count": 367,
   "id": "1a4fbc03-b113-4cec-8092-70c555ca4004",
   "metadata": {},
   "outputs": [
    {
     "data": {
      "text/plain": [
       "<Axes: xlabel='year', ylabel='price'>"
      ]
     },
     "execution_count": 367,
     "metadata": {},
     "output_type": "execute_result"
    },
    {
     "data": {
      "image/png": "[encoded data removed]",
      "text/plain": [
       "<Figure size 640x480 with 1 Axes>"
      ]
     },
     "metadata": {},
     "output_type": "display_data"
    }
   ],
   "source": [
    "sns.lineplot(data=cleaned_cars,x='year',y='price')"
   ]
  },
  {
   "cell_type": "code",
   "execution_count": 392,
   "id": "93258bc8-693d-4f28-9079-1475d50833d3",
   "metadata": {},
   "outputs": [],
   "source": [
    "#Above plot shows price of cars over the years. \n",
    "# The trend shows that before the year 2000, the prices of the cars were higher as compared to after the year 2000."
   ]
  },
  {
   "cell_type": "code",
   "execution_count": 369,
   "id": "92136a9c-f571-4b37-bdc6-878dbd9258a5",
   "metadata": {},
   "outputs": [
    {
     "name": "stderr",
     "output_type": "stream",
     "text": [
      "C:\\Users\\AAYUSH\\AppData\\Local\\Temp\\ipykernel_19036\\1466270632.py:2: FutureWarning: \n",
      "\n",
      "Passing `palette` without assigning `hue` is deprecated and will be removed in v0.14.0. Assign the `x` variable to `hue` and set `legend=False` for the same effect.\n",
      "\n",
      "  sns.countplot(x='fuel_type', data=cleaned_cars, palette=\"viridis\")\n"
     ]
    },
    {
     "data": {
      "image/png": "[encoded data removed]",
      "text/plain": [
       "<Figure size 1500x500 with 1 Axes>"
      ]
     },
     "metadata": {},
     "output_type": "display_data"
    }
   ],
   "source": [
    "plt.figure(figsize=(15, 5))\n",
    "sns.countplot(x='fuel_type', data=cleaned_cars, palette=\"viridis\")\n",
    "plt.title(\"Count of Cars by Fuel Type\", fontsize=14)\n",
    "plt.xlabel(\"Fuel Type\", fontsize=12)\n",
    "plt.ylabel(\"Count\", fontsize=12)\n",
    "plt.show()"
   ]
  },
  {
   "cell_type": "code",
   "execution_count": 370,
   "id": "1606f334-c2c8-4c12-a22e-74513761c435",
   "metadata": {},
   "outputs": [],
   "source": [
    "#above plot shows that max cars have fuel_type- 'Gasoline'"
   ]
  },
  {
   "cell_type": "code",
   "execution_count": null,
   "id": "bcae6c57-ecd1-4127-98a9-e35c2ad4f3c2",
   "metadata": {},
   "outputs": [],
   "source": []
  },
  {
   "cell_type": "code",
   "execution_count": 377,
   "id": "59df4505-5ff8-4496-9c5d-b2962697b5f5",
   "metadata": {},
   "outputs": [
    {
     "data": {
      "image/png": "[encoded data removed]",
      "text/plain": [
       "<Figure size 800x600 with 1 Axes>"
      ]
     },
     "metadata": {},
     "output_type": "display_data"
    }
   ],
   "source": [
    "plt.figure(figsize=(8, 6))\n",
    "avg_price_per_year = cars.groupby('year')['price'].mean()\n",
    "avg_price_per_year.plot(kind='line', marker='o', color='blue')\n",
    "plt.title(\"Average Car Price Over Years\", fontsize=14)\n",
    "plt.xlabel(\"Year of Manufacturing\", fontsize=12)\n",
    "plt.ylabel(\"Average Price\", fontsize=12)\n",
    "plt.grid()\n",
    "plt.show()"
   ]
  },
  {
   "cell_type": "code",
   "execution_count": null,
   "id": "5945204e-7b0c-43a2-9518-1f173e457739",
   "metadata": {},
   "outputs": [],
   "source": []
  },
  {
   "cell_type": "code",
   "execution_count": null,
   "id": "d5e7ca44-ff03-4f96-b1dc-17157cd66d72",
   "metadata": {},
   "outputs": [],
   "source": []
  },
  {
   "cell_type": "code",
   "execution_count": null,
   "id": "647b59d2-109a-492a-bf2f-3bdce61effcc",
   "metadata": {},
   "outputs": [],
   "source": []
  },
  {
   "cell_type": "code",
   "execution_count": null,
   "id": "a2280c5f-eb94-43e1-b847-2a1b798174e3",
   "metadata": {},
   "outputs": [],
   "source": []
  },
  {
   "cell_type": "code",
   "execution_count": null,
   "id": "1514d936-e14b-45a8-b104-51d8451a9382",
   "metadata": {},
   "outputs": [],
   "source": []
  },
  {
   "cell_type": "code",
   "execution_count": null,
   "id": "5adddbd6-29ba-420f-9918-ce0ebf43a462",
   "metadata": {},
   "outputs": [],
   "source": []
  },
  {
   "cell_type": "code",
   "execution_count": null,
   "id": "cc0679bd-84cc-4446-b432-d4d75e3514c7",
   "metadata": {},
   "outputs": [],
   "source": []
  },
  {
   "cell_type": "code",
   "execution_count": null,
   "id": "1d88b5da-ad95-4706-92bc-642c9af349af",
   "metadata": {},
   "outputs": [],
   "source": []
  },
  {
   "cell_type": "code",
   "execution_count": null,
   "id": "78346b95-6ead-438c-8739-b062efd34106",
   "metadata": {},
   "outputs": [],
   "source": []
  },
  {
   "cell_type": "code",
   "execution_count": null,
   "id": "7df9ff6e-615d-4ab8-a0a1-03e9bf313838",
   "metadata": {},
   "outputs": [],
   "source": []
  },
  {
   "cell_type": "code",
   "execution_count": null,
   "id": "2dffdc46-d380-4d70-9ad5-345093b54a1a",
   "metadata": {},
   "outputs": [],
   "source": []
  },
  {
   "cell_type": "code",
   "execution_count": null,
   "id": "62648c41-83ac-4ee3-bfe6-38caf8143a3b",
   "metadata": {},
   "outputs": [],
   "source": []
  },
  {
   "cell_type": "code",
   "execution_count": null,
   "id": "9ddd44f4-d652-4d74-869c-d19599397600",
   "metadata": {},
   "outputs": [],
   "source": []
  },
  {
   "cell_type": "code",
   "execution_count": 371,
   "id": "f0c99455-f3bf-460e-b40c-36b851f0eb70",
   "metadata": {},
   "outputs": [],
   "source": [
    "for_corr=cleaned_cars[['city_fuel_economy', 'daysonmarket', 'engine_displacement',\n",
    "       'highway_fuel_economy', 'horsepower',\n",
    "       'mileage', 'owner_count', 'savings_amount', 'seller_rating','back_legroom', 'front_legroom', 'fuel_tank_volume', 'height', 'length','price']]"
   ]
  },
  {
   "cell_type": "code",
   "execution_count": 372,
   "id": "8166de19-64fe-4149-bd77-f4e69af11b5a",
   "metadata": {},
   "outputs": [],
   "source": [
    "corr_mat = for_corr.corr().round(2)"
   ]
  },
  {
   "cell_type": "code",
   "execution_count": 373,
   "id": "97478db2-b2cf-4fd6-8f49-592cec596e72",
   "metadata": {},
   "outputs": [
    {
     "data": {
      "text/plain": [
       "city_fuel_economy      -0.426465\n",
       "daysonmarket            0.112649\n",
       "engine_displacement     0.419950\n",
       "highway_fuel_economy   -0.447247\n",
       "horsepower              0.631933\n",
       "mileage                -0.374135\n",
       "owner_count            -0.206647\n",
       "savings_amount          0.000895\n",
       "seller_rating           0.103036\n",
       "back_legroom            0.300566\n",
       "front_legroom           0.055443\n",
       "fuel_tank_volume        0.462922\n",
       "height                  0.314483\n",
       "length                  0.393252\n",
       "price                   1.000000\n",
       "Name: price, dtype: float64"
      ]
     },
     "execution_count": 373,
     "metadata": {},
     "output_type": "execute_result"
    }
   ],
   "source": [
    "for_corr.corr()['price']"
   ]
  },
  {
   "cell_type": "code",
   "execution_count": 374,
   "id": "577a70f1-5cf8-461c-9ffe-bb096f7ce0de",
   "metadata": {},
   "outputs": [
    {
     "data": {
      "text/plain": [
       "<Axes: >"
      ]
     },
     "execution_count": 374,
     "metadata": {},
     "output_type": "execute_result"
    },
    {
     "data": {
      "image/png": "[encoded data removed]",
      "text/plain": [
       "<Figure size 1000x1000 with 2 Axes>"
      ]
     },
     "metadata": {},
     "output_type": "display_data"
    }
   ],
   "source": [
    "plt.figure(figsize=(10,10))\n",
    "sns.heatmap(corr_mat,annot=True)"
   ]
  },
  {
   "cell_type": "code",
   "execution_count": 375,
   "id": "842b53dc-59d8-4b32-9135-96d6613d72a3",
   "metadata": {},
   "outputs": [],
   "source": [
    "# (for_corr.corr()['price']>-0.5)"
   ]
  },
  {
   "cell_type": "code",
   "execution_count": null,
   "id": "fa9ab0fa-04b2-4d59-9b69-6dbcb7b22e84",
   "metadata": {},
   "outputs": [],
   "source": []
  },
  {
   "cell_type": "markdown",
   "id": "b9d7550f-78e5-4b6a-b0b9-5699339af8b5",
   "metadata": {},
   "source": [
    "Important continuous columns for model-\n",
    "1. highway fuel economy\n",
    "2. engine_displacement\n",
    "3. city fuel economy\n",
    "4. mileage"
   ]
  },
  {
   "cell_type": "code",
   "execution_count": null,
   "id": "adc511c9-575f-4e95-b4a1-e6314c8b95b9",
   "metadata": {},
   "outputs": [],
   "source": []
  },
  {
   "cell_type": "code",
   "execution_count": 376,
   "id": "a6c16411-50c7-44fe-beda-94c8ed905389",
   "metadata": {},
   "outputs": [
    {
     "data": {
      "text/plain": [
       "38         15.8\n",
       "40         17.4\n",
       "41         19.4\n",
       "45         22.0\n",
       "47         24.6\n",
       "           ... \n",
       "3000011    19.4\n",
       "3000024    27.8\n",
       "3000025    15.5\n",
       "3000026    14.0\n",
       "3000036    19.4\n",
       "Name: fuel_tank_volume, Length: 1343523, dtype: float64"
      ]
     },
     "execution_count": 376,
     "metadata": {},
     "output_type": "execute_result"
    }
   ],
   "source": [
    "cleaned_cars['fuel_tank_volume']"
   ]
  },
  {
   "cell_type": "code",
   "execution_count": null,
   "id": "0bb6e7a6-28a3-481a-be4c-b1621f917af7",
   "metadata": {},
   "outputs": [],
   "source": []
  }
 ],
 "metadata": {
  "kernelspec": {
   "display_name": "Python 3 (ipykernel)",
   "language": "python",
   "name": "python3"
  },
  "language_info": {
   "codemirror_mode": {
    "name": "ipython",
    "version": 3
   },
   "file_extension": ".py",
   "mimetype": "text/x-python",
   "name": "python",
   "nbconvert_exporter": "python",
   "pygments_lexer": "ipython3",
   "version": "3.12.5"
  }
 },
 "nbformat": 4,
 "nbformat_minor": 5
}
